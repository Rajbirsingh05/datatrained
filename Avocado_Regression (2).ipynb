{
 "cells": [
  {
   "cell_type": "markdown",
   "metadata": {
    "id": "BxmW0Hm3zrsP"
   },
   "source": [
    "# Avocado Price prediction- A regression problem<br>\n",
    "Avocado is a fruit and it is liked by United state people mostly. it comes in different varieties and sizes. Product code is also given to them. There has also grown in two ways one is conventional and second one in organic ways. it is labeled as organic after meeting all the organic compliance patameters.<br><br>\n",
    "**About dataset:**<br>\n",
    "Dataset has pure 1517 observations with 13 columns including one target. Dataset has lot of missing values which needs treatment. features details are mentioned below<br>\n",
    "\n",
    "**Feature details**<br>\n",
    "Date == The date of the observation<br>\n",
    "AveragePrice == the average price of a single avocado<br>\n",
    "type == conventional or organic<br>\n",
    "year == The year<br>\n",
    "Region == the city or region of the observation <br>\n",
    "Total Volume == Total number of avocados sold <br>\n",
    "4046 ==  Total number of avocados with PLU 4046 sold<br>\n",
    "4225 ==  Total number of avocados with PLU 4225 sold<br>\n",
    "4770 ==  Total number of avocados with PLU 4770 sold<>\n",
    "Total Bags == Numbe of bags used \n",
    "Small Bags == number of small bag used\n",
    "large bags =  Number of large bag used\n",
    "XLarge bags = number of Xtra lage bag used\n",
    "\n"
   ]
  },
  {
   "cell_type": "code",
   "execution_count": 1,
   "metadata": {
    "colab": {
     "base_uri": "https://localhost:8080/",
     "height": 72,
     "resources": {
      "http://localhost:8080/nbextensions/google.colab/files.js": {
       "data": "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",
       "headers": [
        [
         "content-type",
         "application/javascript"
        ]
       ],
       "ok": true,
       "status": 200,
       "status_text": ""
      }
     }
    },
    "id": "uqlz3xFmZQp3",
    "outputId": "a057c941-1455-41ac-f16c-d6c7ee4642ec"
   },
   "outputs": [],
   "source": [
    "import matplotlib.pyplot as plt\n",
    "import seaborn as sns\n",
    "import pandas as pd\n",
    "import numpy as np\n",
    "from sklearn.model_selection import train_test_split, GridSearchCV, RandomizedSearchCV, cross_val_score\n",
    "from sklearn.preprocessing import StandardScaler \n",
    "from sklearn.linear_model import LinearRegression , Ridge, Lasso\n",
    "from sklearn.ensemble import RandomForestRegressor , AdaBoostRegressor\n",
    "from sklearn.tree import DecisionTreeRegressor\n",
    "from sklearn.svm import SVR\n",
    "from sklearn.neighbors import KNeighborsRegressor\n",
    "from sklearn.metrics import r2_score,mean_squared_error\n",
    "avocado_ds = pd.read_csv(\"Avacado_data.csv\")"
   ]
  },
  {
   "cell_type": "code",
   "execution_count": 2,
   "metadata": {
    "colab": {
     "base_uri": "https://localhost:8080/",
     "height": 204
    },
    "id": "PmsPgE-9eEIn",
    "outputId": "12486129-365f-4e30-f879-acae4950cb86"
   },
   "outputs": [
    {
     "data": {
      "text/html": [
       "<div>\n",
       "<style scoped>\n",
       "    .dataframe tbody tr th:only-of-type {\n",
       "        vertical-align: middle;\n",
       "    }\n",
       "\n",
       "    .dataframe tbody tr th {\n",
       "        vertical-align: top;\n",
       "    }\n",
       "\n",
       "    .dataframe thead th {\n",
       "        text-align: right;\n",
       "    }\n",
       "</style>\n",
       "<table border=\"1\" class=\"dataframe\">\n",
       "  <thead>\n",
       "    <tr style=\"text-align: right;\">\n",
       "      <th></th>\n",
       "      <th>Unnamed: 0</th>\n",
       "      <th>Date</th>\n",
       "      <th>AveragePrice</th>\n",
       "      <th>Total Volume</th>\n",
       "      <th>4046</th>\n",
       "      <th>4225</th>\n",
       "      <th>4770</th>\n",
       "      <th>Total Bags</th>\n",
       "      <th>Small Bags</th>\n",
       "      <th>Large Bags</th>\n",
       "      <th>XLarge Bags</th>\n",
       "      <th>type</th>\n",
       "      <th>year</th>\n",
       "      <th>region</th>\n",
       "    </tr>\n",
       "  </thead>\n",
       "  <tbody>\n",
       "    <tr>\n",
       "      <th>0</th>\n",
       "      <td>0.0</td>\n",
       "      <td>27-12-2015</td>\n",
       "      <td>1.33</td>\n",
       "      <td>64236.62</td>\n",
       "      <td>1036.74</td>\n",
       "      <td>54454.85</td>\n",
       "      <td>48.16</td>\n",
       "      <td>8696.87</td>\n",
       "      <td>8603.62</td>\n",
       "      <td>93.25</td>\n",
       "      <td>0.0</td>\n",
       "      <td>conventional</td>\n",
       "      <td>2015.0</td>\n",
       "      <td>Albany</td>\n",
       "    </tr>\n",
       "    <tr>\n",
       "      <th>1</th>\n",
       "      <td>1.0</td>\n",
       "      <td>20-12-2015</td>\n",
       "      <td>1.35</td>\n",
       "      <td>54876.98</td>\n",
       "      <td>674.28</td>\n",
       "      <td>44638.81</td>\n",
       "      <td>58.33</td>\n",
       "      <td>9505.56</td>\n",
       "      <td>9408.07</td>\n",
       "      <td>97.49</td>\n",
       "      <td>0.0</td>\n",
       "      <td>conventional</td>\n",
       "      <td>2015.0</td>\n",
       "      <td>Albany</td>\n",
       "    </tr>\n",
       "    <tr>\n",
       "      <th>2</th>\n",
       "      <td>2.0</td>\n",
       "      <td>13-12-2015</td>\n",
       "      <td>0.93</td>\n",
       "      <td>118220.22</td>\n",
       "      <td>794.70</td>\n",
       "      <td>109149.67</td>\n",
       "      <td>130.50</td>\n",
       "      <td>8145.35</td>\n",
       "      <td>8042.21</td>\n",
       "      <td>103.14</td>\n",
       "      <td>0.0</td>\n",
       "      <td>conventional</td>\n",
       "      <td>2015.0</td>\n",
       "      <td>Albany</td>\n",
       "    </tr>\n",
       "    <tr>\n",
       "      <th>3</th>\n",
       "      <td>3.0</td>\n",
       "      <td>06-12-2015</td>\n",
       "      <td>1.08</td>\n",
       "      <td>78992.15</td>\n",
       "      <td>1132.00</td>\n",
       "      <td>71976.41</td>\n",
       "      <td>72.58</td>\n",
       "      <td>5811.16</td>\n",
       "      <td>5677.40</td>\n",
       "      <td>133.76</td>\n",
       "      <td>0.0</td>\n",
       "      <td>conventional</td>\n",
       "      <td>2015.0</td>\n",
       "      <td>Albany</td>\n",
       "    </tr>\n",
       "    <tr>\n",
       "      <th>4</th>\n",
       "      <td>4.0</td>\n",
       "      <td>29-11-2015</td>\n",
       "      <td>1.28</td>\n",
       "      <td>51039.60</td>\n",
       "      <td>941.48</td>\n",
       "      <td>43838.39</td>\n",
       "      <td>75.78</td>\n",
       "      <td>6183.95</td>\n",
       "      <td>5986.26</td>\n",
       "      <td>197.69</td>\n",
       "      <td>0.0</td>\n",
       "      <td>conventional</td>\n",
       "      <td>2015.0</td>\n",
       "      <td>Albany</td>\n",
       "    </tr>\n",
       "  </tbody>\n",
       "</table>\n",
       "</div>"
      ],
      "text/plain": [
       "   Unnamed: 0        Date  AveragePrice  Total Volume     4046       4225  \\\n",
       "0         0.0  27-12-2015          1.33      64236.62  1036.74   54454.85   \n",
       "1         1.0  20-12-2015          1.35      54876.98   674.28   44638.81   \n",
       "2         2.0  13-12-2015          0.93     118220.22   794.70  109149.67   \n",
       "3         3.0  06-12-2015          1.08      78992.15  1132.00   71976.41   \n",
       "4         4.0  29-11-2015          1.28      51039.60   941.48   43838.39   \n",
       "\n",
       "     4770  Total Bags  Small Bags  Large Bags  XLarge Bags          type  \\\n",
       "0   48.16     8696.87     8603.62       93.25          0.0  conventional   \n",
       "1   58.33     9505.56     9408.07       97.49          0.0  conventional   \n",
       "2  130.50     8145.35     8042.21      103.14          0.0  conventional   \n",
       "3   72.58     5811.16     5677.40      133.76          0.0  conventional   \n",
       "4   75.78     6183.95     5986.26      197.69          0.0  conventional   \n",
       "\n",
       "     year  region  \n",
       "0  2015.0  Albany  \n",
       "1  2015.0  Albany  \n",
       "2  2015.0  Albany  \n",
       "3  2015.0  Albany  \n",
       "4  2015.0  Albany  "
      ]
     },
     "execution_count": 2,
     "metadata": {},
     "output_type": "execute_result"
    }
   ],
   "source": [
    "avocado_ds.head() # checking top 5 observations"
   ]
  },
  {
   "cell_type": "code",
   "execution_count": 3,
   "metadata": {
    "colab": {
     "base_uri": "https://localhost:8080/",
     "height": 204
    },
    "id": "WjH8_eK0ePsf",
    "outputId": "f42e71d1-c1d2-4ab9-883d-378714d3a760"
   },
   "outputs": [
    {
     "data": {
      "text/html": [
       "<div>\n",
       "<style scoped>\n",
       "    .dataframe tbody tr th:only-of-type {\n",
       "        vertical-align: middle;\n",
       "    }\n",
       "\n",
       "    .dataframe tbody tr th {\n",
       "        vertical-align: top;\n",
       "    }\n",
       "\n",
       "    .dataframe thead th {\n",
       "        text-align: right;\n",
       "    }\n",
       "</style>\n",
       "<table border=\"1\" class=\"dataframe\">\n",
       "  <thead>\n",
       "    <tr style=\"text-align: right;\">\n",
       "      <th></th>\n",
       "      <th>Unnamed: 0</th>\n",
       "      <th>Date</th>\n",
       "      <th>AveragePrice</th>\n",
       "      <th>Total Volume</th>\n",
       "      <th>4046</th>\n",
       "      <th>4225</th>\n",
       "      <th>4770</th>\n",
       "      <th>Total Bags</th>\n",
       "      <th>Small Bags</th>\n",
       "      <th>Large Bags</th>\n",
       "      <th>XLarge Bags</th>\n",
       "      <th>type</th>\n",
       "      <th>year</th>\n",
       "      <th>region</th>\n",
       "    </tr>\n",
       "  </thead>\n",
       "  <tbody>\n",
       "    <tr>\n",
       "      <th>16463</th>\n",
       "      <td>NaN</td>\n",
       "      <td>NaN</td>\n",
       "      <td>NaN</td>\n",
       "      <td>NaN</td>\n",
       "      <td>NaN</td>\n",
       "      <td>NaN</td>\n",
       "      <td>NaN</td>\n",
       "      <td>NaN</td>\n",
       "      <td>NaN</td>\n",
       "      <td>NaN</td>\n",
       "      <td>NaN</td>\n",
       "      <td>NaN</td>\n",
       "      <td>NaN</td>\n",
       "      <td>NaN</td>\n",
       "    </tr>\n",
       "    <tr>\n",
       "      <th>16464</th>\n",
       "      <td>NaN</td>\n",
       "      <td>NaN</td>\n",
       "      <td>NaN</td>\n",
       "      <td>NaN</td>\n",
       "      <td>NaN</td>\n",
       "      <td>NaN</td>\n",
       "      <td>NaN</td>\n",
       "      <td>NaN</td>\n",
       "      <td>NaN</td>\n",
       "      <td>NaN</td>\n",
       "      <td>NaN</td>\n",
       "      <td>NaN</td>\n",
       "      <td>NaN</td>\n",
       "      <td>NaN</td>\n",
       "    </tr>\n",
       "    <tr>\n",
       "      <th>16465</th>\n",
       "      <td>NaN</td>\n",
       "      <td>NaN</td>\n",
       "      <td>NaN</td>\n",
       "      <td>NaN</td>\n",
       "      <td>NaN</td>\n",
       "      <td>NaN</td>\n",
       "      <td>NaN</td>\n",
       "      <td>NaN</td>\n",
       "      <td>NaN</td>\n",
       "      <td>NaN</td>\n",
       "      <td>NaN</td>\n",
       "      <td>NaN</td>\n",
       "      <td>NaN</td>\n",
       "      <td>NaN</td>\n",
       "    </tr>\n",
       "    <tr>\n",
       "      <th>16466</th>\n",
       "      <td>NaN</td>\n",
       "      <td>NaN</td>\n",
       "      <td>NaN</td>\n",
       "      <td>NaN</td>\n",
       "      <td>NaN</td>\n",
       "      <td>NaN</td>\n",
       "      <td>NaN</td>\n",
       "      <td>NaN</td>\n",
       "      <td>NaN</td>\n",
       "      <td>NaN</td>\n",
       "      <td>NaN</td>\n",
       "      <td>NaN</td>\n",
       "      <td>NaN</td>\n",
       "      <td>NaN</td>\n",
       "    </tr>\n",
       "    <tr>\n",
       "      <th>16467</th>\n",
       "      <td>NaN</td>\n",
       "      <td>NaN</td>\n",
       "      <td>NaN</td>\n",
       "      <td>NaN</td>\n",
       "      <td>NaN</td>\n",
       "      <td>NaN</td>\n",
       "      <td>NaN</td>\n",
       "      <td>NaN</td>\n",
       "      <td>NaN</td>\n",
       "      <td>NaN</td>\n",
       "      <td>NaN</td>\n",
       "      <td>NaN</td>\n",
       "      <td>NaN</td>\n",
       "      <td>NaN</td>\n",
       "    </tr>\n",
       "  </tbody>\n",
       "</table>\n",
       "</div>"
      ],
      "text/plain": [
       "       Unnamed: 0 Date  AveragePrice  Total Volume  4046  4225  4770  \\\n",
       "16463         NaN  NaN           NaN           NaN   NaN   NaN   NaN   \n",
       "16464         NaN  NaN           NaN           NaN   NaN   NaN   NaN   \n",
       "16465         NaN  NaN           NaN           NaN   NaN   NaN   NaN   \n",
       "16466         NaN  NaN           NaN           NaN   NaN   NaN   NaN   \n",
       "16467         NaN  NaN           NaN           NaN   NaN   NaN   NaN   \n",
       "\n",
       "       Total Bags  Small Bags  Large Bags  XLarge Bags type  year region  \n",
       "16463         NaN         NaN         NaN          NaN  NaN   NaN    NaN  \n",
       "16464         NaN         NaN         NaN          NaN  NaN   NaN    NaN  \n",
       "16465         NaN         NaN         NaN          NaN  NaN   NaN    NaN  \n",
       "16466         NaN         NaN         NaN          NaN  NaN   NaN    NaN  \n",
       "16467         NaN         NaN         NaN          NaN  NaN   NaN    NaN  "
      ]
     },
     "execution_count": 3,
     "metadata": {},
     "output_type": "execute_result"
    }
   ],
   "source": [
    "avocado_ds.tail()# checking last 5 observations"
   ]
  },
  {
   "cell_type": "markdown",
   "metadata": {
    "id": "2piMH0f4JeBY"
   },
   "source": [
    "Checking first 5 and last 5 observations, looking at the tail of the data, we have missing data in the dataset.<br>Also we ahve unnamed column in it which seems an index values. we will delete that. let check more info about the dataset's features"
   ]
  },
  {
   "cell_type": "code",
   "execution_count": 4,
   "metadata": {
    "colab": {
     "base_uri": "https://localhost:8080/"
    },
    "id": "SUxavOL0JLAR",
    "outputId": "0278eed0-49fa-4530-8038-0509e698ea38"
   },
   "outputs": [
    {
     "name": "stdout",
     "output_type": "stream",
     "text": [
      "<class 'pandas.core.frame.DataFrame'>\n",
      "RangeIndex: 16468 entries, 0 to 16467\n",
      "Data columns (total 14 columns):\n",
      " #   Column        Non-Null Count  Dtype  \n",
      "---  ------        --------------  -----  \n",
      " 0   Unnamed: 0    1517 non-null   float64\n",
      " 1   Date          1517 non-null   object \n",
      " 2   AveragePrice  1517 non-null   float64\n",
      " 3   Total Volume  1517 non-null   float64\n",
      " 4   4046          1517 non-null   float64\n",
      " 5   4225          1517 non-null   float64\n",
      " 6   4770          1517 non-null   float64\n",
      " 7   Total Bags    1517 non-null   float64\n",
      " 8   Small Bags    1517 non-null   float64\n",
      " 9   Large Bags    1517 non-null   float64\n",
      " 10  XLarge Bags   1517 non-null   float64\n",
      " 11  type          1517 non-null   object \n",
      " 12  year          1517 non-null   float64\n",
      " 13  region        1517 non-null   object \n",
      "dtypes: float64(11), object(3)\n",
      "memory usage: 1.8+ MB\n"
     ]
    }
   ],
   "source": [
    "avocado_ds.info() # checking information about the data set and its columns"
   ]
  },
  {
   "cell_type": "markdown",
   "metadata": {
    "id": "sqzzW-dzKDBN"
   },
   "source": [
    "Info function gives information that no missing value in the data but while checking the tail, it has obsered some missing data. we will correct that. <br> we have 13 columsn including Target column. 3 columsn are objects type and resta are all numeric in nature. we have date column also which is current object type, we will change its data type as well to datetime"
   ]
  },
  {
   "cell_type": "code",
   "execution_count": 5,
   "metadata": {
    "id": "6jWPnNPZJzog"
   },
   "outputs": [],
   "source": [
    "# deleting the unnamed column from the dataset as it has its own index\n",
    "avocado_ds.drop(\"Unnamed: 0\",axis=1, inplace = True)"
   ]
  },
  {
   "cell_type": "code",
   "execution_count": 6,
   "metadata": {
    "colab": {
     "base_uri": "https://localhost:8080/"
    },
    "id": "h08t1jnKQGKM",
    "outputId": "5d8d5842-6ed8-496b-b846-cd1886a82cda"
   },
   "outputs": [
    {
     "name": "stdout",
     "output_type": "stream",
     "text": [
      "(16468, 13)\n",
      "Index(['Date', 'AveragePrice', 'Total Volume', '4046', '4225', '4770',\n",
      "       'Total Bags', 'Small Bags', 'Large Bags', 'XLarge Bags', 'type', 'year',\n",
      "       'region'],\n",
      "      dtype='object')\n"
     ]
    }
   ],
   "source": [
    "# checking the shape of the dataset and columns in it\n",
    "print(avocado_ds.shape)\n",
    "print(avocado_ds.columns)"
   ]
  },
  {
   "cell_type": "markdown",
   "metadata": {
    "id": "vockthZHQeoA"
   },
   "source": [
    "Unnamed has been deleted successfully from the data set. now we will clean the dataset."
   ]
  },
  {
   "cell_type": "code",
   "execution_count": 7,
   "metadata": {
    "id": "qxjtC5UNQPbI"
   },
   "outputs": [],
   "source": [
    "# creating deep copy \n",
    "avocado_ds_work_file = avocado_ds.copy()"
   ]
  },
  {
   "cell_type": "code",
   "execution_count": 8,
   "metadata": {
    "id": "1x273MfTQyCT"
   },
   "outputs": [],
   "source": [
    "# replace the NaN with np.nan just to ensure it NaN wasnt actual NAN. \n",
    "avocado_ds_work_file.replace({\"NaN\": np.nan},inplace=True)"
   ]
  },
  {
   "cell_type": "code",
   "execution_count": 9,
   "metadata": {
    "id": "MF5_bZmdREHC"
   },
   "outputs": [],
   "source": [
    "# function for checking missing values\n",
    "def missing_val(x):\n",
    "  missing = {}\n",
    "  for i in avocado_ds_work_file.columns:\n",
    "    if avocado_ds_work_file[i].isnull().sum()> 0:\n",
    "      missing[i] = avocado_ds_work_file[i].isnull().sum()\n",
    "  print(missing,end = \" \")"
   ]
  },
  {
   "cell_type": "code",
   "execution_count": 10,
   "metadata": {
    "colab": {
     "base_uri": "https://localhost:8080/"
    },
    "id": "4l0SACdrRYN0",
    "outputId": "a20003ce-d77e-49a7-b2f1-8ee4d61d9c10"
   },
   "outputs": [
    {
     "name": "stdout",
     "output_type": "stream",
     "text": [
      "{'Date': 14951, 'AveragePrice': 14951, 'Total Volume': 14951, '4046': 14951, '4225': 14951, '4770': 14951, 'Total Bags': 14951, 'Small Bags': 14951, 'Large Bags': 14951, 'XLarge Bags': 14951, 'type': 14951, 'year': 14951, 'region': 14951} \n",
      "\n",
      "Percentage of missing data:\n",
      " Date            90.788195\n",
      "AveragePrice    90.788195\n",
      "Total Volume    90.788195\n",
      "4046            90.788195\n",
      "4225            90.788195\n",
      "4770            90.788195\n",
      "Total Bags      90.788195\n",
      "Small Bags      90.788195\n",
      "Large Bags      90.788195\n",
      "XLarge Bags     90.788195\n",
      "type            90.788195\n",
      "year            90.788195\n",
      "region          90.788195\n",
      "dtype: float64\n"
     ]
    }
   ],
   "source": [
    "# calling the function\n",
    "missing_val(avocado_ds_work_file)\n",
    "print(\"\\n\")\n",
    "print(\"Percentage of missing data:\\n\",avocado_ds_work_file.isnull().sum()/len(avocado_ds_work_file)*100)"
   ]
  },
  {
   "cell_type": "markdown",
   "metadata": {
    "id": "UKzqUGrTThsz"
   },
   "source": [
    "we have seen that actual data points are only 1517 out of 16000 plus observations. approx 91% data is missing and we cant impute it, we will have to delete them."
   ]
  },
  {
   "cell_type": "code",
   "execution_count": 11,
   "metadata": {
    "id": "z3ZxtHkzSKd_"
   },
   "outputs": [
    {
     "name": "stdout",
     "output_type": "stream",
     "text": [
      "{} "
     ]
    }
   ],
   "source": [
    "# dropping null value\n",
    "avocado_ds_work_file.dropna(inplace=True)\n",
    "missing_val(avocado_ds_work_file) # checking missing value again"
   ]
  },
  {
   "cell_type": "markdown",
   "metadata": {
    "id": "nyAwcLrmZujm"
   },
   "source": [
    "Missing value has been removed from the data set and we are ok to move ahead with othe analysis. "
   ]
  },
  {
   "cell_type": "code",
   "execution_count": 12,
   "metadata": {
    "colab": {
     "base_uri": "https://localhost:8080/"
    },
    "id": "o2vOp3VAZwtU",
    "outputId": "4e43dde0-a963-4c32-f3b1-a24ccffc71ad"
   },
   "outputs": [
    {
     "data": {
      "text/plain": [
       "Date            datetime64[ns]\n",
       "AveragePrice           float64\n",
       "Total Volume           float64\n",
       "4046                   float64\n",
       "4225                   float64\n",
       "4770                   float64\n",
       "Total Bags             float64\n",
       "Small Bags             float64\n",
       "Large Bags             float64\n",
       "XLarge Bags            float64\n",
       "type                    object\n",
       "year                   float64\n",
       "region                  object\n",
       "dtype: object"
      ]
     },
     "execution_count": 12,
     "metadata": {},
     "output_type": "execute_result"
    }
   ],
   "source": [
    "# we have date column also in dataset and its datatype is objects, lets change into datetime format\n",
    "avocado_ds_work_file[\"Date\"] = pd.to_datetime(avocado_ds_work_file[\"Date\"])\n",
    "avocado_ds_work_file.dtypes"
   ]
  },
  {
   "cell_type": "code",
   "execution_count": 13,
   "metadata": {
    "id": "X-GaCrIl_iFw"
   },
   "outputs": [],
   "source": [
    "# updating original files\n",
    "avocado_ds = avocado_ds_work_file.copy()"
   ]
  },
  {
   "cell_type": "code",
   "execution_count": 14,
   "metadata": {
    "colab": {
     "base_uri": "https://localhost:8080/",
     "height": 297
    },
    "id": "FrCCe0xaeyEQ",
    "outputId": "49337e75-477c-4d71-e4f5-6258ac88b16c"
   },
   "outputs": [
    {
     "data": {
      "text/html": [
       "<div>\n",
       "<style scoped>\n",
       "    .dataframe tbody tr th:only-of-type {\n",
       "        vertical-align: middle;\n",
       "    }\n",
       "\n",
       "    .dataframe tbody tr th {\n",
       "        vertical-align: top;\n",
       "    }\n",
       "\n",
       "    .dataframe thead th {\n",
       "        text-align: right;\n",
       "    }\n",
       "</style>\n",
       "<table border=\"1\" class=\"dataframe\">\n",
       "  <thead>\n",
       "    <tr style=\"text-align: right;\">\n",
       "      <th></th>\n",
       "      <th>AveragePrice</th>\n",
       "      <th>Total Volume</th>\n",
       "      <th>4046</th>\n",
       "      <th>4225</th>\n",
       "      <th>4770</th>\n",
       "      <th>Total Bags</th>\n",
       "      <th>Small Bags</th>\n",
       "      <th>Large Bags</th>\n",
       "      <th>XLarge Bags</th>\n",
       "      <th>year</th>\n",
       "    </tr>\n",
       "  </thead>\n",
       "  <tbody>\n",
       "    <tr>\n",
       "      <th>count</th>\n",
       "      <td>1517.00000</td>\n",
       "      <td>1.517000e+03</td>\n",
       "      <td>1.517000e+03</td>\n",
       "      <td>1.517000e+03</td>\n",
       "      <td>1.517000e+03</td>\n",
       "      <td>1.517000e+03</td>\n",
       "      <td>1.517000e+03</td>\n",
       "      <td>1.517000e+03</td>\n",
       "      <td>1517.00000</td>\n",
       "      <td>1517.00000</td>\n",
       "    </tr>\n",
       "    <tr>\n",
       "      <th>mean</th>\n",
       "      <td>1.07499</td>\n",
       "      <td>1.601879e+06</td>\n",
       "      <td>6.464387e+05</td>\n",
       "      <td>6.114375e+05</td>\n",
       "      <td>5.040550e+04</td>\n",
       "      <td>2.935974e+05</td>\n",
       "      <td>2.487736e+05</td>\n",
       "      <td>4.264205e+04</td>\n",
       "      <td>2181.77107</td>\n",
       "      <td>2015.16282</td>\n",
       "    </tr>\n",
       "    <tr>\n",
       "      <th>std</th>\n",
       "      <td>0.18889</td>\n",
       "      <td>4.433143e+06</td>\n",
       "      <td>1.947614e+06</td>\n",
       "      <td>1.672906e+06</td>\n",
       "      <td>1.377812e+05</td>\n",
       "      <td>7.579765e+05</td>\n",
       "      <td>6.474765e+05</td>\n",
       "      <td>1.182157e+05</td>\n",
       "      <td>7455.71214</td>\n",
       "      <td>0.36932</td>\n",
       "    </tr>\n",
       "    <tr>\n",
       "      <th>min</th>\n",
       "      <td>0.49000</td>\n",
       "      <td>3.875074e+04</td>\n",
       "      <td>4.677200e+02</td>\n",
       "      <td>1.783770e+03</td>\n",
       "      <td>0.000000e+00</td>\n",
       "      <td>3.311770e+03</td>\n",
       "      <td>3.311770e+03</td>\n",
       "      <td>0.000000e+00</td>\n",
       "      <td>0.00000</td>\n",
       "      <td>2015.00000</td>\n",
       "    </tr>\n",
       "    <tr>\n",
       "      <th>25%</th>\n",
       "      <td>0.98000</td>\n",
       "      <td>1.474700e+05</td>\n",
       "      <td>2.040034e+04</td>\n",
       "      <td>4.147606e+04</td>\n",
       "      <td>9.112500e+02</td>\n",
       "      <td>3.620689e+04</td>\n",
       "      <td>2.972722e+04</td>\n",
       "      <td>5.407400e+02</td>\n",
       "      <td>0.00000</td>\n",
       "      <td>2015.00000</td>\n",
       "    </tr>\n",
       "    <tr>\n",
       "      <th>50%</th>\n",
       "      <td>1.08000</td>\n",
       "      <td>4.027919e+05</td>\n",
       "      <td>8.175117e+04</td>\n",
       "      <td>1.186649e+05</td>\n",
       "      <td>7.688170e+03</td>\n",
       "      <td>7.397906e+04</td>\n",
       "      <td>6.237569e+04</td>\n",
       "      <td>5.044350e+03</td>\n",
       "      <td>0.00000</td>\n",
       "      <td>2015.00000</td>\n",
       "    </tr>\n",
       "    <tr>\n",
       "      <th>75%</th>\n",
       "      <td>1.19000</td>\n",
       "      <td>9.819751e+05</td>\n",
       "      <td>3.775785e+05</td>\n",
       "      <td>4.851503e+05</td>\n",
       "      <td>2.916730e+04</td>\n",
       "      <td>1.576097e+05</td>\n",
       "      <td>1.461994e+05</td>\n",
       "      <td>2.926767e+04</td>\n",
       "      <td>401.48000</td>\n",
       "      <td>2015.00000</td>\n",
       "    </tr>\n",
       "    <tr>\n",
       "      <th>max</th>\n",
       "      <td>1.68000</td>\n",
       "      <td>4.465546e+07</td>\n",
       "      <td>1.893304e+07</td>\n",
       "      <td>1.895648e+07</td>\n",
       "      <td>1.381516e+06</td>\n",
       "      <td>6.736304e+06</td>\n",
       "      <td>5.893642e+06</td>\n",
       "      <td>1.121076e+06</td>\n",
       "      <td>108072.79000</td>\n",
       "      <td>2016.00000</td>\n",
       "    </tr>\n",
       "  </tbody>\n",
       "</table>\n",
       "</div>"
      ],
      "text/plain": [
       "       AveragePrice  Total Volume          4046          4225          4770  \\\n",
       "count    1517.00000  1.517000e+03  1.517000e+03  1.517000e+03  1.517000e+03   \n",
       "mean        1.07499  1.601879e+06  6.464387e+05  6.114375e+05  5.040550e+04   \n",
       "std         0.18889  4.433143e+06  1.947614e+06  1.672906e+06  1.377812e+05   \n",
       "min         0.49000  3.875074e+04  4.677200e+02  1.783770e+03  0.000000e+00   \n",
       "25%         0.98000  1.474700e+05  2.040034e+04  4.147606e+04  9.112500e+02   \n",
       "50%         1.08000  4.027919e+05  8.175117e+04  1.186649e+05  7.688170e+03   \n",
       "75%         1.19000  9.819751e+05  3.775785e+05  4.851503e+05  2.916730e+04   \n",
       "max         1.68000  4.465546e+07  1.893304e+07  1.895648e+07  1.381516e+06   \n",
       "\n",
       "         Total Bags    Small Bags    Large Bags   XLarge Bags        year  \n",
       "count  1.517000e+03  1.517000e+03  1.517000e+03    1517.00000  1517.00000  \n",
       "mean   2.935974e+05  2.487736e+05  4.264205e+04    2181.77107  2015.16282  \n",
       "std    7.579765e+05  6.474765e+05  1.182157e+05    7455.71214     0.36932  \n",
       "min    3.311770e+03  3.311770e+03  0.000000e+00       0.00000  2015.00000  \n",
       "25%    3.620689e+04  2.972722e+04  5.407400e+02       0.00000  2015.00000  \n",
       "50%    7.397906e+04  6.237569e+04  5.044350e+03       0.00000  2015.00000  \n",
       "75%    1.576097e+05  1.461994e+05  2.926767e+04     401.48000  2015.00000  \n",
       "max    6.736304e+06  5.893642e+06  1.121076e+06  108072.79000  2016.00000  "
      ]
     },
     "execution_count": 14,
     "metadata": {},
     "output_type": "execute_result"
    }
   ],
   "source": [
    "avocado_ds.describe().round(5)"
   ]
  },
  {
   "cell_type": "markdown",
   "metadata": {
    "id": "TK8qqlcsoDta"
   },
   "source": [
    "By dignosing the data point, i have found that small and large bags are bifurcation of total bags so we can keep only total bags instead of them.we will treat them in coming section"
   ]
  },
  {
   "cell_type": "code",
   "execution_count": 15,
   "metadata": {
    "colab": {
     "base_uri": "https://localhost:8080/",
     "height": 173
    },
    "id": "o6Q3q-z3fzCJ",
    "outputId": "b4b6f780-9f14-4f85-ff99-f61a8ea3fb47"
   },
   "outputs": [
    {
     "data": {
      "text/html": [
       "<div>\n",
       "<style scoped>\n",
       "    .dataframe tbody tr th:only-of-type {\n",
       "        vertical-align: middle;\n",
       "    }\n",
       "\n",
       "    .dataframe tbody tr th {\n",
       "        vertical-align: top;\n",
       "    }\n",
       "\n",
       "    .dataframe thead th {\n",
       "        text-align: right;\n",
       "    }\n",
       "</style>\n",
       "<table border=\"1\" class=\"dataframe\">\n",
       "  <thead>\n",
       "    <tr style=\"text-align: right;\">\n",
       "      <th></th>\n",
       "      <th>type</th>\n",
       "      <th>region</th>\n",
       "    </tr>\n",
       "  </thead>\n",
       "  <tbody>\n",
       "    <tr>\n",
       "      <th>count</th>\n",
       "      <td>1517</td>\n",
       "      <td>1517</td>\n",
       "    </tr>\n",
       "    <tr>\n",
       "      <th>unique</th>\n",
       "      <td>1</td>\n",
       "      <td>51</td>\n",
       "    </tr>\n",
       "    <tr>\n",
       "      <th>top</th>\n",
       "      <td>conventional</td>\n",
       "      <td>California</td>\n",
       "    </tr>\n",
       "    <tr>\n",
       "      <th>freq</th>\n",
       "      <td>1517</td>\n",
       "      <td>76</td>\n",
       "    </tr>\n",
       "  </tbody>\n",
       "</table>\n",
       "</div>"
      ],
      "text/plain": [
       "                type      region\n",
       "count           1517        1517\n",
       "unique             1          51\n",
       "top     conventional  California\n",
       "freq            1517          76"
      ]
     },
     "execution_count": 15,
     "metadata": {},
     "output_type": "execute_result"
    }
   ],
   "source": [
    "avocado_ds.select_dtypes(include=\"object\").describe()# describing the objects data types"
   ]
  },
  {
   "cell_type": "markdown",
   "metadata": {
    "id": "5gWS9bF6qGYP"
   },
   "source": [
    "From this we can understand that all Avocado belongs to one category which is conventional and dataset has maximum data from california state"
   ]
  },
  {
   "cell_type": "markdown",
   "metadata": {
    "id": "CteMsiPh2qgI"
   },
   "source": [
    "# **EDA**"
   ]
  },
  {
   "cell_type": "code",
   "execution_count": 16,
   "metadata": {
    "colab": {
     "base_uri": "https://localhost:8080/",
     "height": 879
    },
    "id": "B39JO1OkxPSb",
    "outputId": "78c53ea1-fd35-4ba7-896f-1807d71314fe"
   },
   "outputs": [
    {
     "data": {
      "image/png": "[encoded data removed]",
      "text/plain": [
       "<Figure size 1080x1080 with 12 Axes>"
      ]
     },
     "metadata": {
      "needs_background": "light"
     },
     "output_type": "display_data"
    }
   ],
   "source": [
    "# checking the distribution of the numeric features\n",
    "avocado_ds.select_dtypes(exclude=\"object\").hist(figsize= (15,15)); "
   ]
  },
  {
   "cell_type": "markdown",
   "metadata": {
    "id": "N4HkRMxTypTa"
   },
   "source": [
    "from total volume to XLage bags' features are right skewed. lets check the skewness of the data and after that we will do some analysis. so for checking the skewness we will take numeric data into another variable but before that we need to change the name of the 3 columsn which are written in number so that we can take them as features"
   ]
  },
  {
   "cell_type": "code",
   "execution_count": 17,
   "metadata": {
    "id": "UQdfkG-WzNIN"
   },
   "outputs": [
    {
     "data": {
      "text/html": [
       "<div>\n",
       "<style scoped>\n",
       "    .dataframe tbody tr th:only-of-type {\n",
       "        vertical-align: middle;\n",
       "    }\n",
       "\n",
       "    .dataframe tbody tr th {\n",
       "        vertical-align: top;\n",
       "    }\n",
       "\n",
       "    .dataframe thead th {\n",
       "        text-align: right;\n",
       "    }\n",
       "</style>\n",
       "<table border=\"1\" class=\"dataframe\">\n",
       "  <thead>\n",
       "    <tr style=\"text-align: right;\">\n",
       "      <th></th>\n",
       "      <th>Date</th>\n",
       "      <th>AveragePrice</th>\n",
       "      <th>Total Volume</th>\n",
       "      <th>PLU_4046</th>\n",
       "      <th>PLU_4225</th>\n",
       "      <th>PLU_4770</th>\n",
       "      <th>Total Bags</th>\n",
       "      <th>Small Bags</th>\n",
       "      <th>Large Bags</th>\n",
       "      <th>XLarge Bags</th>\n",
       "      <th>type</th>\n",
       "      <th>year</th>\n",
       "      <th>region</th>\n",
       "    </tr>\n",
       "  </thead>\n",
       "  <tbody>\n",
       "    <tr>\n",
       "      <th>0</th>\n",
       "      <td>2015-12-27</td>\n",
       "      <td>1.33</td>\n",
       "      <td>64236.62</td>\n",
       "      <td>1036.74</td>\n",
       "      <td>54454.85</td>\n",
       "      <td>48.16</td>\n",
       "      <td>8696.87</td>\n",
       "      <td>8603.62</td>\n",
       "      <td>93.25</td>\n",
       "      <td>0.0</td>\n",
       "      <td>conventional</td>\n",
       "      <td>2015.0</td>\n",
       "      <td>Albany</td>\n",
       "    </tr>\n",
       "    <tr>\n",
       "      <th>1</th>\n",
       "      <td>2015-12-20</td>\n",
       "      <td>1.35</td>\n",
       "      <td>54876.98</td>\n",
       "      <td>674.28</td>\n",
       "      <td>44638.81</td>\n",
       "      <td>58.33</td>\n",
       "      <td>9505.56</td>\n",
       "      <td>9408.07</td>\n",
       "      <td>97.49</td>\n",
       "      <td>0.0</td>\n",
       "      <td>conventional</td>\n",
       "      <td>2015.0</td>\n",
       "      <td>Albany</td>\n",
       "    </tr>\n",
       "    <tr>\n",
       "      <th>2</th>\n",
       "      <td>2015-12-13</td>\n",
       "      <td>0.93</td>\n",
       "      <td>118220.22</td>\n",
       "      <td>794.70</td>\n",
       "      <td>109149.67</td>\n",
       "      <td>130.50</td>\n",
       "      <td>8145.35</td>\n",
       "      <td>8042.21</td>\n",
       "      <td>103.14</td>\n",
       "      <td>0.0</td>\n",
       "      <td>conventional</td>\n",
       "      <td>2015.0</td>\n",
       "      <td>Albany</td>\n",
       "    </tr>\n",
       "    <tr>\n",
       "      <th>3</th>\n",
       "      <td>2015-06-12</td>\n",
       "      <td>1.08</td>\n",
       "      <td>78992.15</td>\n",
       "      <td>1132.00</td>\n",
       "      <td>71976.41</td>\n",
       "      <td>72.58</td>\n",
       "      <td>5811.16</td>\n",
       "      <td>5677.40</td>\n",
       "      <td>133.76</td>\n",
       "      <td>0.0</td>\n",
       "      <td>conventional</td>\n",
       "      <td>2015.0</td>\n",
       "      <td>Albany</td>\n",
       "    </tr>\n",
       "    <tr>\n",
       "      <th>4</th>\n",
       "      <td>2015-11-29</td>\n",
       "      <td>1.28</td>\n",
       "      <td>51039.60</td>\n",
       "      <td>941.48</td>\n",
       "      <td>43838.39</td>\n",
       "      <td>75.78</td>\n",
       "      <td>6183.95</td>\n",
       "      <td>5986.26</td>\n",
       "      <td>197.69</td>\n",
       "      <td>0.0</td>\n",
       "      <td>conventional</td>\n",
       "      <td>2015.0</td>\n",
       "      <td>Albany</td>\n",
       "    </tr>\n",
       "  </tbody>\n",
       "</table>\n",
       "</div>"
      ],
      "text/plain": [
       "        Date  AveragePrice  Total Volume  PLU_4046   PLU_4225  PLU_4770  \\\n",
       "0 2015-12-27          1.33      64236.62   1036.74   54454.85     48.16   \n",
       "1 2015-12-20          1.35      54876.98    674.28   44638.81     58.33   \n",
       "2 2015-12-13          0.93     118220.22    794.70  109149.67    130.50   \n",
       "3 2015-06-12          1.08      78992.15   1132.00   71976.41     72.58   \n",
       "4 2015-11-29          1.28      51039.60    941.48   43838.39     75.78   \n",
       "\n",
       "   Total Bags  Small Bags  Large Bags  XLarge Bags          type    year  \\\n",
       "0     8696.87     8603.62       93.25          0.0  conventional  2015.0   \n",
       "1     9505.56     9408.07       97.49          0.0  conventional  2015.0   \n",
       "2     8145.35     8042.21      103.14          0.0  conventional  2015.0   \n",
       "3     5811.16     5677.40      133.76          0.0  conventional  2015.0   \n",
       "4     6183.95     5986.26      197.69          0.0  conventional  2015.0   \n",
       "\n",
       "   region  \n",
       "0  Albany  \n",
       "1  Albany  \n",
       "2  Albany  \n",
       "3  Albany  \n",
       "4  Albany  "
      ]
     },
     "execution_count": 17,
     "metadata": {},
     "output_type": "execute_result"
    }
   ],
   "source": [
    "avocado_ds.rename(columns={\"4046\":\"PLU_4046\",\"4225\":\"PLU_4225\",\"4770\":\"PLU_4770\"},inplace=True)\n",
    "avocado_ds.head()"
   ]
  },
  {
   "cell_type": "code",
   "execution_count": 18,
   "metadata": {
    "id": "qJ5cmll8xn4U"
   },
   "outputs": [],
   "source": [
    "# saving numeric data into a variable for nmeric operation\n",
    "num_data = avocado_ds[[\"Total Volume\",\t\"PLU_4046\"\t,\"PLU_4225\",\t\"PLU_4770\",\"Total Bags\",\"Small Bags\",\"Large Bags\",\"XLarge Bags\"]]"
   ]
  },
  {
   "cell_type": "code",
   "execution_count": 19,
   "metadata": {
    "colab": {
     "base_uri": "https://localhost:8080/"
    },
    "id": "-LTjLeePzBlx",
    "outputId": "b8a5aab4-098a-4782-d6f8-1e8bdac794ee"
   },
   "outputs": [
    {
     "data": {
      "text/plain": [
       "Total Volume    6.200138\n",
       "PLU_4046        6.051830\n",
       "PLU_4225        6.394926\n",
       "PLU_4770        5.405164\n",
       "Total Bags      5.366378\n",
       "Small Bags      5.355185\n",
       "Large Bags      5.144495\n",
       "XLarge Bags     5.775077\n",
       "dtype: float64"
      ]
     },
     "execution_count": 19,
     "metadata": {},
     "output_type": "execute_result"
    }
   ],
   "source": [
    "# checking the skewness\n",
    "num_data.skew()"
   ]
  },
  {
   "cell_type": "markdown",
   "metadata": {
    "id": "F9IqlJvj2DmT"
   },
   "source": [
    "all the columns are skewed one as we have seen in the histogram. we will treat them after EDA.<br><br> i am creating a deep copy of the data and adding some more feature in the dataset for the analysis purpose from datetime columns.<br><br>\n",
    "\n",
    "i have observed that date format is not same from top to tail, so changing it in a proper manner. DD-MM-YYYY"
   ]
  },
  {
   "cell_type": "code",
   "execution_count": 20,
   "metadata": {
    "id": "SCBFV3yp5mY2"
   },
   "outputs": [],
   "source": [
    "avocado_ds_analysis_data = avocado_ds.copy() # creating a copy for further analysis"
   ]
  },
  {
   "cell_type": "code",
   "execution_count": 21,
   "metadata": {
    "id": "E3EwgwvA-k0n"
   },
   "outputs": [],
   "source": [
    "avocado_ds_analysis_data[\"Date\"] = pd.to_datetime(avocado_ds_analysis_data[\"Date\"],format = \"%d/%m/%Y\") "
   ]
  },
  {
   "cell_type": "code",
   "execution_count": 22,
   "metadata": {
    "colab": {
     "base_uri": "https://localhost:8080/"
    },
    "id": "MUnNJ5I9-u1p",
    "outputId": "4484efeb-43dc-4598-e0dd-45acebc2b9ee"
   },
   "outputs": [
    {
     "data": {
      "text/plain": [
       "Date            datetime64[ns]\n",
       "AveragePrice           float64\n",
       "Total Volume           float64\n",
       "PLU_4046               float64\n",
       "PLU_4225               float64\n",
       "PLU_4770               float64\n",
       "Total Bags             float64\n",
       "Small Bags             float64\n",
       "Large Bags             float64\n",
       "XLarge Bags            float64\n",
       "type                    object\n",
       "year                   float64\n",
       "region                  object\n",
       "dtype: object"
      ]
     },
     "execution_count": 22,
     "metadata": {},
     "output_type": "execute_result"
    }
   ],
   "source": [
    "avocado_ds_analysis_data.dtypes"
   ]
  },
  {
   "cell_type": "markdown",
   "metadata": {
    "id": "9w3cW4BE8b0J"
   },
   "source": [
    "Date format has been changed for entire column and it has seme for all observation"
   ]
  },
  {
   "cell_type": "code",
   "execution_count": 23,
   "metadata": {
    "colab": {
     "base_uri": "https://localhost:8080/"
    },
    "id": "2u6T75dh67Rb",
    "outputId": "0bf01c44-49ec-42fe-9514-326405be35c5"
   },
   "outputs": [],
   "source": [
    "avocado_ds_analysis_data[\"Day\"] =  avocado_ds_analysis_data[\"Date\"].dt.day\n",
    "avocado_ds_analysis_data[\"year\"] =  avocado_ds_analysis_data[\"Date\"].dt.year\n",
    "avocado_ds_analysis_data[\"Month\"] =  avocado_ds_analysis_data[\"Date\"].dt.month\n",
    "avocado_ds_analysis_data[\"week\"] =  avocado_ds_analysis_data[\"Date\"].dt.week"
   ]
  },
  {
   "cell_type": "code",
   "execution_count": 24,
   "metadata": {
    "colab": {
     "base_uri": "https://localhost:8080/",
     "height": 306
    },
    "id": "fUi86nfp8bfo",
    "outputId": "bce440a2-93ac-459c-c091-8c6a14c5fd14"
   },
   "outputs": [
    {
     "data": {
      "text/html": [
       "<div>\n",
       "<style scoped>\n",
       "    .dataframe tbody tr th:only-of-type {\n",
       "        vertical-align: middle;\n",
       "    }\n",
       "\n",
       "    .dataframe tbody tr th {\n",
       "        vertical-align: top;\n",
       "    }\n",
       "\n",
       "    .dataframe thead th {\n",
       "        text-align: right;\n",
       "    }\n",
       "</style>\n",
       "<table border=\"1\" class=\"dataframe\">\n",
       "  <thead>\n",
       "    <tr style=\"text-align: right;\">\n",
       "      <th></th>\n",
       "      <th>Date</th>\n",
       "      <th>AveragePrice</th>\n",
       "      <th>Total Volume</th>\n",
       "      <th>PLU_4046</th>\n",
       "      <th>PLU_4225</th>\n",
       "      <th>PLU_4770</th>\n",
       "      <th>Total Bags</th>\n",
       "      <th>Small Bags</th>\n",
       "      <th>Large Bags</th>\n",
       "      <th>XLarge Bags</th>\n",
       "      <th>type</th>\n",
       "      <th>year</th>\n",
       "      <th>region</th>\n",
       "      <th>Day</th>\n",
       "      <th>Month</th>\n",
       "      <th>week</th>\n",
       "    </tr>\n",
       "  </thead>\n",
       "  <tbody>\n",
       "    <tr>\n",
       "      <th>0</th>\n",
       "      <td>2015-12-27</td>\n",
       "      <td>1.33</td>\n",
       "      <td>64236.62</td>\n",
       "      <td>1036.74</td>\n",
       "      <td>54454.85</td>\n",
       "      <td>48.16</td>\n",
       "      <td>8696.87</td>\n",
       "      <td>8603.62</td>\n",
       "      <td>93.25</td>\n",
       "      <td>0.0</td>\n",
       "      <td>conventional</td>\n",
       "      <td>2015</td>\n",
       "      <td>Albany</td>\n",
       "      <td>27</td>\n",
       "      <td>12</td>\n",
       "      <td>52</td>\n",
       "    </tr>\n",
       "    <tr>\n",
       "      <th>1</th>\n",
       "      <td>2015-12-20</td>\n",
       "      <td>1.35</td>\n",
       "      <td>54876.98</td>\n",
       "      <td>674.28</td>\n",
       "      <td>44638.81</td>\n",
       "      <td>58.33</td>\n",
       "      <td>9505.56</td>\n",
       "      <td>9408.07</td>\n",
       "      <td>97.49</td>\n",
       "      <td>0.0</td>\n",
       "      <td>conventional</td>\n",
       "      <td>2015</td>\n",
       "      <td>Albany</td>\n",
       "      <td>20</td>\n",
       "      <td>12</td>\n",
       "      <td>51</td>\n",
       "    </tr>\n",
       "    <tr>\n",
       "      <th>2</th>\n",
       "      <td>2015-12-13</td>\n",
       "      <td>0.93</td>\n",
       "      <td>118220.22</td>\n",
       "      <td>794.70</td>\n",
       "      <td>109149.67</td>\n",
       "      <td>130.50</td>\n",
       "      <td>8145.35</td>\n",
       "      <td>8042.21</td>\n",
       "      <td>103.14</td>\n",
       "      <td>0.0</td>\n",
       "      <td>conventional</td>\n",
       "      <td>2015</td>\n",
       "      <td>Albany</td>\n",
       "      <td>13</td>\n",
       "      <td>12</td>\n",
       "      <td>50</td>\n",
       "    </tr>\n",
       "    <tr>\n",
       "      <th>3</th>\n",
       "      <td>2015-06-12</td>\n",
       "      <td>1.08</td>\n",
       "      <td>78992.15</td>\n",
       "      <td>1132.00</td>\n",
       "      <td>71976.41</td>\n",
       "      <td>72.58</td>\n",
       "      <td>5811.16</td>\n",
       "      <td>5677.40</td>\n",
       "      <td>133.76</td>\n",
       "      <td>0.0</td>\n",
       "      <td>conventional</td>\n",
       "      <td>2015</td>\n",
       "      <td>Albany</td>\n",
       "      <td>12</td>\n",
       "      <td>6</td>\n",
       "      <td>24</td>\n",
       "    </tr>\n",
       "    <tr>\n",
       "      <th>4</th>\n",
       "      <td>2015-11-29</td>\n",
       "      <td>1.28</td>\n",
       "      <td>51039.60</td>\n",
       "      <td>941.48</td>\n",
       "      <td>43838.39</td>\n",
       "      <td>75.78</td>\n",
       "      <td>6183.95</td>\n",
       "      <td>5986.26</td>\n",
       "      <td>197.69</td>\n",
       "      <td>0.0</td>\n",
       "      <td>conventional</td>\n",
       "      <td>2015</td>\n",
       "      <td>Albany</td>\n",
       "      <td>29</td>\n",
       "      <td>11</td>\n",
       "      <td>48</td>\n",
       "    </tr>\n",
       "  </tbody>\n",
       "</table>\n",
       "</div>"
      ],
      "text/plain": [
       "        Date  AveragePrice  Total Volume  PLU_4046   PLU_4225  PLU_4770  \\\n",
       "0 2015-12-27          1.33      64236.62   1036.74   54454.85     48.16   \n",
       "1 2015-12-20          1.35      54876.98    674.28   44638.81     58.33   \n",
       "2 2015-12-13          0.93     118220.22    794.70  109149.67    130.50   \n",
       "3 2015-06-12          1.08      78992.15   1132.00   71976.41     72.58   \n",
       "4 2015-11-29          1.28      51039.60    941.48   43838.39     75.78   \n",
       "\n",
       "   Total Bags  Small Bags  Large Bags  XLarge Bags          type  year  \\\n",
       "0     8696.87     8603.62       93.25          0.0  conventional  2015   \n",
       "1     9505.56     9408.07       97.49          0.0  conventional  2015   \n",
       "2     8145.35     8042.21      103.14          0.0  conventional  2015   \n",
       "3     5811.16     5677.40      133.76          0.0  conventional  2015   \n",
       "4     6183.95     5986.26      197.69          0.0  conventional  2015   \n",
       "\n",
       "   region  Day  Month  week  \n",
       "0  Albany   27     12    52  \n",
       "1  Albany   20     12    51  \n",
       "2  Albany   13     12    50  \n",
       "3  Albany   12      6    24  \n",
       "4  Albany   29     11    48  "
      ]
     },
     "execution_count": 24,
     "metadata": {},
     "output_type": "execute_result"
    }
   ],
   "source": [
    "avocado_ds_analysis_data.head()\n"
   ]
  },
  {
   "cell_type": "code",
   "execution_count": 25,
   "metadata": {
    "colab": {
     "base_uri": "https://localhost:8080/",
     "height": 276
    },
    "id": "7LSr3nE4BnqQ",
    "outputId": "5f5d6802-87c5-4bf8-f938-01fa628b8a53"
   },
   "outputs": [
    {
     "data": {
      "image/png": "[encoded data removed]",
      "text/plain": [
       "<Figure size 1080x576 with 2 Axes>"
      ]
     },
     "metadata": {
      "needs_background": "light"
     },
     "output_type": "display_data"
    }
   ],
   "source": [
    "plt.figure(figsize=(15,8))\n",
    "plt.subplot(221)\n",
    "sns.barplot(x = \"year\", y = \"Total Volume\", data = avocado_ds_analysis_data)\n",
    "plt.title(\"Year wise avocado sale\");\n",
    "\n",
    "plt.subplot(222)\n",
    "sns.barplot(x = \"year\", y = \"AveragePrice\", data = avocado_ds_analysis_data)\n",
    "plt.title(\"Year wise Aavocado price \");\n"
   ]
  },
  {
   "cell_type": "markdown",
   "metadata": {
    "id": "diheANscC-jM"
   },
   "source": [
    "Avocado number of sold in the year of 2015 is more as compared to 2016 but when we compare the year wise avocado price,  2016 year wise price average is high for as compared to 2015 and it can be "
   ]
  },
  {
   "cell_type": "code",
   "execution_count": 26,
   "metadata": {
    "colab": {
     "base_uri": "https://localhost:8080/",
     "height": 638
    },
    "id": "dL3Vuy9A71uL",
    "outputId": "87745a75-0004-4774-812b-8be962ead787"
   },
   "outputs": [
    {
     "data": {
      "image/png": "[encoded data removed]",
      "text/plain": [
       "<Figure size 1440x720 with 2 Axes>"
      ]
     },
     "metadata": {
      "needs_background": "light"
     },
     "output_type": "display_data"
    }
   ],
   "source": [
    "plt.figure(figsize=(20,10))\n",
    "plt.subplot(211)\n",
    "sns.barplot(x = \"Day\", y = \"Total Volume\", data = avocado_ds_analysis_data,hue=\"year\")\n",
    "plt.title(\"Year wise day wise total avocado sold\");\n",
    "\n",
    "plt.subplot(212)\n",
    "sns.barplot(x = \"Day\", y = \"AveragePrice\", data = avocado_ds_analysis_data,hue=\"year\")\n",
    "plt.title(\"Year wise day wise Avr price\");"
   ]
  },
  {
   "cell_type": "markdown",
   "metadata": {
    "id": "RKWw9X68Eg_N"
   },
   "source": [
    "out of 31 days, 13 days ,total sold count was higher in 2015 and rest are all in 2016.<br>\n",
    "in 2016 on 11th and 30th , the avg price were high."
   ]
  },
  {
   "cell_type": "code",
   "execution_count": 27,
   "metadata": {
    "colab": {
     "base_uri": "https://localhost:8080/",
     "height": 638
    },
    "id": "bG29SfbjA3h4",
    "outputId": "093757af-cea0-4edc-80d8-ab5c9fb4f408"
   },
   "outputs": [
    {
     "data": {
      "image/png": "[encoded data removed]",
      "text/plain": [
       "<Figure size 1440x720 with 2 Axes>"
      ]
     },
     "metadata": {
      "needs_background": "light"
     },
     "output_type": "display_data"
    }
   ],
   "source": [
    "plt.figure(figsize=(20,10))\n",
    "plt.subplot(211)\n",
    "sns.barplot(x = \"Month\", y = \"Total Volume\", data = avocado_ds_analysis_data,hue=\"year\")\n",
    "plt.title(\"Month wise total avocado sold\")\n",
    "\n",
    "plt.subplot(212)\n",
    "sns.barplot(x = \"Month\", y = \"AveragePrice\", data = avocado_ds_analysis_data,hue=\"year\")\n",
    "plt.title(\"Month wise avg price\");"
   ]
  },
  {
   "cell_type": "markdown",
   "metadata": {
    "id": "p04IFp-ZDBEl"
   },
   "source": [
    "we see that in the 6th month in 2016 total volume is less but avg price is high. similarly we can observe the reverse of the same in 4th, 10 and 11 months, may be in these months organic avocado sold, i cannot be sure, having said that total volum of avocado is containing some other variate of avocado also because conventional avocado's count doesnt match with total volume."
   ]
  },
  {
   "cell_type": "code",
   "execution_count": 28,
   "metadata": {
    "colab": {
     "base_uri": "https://localhost:8080/",
     "height": 638
    },
    "id": "JRP1MlJDBPVK",
    "outputId": "2f2c72d5-4191-450b-c238-8b4954d47c70"
   },
   "outputs": [
    {
     "data": {
      "text/plain": [
       "Text(0.5, 1.0, 'week wise avg price')"
      ]
     },
     "execution_count": 28,
     "metadata": {},
     "output_type": "execute_result"
    },
    {
     "data": {
      "image/png": "[encoded data removed]",
      "text/plain": [
       "<Figure size 1440x720 with 2 Axes>"
      ]
     },
     "metadata": {
      "needs_background": "light"
     },
     "output_type": "display_data"
    }
   ],
   "source": [
    "plt.figure(figsize=(20,10))\n",
    "plt.subplot(211)\n",
    "sns.barplot(x = \"week\", y = \"Total Volume\", data = avocado_ds_analysis_data,hue=\"year\")\n",
    "plt.title(\"year wise week wise total avocado sold\")\n",
    "\n",
    "plt.subplot(212)\n",
    "sns.barplot(x = \"week\", y = \"AveragePrice\", data = avocado_ds_analysis_data,hue=\"year\")\n",
    "plt.title(\"week wise avg price\")"
   ]
  },
  {
   "cell_type": "markdown",
   "metadata": {
    "id": "KZAkPYSNGZ1s"
   },
   "source": [
    "week wise data looks cmulsy but we still make out some observations. <br>\n",
    "after week 23, we see that ave price is high as compared to earlier weeks in most of the weeks. "
   ]
  },
  {
   "cell_type": "code",
   "execution_count": 29,
   "metadata": {
    "colab": {
     "base_uri": "https://localhost:8080/",
     "height": 1000
    },
    "id": "0bbpeU56F8RW",
    "outputId": "495767c6-e21b-4c27-9ee6-adc877dce64c"
   },
   "outputs": [
    {
     "data": {
      "text/html": [
       "<div>\n",
       "<style scoped>\n",
       "    .dataframe tbody tr th:only-of-type {\n",
       "        vertical-align: middle;\n",
       "    }\n",
       "\n",
       "    .dataframe tbody tr th {\n",
       "        vertical-align: top;\n",
       "    }\n",
       "\n",
       "    .dataframe thead th {\n",
       "        text-align: right;\n",
       "    }\n",
       "</style>\n",
       "<table border=\"1\" class=\"dataframe\">\n",
       "  <thead>\n",
       "    <tr style=\"text-align: right;\">\n",
       "      <th></th>\n",
       "      <th>Total Volume</th>\n",
       "      <th>AveragePrice</th>\n",
       "    </tr>\n",
       "    <tr>\n",
       "      <th>region</th>\n",
       "      <th></th>\n",
       "      <th></th>\n",
       "    </tr>\n",
       "  </thead>\n",
       "  <tbody>\n",
       "    <tr>\n",
       "      <th>TotalUS</th>\n",
       "      <td>3.293714e+07</td>\n",
       "      <td>1.011600</td>\n",
       "    </tr>\n",
       "    <tr>\n",
       "      <th>California</th>\n",
       "      <td>6.035277e+06</td>\n",
       "      <td>1.055921</td>\n",
       "    </tr>\n",
       "    <tr>\n",
       "      <th>West</th>\n",
       "      <td>5.574939e+06</td>\n",
       "      <td>0.940833</td>\n",
       "    </tr>\n",
       "    <tr>\n",
       "      <th>SouthCentral</th>\n",
       "      <td>5.496995e+06</td>\n",
       "      <td>0.818718</td>\n",
       "    </tr>\n",
       "    <tr>\n",
       "      <th>Northeast</th>\n",
       "      <td>3.465864e+06</td>\n",
       "      <td>1.236667</td>\n",
       "    </tr>\n",
       "    <tr>\n",
       "      <th>GreatLakes</th>\n",
       "      <td>3.276358e+06</td>\n",
       "      <td>1.107222</td>\n",
       "    </tr>\n",
       "    <tr>\n",
       "      <th>Southeast</th>\n",
       "      <td>3.055239e+06</td>\n",
       "      <td>1.091111</td>\n",
       "    </tr>\n",
       "    <tr>\n",
       "      <th>LosAngeles</th>\n",
       "      <td>2.732180e+06</td>\n",
       "      <td>0.863333</td>\n",
       "    </tr>\n",
       "    <tr>\n",
       "      <th>Midsouth</th>\n",
       "      <td>2.355099e+06</td>\n",
       "      <td>1.081111</td>\n",
       "    </tr>\n",
       "    <tr>\n",
       "      <th>Plains</th>\n",
       "      <td>1.672975e+06</td>\n",
       "      <td>1.051667</td>\n",
       "    </tr>\n",
       "    <tr>\n",
       "      <th>NewYork</th>\n",
       "      <td>1.362973e+06</td>\n",
       "      <td>1.248636</td>\n",
       "    </tr>\n",
       "    <tr>\n",
       "      <th>DallasFtWorth</th>\n",
       "      <td>1.195363e+06</td>\n",
       "      <td>0.755882</td>\n",
       "    </tr>\n",
       "    <tr>\n",
       "      <th>Houston</th>\n",
       "      <td>1.115564e+06</td>\n",
       "      <td>0.780690</td>\n",
       "    </tr>\n",
       "    <tr>\n",
       "      <th>PhoenixTucson</th>\n",
       "      <td>1.088699e+06</td>\n",
       "      <td>0.659808</td>\n",
       "    </tr>\n",
       "    <tr>\n",
       "      <th>WestTexNewMexico</th>\n",
       "      <td>8.602926e+05</td>\n",
       "      <td>0.757407</td>\n",
       "    </tr>\n",
       "    <tr>\n",
       "      <th>SanFrancisco</th>\n",
       "      <td>8.501176e+05</td>\n",
       "      <td>1.150667</td>\n",
       "    </tr>\n",
       "    <tr>\n",
       "      <th>Chicago</th>\n",
       "      <td>8.118822e+05</td>\n",
       "      <td>1.214783</td>\n",
       "    </tr>\n",
       "    <tr>\n",
       "      <th>BaltimoreWashington</th>\n",
       "      <td>8.076442e+05</td>\n",
       "      <td>1.160923</td>\n",
       "    </tr>\n",
       "    <tr>\n",
       "      <th>Denver</th>\n",
       "      <td>7.176015e+05</td>\n",
       "      <td>1.080833</td>\n",
       "    </tr>\n",
       "    <tr>\n",
       "      <th>Boston</th>\n",
       "      <td>5.534586e+05</td>\n",
       "      <td>1.205484</td>\n",
       "    </tr>\n",
       "    <tr>\n",
       "      <th>SanDiego</th>\n",
       "      <td>5.013533e+05</td>\n",
       "      <td>0.993421</td>\n",
       "    </tr>\n",
       "    <tr>\n",
       "      <th>Portland</th>\n",
       "      <td>4.951845e+05</td>\n",
       "      <td>1.043667</td>\n",
       "    </tr>\n",
       "    <tr>\n",
       "      <th>Seattle</th>\n",
       "      <td>4.895311e+05</td>\n",
       "      <td>1.052222</td>\n",
       "    </tr>\n",
       "    <tr>\n",
       "      <th>MiamiFtLauderdale</th>\n",
       "      <td>4.713218e+05</td>\n",
       "      <td>1.176471</td>\n",
       "    </tr>\n",
       "    <tr>\n",
       "      <th>Atlanta</th>\n",
       "      <td>4.676372e+05</td>\n",
       "      <td>1.012037</td>\n",
       "    </tr>\n",
       "    <tr>\n",
       "      <th>NorthernNewEngland</th>\n",
       "      <td>3.959559e+05</td>\n",
       "      <td>1.111034</td>\n",
       "    </tr>\n",
       "    <tr>\n",
       "      <th>Philadelphia</th>\n",
       "      <td>3.849221e+05</td>\n",
       "      <td>1.293846</td>\n",
       "    </tr>\n",
       "    <tr>\n",
       "      <th>Detroit</th>\n",
       "      <td>3.390654e+05</td>\n",
       "      <td>1.041250</td>\n",
       "    </tr>\n",
       "    <tr>\n",
       "      <th>SouthCarolina</th>\n",
       "      <td>3.337852e+05</td>\n",
       "      <td>1.071250</td>\n",
       "    </tr>\n",
       "    <tr>\n",
       "      <th>Tampa</th>\n",
       "      <td>3.279430e+05</td>\n",
       "      <td>1.068824</td>\n",
       "    </tr>\n",
       "    <tr>\n",
       "      <th>Orlando</th>\n",
       "      <td>3.013391e+05</td>\n",
       "      <td>1.133333</td>\n",
       "    </tr>\n",
       "    <tr>\n",
       "      <th>LasVegas</th>\n",
       "      <td>2.790102e+05</td>\n",
       "      <td>1.041000</td>\n",
       "    </tr>\n",
       "    <tr>\n",
       "      <th>HartfordSpringfield</th>\n",
       "      <td>2.685772e+05</td>\n",
       "      <td>1.209231</td>\n",
       "    </tr>\n",
       "    <tr>\n",
       "      <th>RaleighGreensboro</th>\n",
       "      <td>2.405372e+05</td>\n",
       "      <td>1.166250</td>\n",
       "    </tr>\n",
       "    <tr>\n",
       "      <th>HarrisburgScranton</th>\n",
       "      <td>2.183198e+05</td>\n",
       "      <td>1.157368</td>\n",
       "    </tr>\n",
       "    <tr>\n",
       "      <th>RichmondNorfolk</th>\n",
       "      <td>1.967580e+05</td>\n",
       "      <td>1.004762</td>\n",
       "    </tr>\n",
       "    <tr>\n",
       "      <th>StLouis</th>\n",
       "      <td>1.944995e+05</td>\n",
       "      <td>1.260000</td>\n",
       "    </tr>\n",
       "    <tr>\n",
       "      <th>GrandRapids</th>\n",
       "      <td>1.908866e+05</td>\n",
       "      <td>1.136957</td>\n",
       "    </tr>\n",
       "    <tr>\n",
       "      <th>Charlotte</th>\n",
       "      <td>1.762781e+05</td>\n",
       "      <td>1.311613</td>\n",
       "    </tr>\n",
       "    <tr>\n",
       "      <th>Nashville</th>\n",
       "      <td>1.674714e+05</td>\n",
       "      <td>1.028400</td>\n",
       "    </tr>\n",
       "    <tr>\n",
       "      <th>Indianapolis</th>\n",
       "      <td>1.575043e+05</td>\n",
       "      <td>1.126250</td>\n",
       "    </tr>\n",
       "    <tr>\n",
       "      <th>Columbus</th>\n",
       "      <td>1.457604e+05</td>\n",
       "      <td>1.012553</td>\n",
       "    </tr>\n",
       "    <tr>\n",
       "      <th>Jacksonville</th>\n",
       "      <td>1.380222e+05</td>\n",
       "      <td>1.113659</td>\n",
       "    </tr>\n",
       "    <tr>\n",
       "      <th>BuffaloRochester</th>\n",
       "      <td>1.321844e+05</td>\n",
       "      <td>1.301569</td>\n",
       "    </tr>\n",
       "    <tr>\n",
       "      <th>Roanoke</th>\n",
       "      <td>1.308864e+05</td>\n",
       "      <td>1.096471</td>\n",
       "    </tr>\n",
       "    <tr>\n",
       "      <th>Pittsburgh</th>\n",
       "      <td>8.143082e+04</td>\n",
       "      <td>1.178636</td>\n",
       "    </tr>\n",
       "    <tr>\n",
       "      <th>Boise</th>\n",
       "      <td>8.104617e+04</td>\n",
       "      <td>0.974923</td>\n",
       "    </tr>\n",
       "    <tr>\n",
       "      <th>Louisville</th>\n",
       "      <td>7.764284e+04</td>\n",
       "      <td>1.042941</td>\n",
       "    </tr>\n",
       "    <tr>\n",
       "      <th>Spokane</th>\n",
       "      <td>7.718453e+04</td>\n",
       "      <td>1.096122</td>\n",
       "    </tr>\n",
       "    <tr>\n",
       "      <th>Albany</th>\n",
       "      <td>7.629020e+04</td>\n",
       "      <td>1.238657</td>\n",
       "    </tr>\n",
       "    <tr>\n",
       "      <th>Syracuse</th>\n",
       "      <td>4.857841e+04</td>\n",
       "      <td>1.347368</td>\n",
       "    </tr>\n",
       "  </tbody>\n",
       "</table>\n",
       "</div>"
      ],
      "text/plain": [
       "                     Total Volume  AveragePrice\n",
       "region                                         \n",
       "TotalUS              3.293714e+07      1.011600\n",
       "California           6.035277e+06      1.055921\n",
       "West                 5.574939e+06      0.940833\n",
       "SouthCentral         5.496995e+06      0.818718\n",
       "Northeast            3.465864e+06      1.236667\n",
       "GreatLakes           3.276358e+06      1.107222\n",
       "Southeast            3.055239e+06      1.091111\n",
       "LosAngeles           2.732180e+06      0.863333\n",
       "Midsouth             2.355099e+06      1.081111\n",
       "Plains               1.672975e+06      1.051667\n",
       "NewYork              1.362973e+06      1.248636\n",
       "DallasFtWorth        1.195363e+06      0.755882\n",
       "Houston              1.115564e+06      0.780690\n",
       "PhoenixTucson        1.088699e+06      0.659808\n",
       "WestTexNewMexico     8.602926e+05      0.757407\n",
       "SanFrancisco         8.501176e+05      1.150667\n",
       "Chicago              8.118822e+05      1.214783\n",
       "BaltimoreWashington  8.076442e+05      1.160923\n",
       "Denver               7.176015e+05      1.080833\n",
       "Boston               5.534586e+05      1.205484\n",
       "SanDiego             5.013533e+05      0.993421\n",
       "Portland             4.951845e+05      1.043667\n",
       "Seattle              4.895311e+05      1.052222\n",
       "MiamiFtLauderdale    4.713218e+05      1.176471\n",
       "Atlanta              4.676372e+05      1.012037\n",
       "NorthernNewEngland   3.959559e+05      1.111034\n",
       "Philadelphia         3.849221e+05      1.293846\n",
       "Detroit              3.390654e+05      1.041250\n",
       "SouthCarolina        3.337852e+05      1.071250\n",
       "Tampa                3.279430e+05      1.068824\n",
       "Orlando              3.013391e+05      1.133333\n",
       "LasVegas             2.790102e+05      1.041000\n",
       "HartfordSpringfield  2.685772e+05      1.209231\n",
       "RaleighGreensboro    2.405372e+05      1.166250\n",
       "HarrisburgScranton   2.183198e+05      1.157368\n",
       "RichmondNorfolk      1.967580e+05      1.004762\n",
       "StLouis              1.944995e+05      1.260000\n",
       "GrandRapids          1.908866e+05      1.136957\n",
       "Charlotte            1.762781e+05      1.311613\n",
       "Nashville            1.674714e+05      1.028400\n",
       "Indianapolis         1.575043e+05      1.126250\n",
       "Columbus             1.457604e+05      1.012553\n",
       "Jacksonville         1.380222e+05      1.113659\n",
       "BuffaloRochester     1.321844e+05      1.301569\n",
       "Roanoke              1.308864e+05      1.096471\n",
       "Pittsburgh           8.143082e+04      1.178636\n",
       "Boise                8.104617e+04      0.974923\n",
       "Louisville           7.764284e+04      1.042941\n",
       "Spokane              7.718453e+04      1.096122\n",
       "Albany               7.629020e+04      1.238657\n",
       "Syracuse             4.857841e+04      1.347368"
      ]
     },
     "execution_count": 29,
     "metadata": {},
     "output_type": "execute_result"
    }
   ],
   "source": [
    "avocado_ds.groupby(\"region\")[[\"Total Volume\",\"AveragePrice\"]].mean().sort_values(by =\"Total Volume\" ,ascending = False)"
   ]
  },
  {
   "cell_type": "markdown",
   "metadata": {
    "id": "4Esnaw93MJAf"
   },
   "source": [
    "Top 5 region where it has consumed a lot and those are California,west,southcentral , northeast and greatlakes."
   ]
  },
  {
   "cell_type": "markdown",
   "metadata": {
    "id": "ghYW-EUylT4Y"
   },
   "source": [
    "**lets check the outlier in the dataset but before do that we will delete some columns whcih just an extent of one column and share the similar observation**<br>\n",
    "Small and large bag are the extension of the total bag thus we are deleteing it.type column has only one value that avocado is conventional type so we can delete it.\n",
    " "
   ]
  },
  {
   "cell_type": "code",
   "execution_count": 30,
   "metadata": {},
   "outputs": [],
   "source": [
    "avocado_ds.drop(columns=[\"Small Bags\",\"Large Bags\"],axis = 1, inplace = True)"
   ]
  },
  {
   "cell_type": "code",
   "execution_count": 31,
   "metadata": {
    "colab": {
     "base_uri": "https://localhost:8080/",
     "height": 340
    },
    "id": "Lfv8sFXsloNV",
    "outputId": "294e591d-8078-4a16-cbfe-bcf0d10d6394"
   },
   "outputs": [
    {
     "data": {
      "image/png": "[encoded data removed]",
      "text/plain": [
       "<Figure size 1080x720 with 9 Axes>"
      ]
     },
     "metadata": {
      "needs_background": "light"
     },
     "output_type": "display_data"
    }
   ],
   "source": [
    "num_data = avocado_ds_analysis_data[[\"Total Volume\",\"PLU_4046\"\t,\"PLU_4225\",\t\"PLU_4770\",\"Total Bags\",\"XLarge Bags\"]]\n",
    "\n",
    "num_data.plot(kind = \"box\", subplots = True, layout=(3,3), figsize = (15,10));"
   ]
  },
  {
   "cell_type": "markdown",
   "metadata": {
    "id": "GKxXftmqpa_K"
   },
   "source": [
    "All numeric columns are full with outlier let treat them but before doing that we will encode cateorical variables."
   ]
  },
  {
   "cell_type": "markdown",
   "metadata": {},
   "source": [
    "# Label Encoding"
   ]
  },
  {
   "cell_type": "code",
   "execution_count": 32,
   "metadata": {
    "id": "-3aGxhSbpCBB"
   },
   "outputs": [],
   "source": [
    "from sklearn.preprocessing import LabelEncoder\n",
    "from scipy.stats import zscore\n",
    "\n",
    "lb = LabelEncoder()\n",
    "lb.fit(avocado_ds[\"region\"])\n",
    "\n",
    "avocado_ds[\"region\"] = lb.transform(avocado_ds[\"region\"])"
   ]
  },
  {
   "cell_type": "code",
   "execution_count": 33,
   "metadata": {
    "id": "1nR8aLCgrVuB"
   },
   "outputs": [
    {
     "data": {
      "text/html": [
       "<div>\n",
       "<style scoped>\n",
       "    .dataframe tbody tr th:only-of-type {\n",
       "        vertical-align: middle;\n",
       "    }\n",
       "\n",
       "    .dataframe tbody tr th {\n",
       "        vertical-align: top;\n",
       "    }\n",
       "\n",
       "    .dataframe thead th {\n",
       "        text-align: right;\n",
       "    }\n",
       "</style>\n",
       "<table border=\"1\" class=\"dataframe\">\n",
       "  <thead>\n",
       "    <tr style=\"text-align: right;\">\n",
       "      <th></th>\n",
       "      <th>Date</th>\n",
       "      <th>AveragePrice</th>\n",
       "      <th>Total Volume</th>\n",
       "      <th>PLU_4046</th>\n",
       "      <th>PLU_4225</th>\n",
       "      <th>PLU_4770</th>\n",
       "      <th>Total Bags</th>\n",
       "      <th>XLarge Bags</th>\n",
       "      <th>type</th>\n",
       "      <th>year</th>\n",
       "      <th>region</th>\n",
       "    </tr>\n",
       "  </thead>\n",
       "  <tbody>\n",
       "    <tr>\n",
       "      <th>0</th>\n",
       "      <td>2015-12-27</td>\n",
       "      <td>1.33</td>\n",
       "      <td>64236.62</td>\n",
       "      <td>1036.74</td>\n",
       "      <td>54454.85</td>\n",
       "      <td>48.16</td>\n",
       "      <td>8696.87</td>\n",
       "      <td>0.0</td>\n",
       "      <td>conventional</td>\n",
       "      <td>2015.0</td>\n",
       "      <td>0</td>\n",
       "    </tr>\n",
       "    <tr>\n",
       "      <th>1</th>\n",
       "      <td>2015-12-20</td>\n",
       "      <td>1.35</td>\n",
       "      <td>54876.98</td>\n",
       "      <td>674.28</td>\n",
       "      <td>44638.81</td>\n",
       "      <td>58.33</td>\n",
       "      <td>9505.56</td>\n",
       "      <td>0.0</td>\n",
       "      <td>conventional</td>\n",
       "      <td>2015.0</td>\n",
       "      <td>0</td>\n",
       "    </tr>\n",
       "    <tr>\n",
       "      <th>2</th>\n",
       "      <td>2015-12-13</td>\n",
       "      <td>0.93</td>\n",
       "      <td>118220.22</td>\n",
       "      <td>794.70</td>\n",
       "      <td>109149.67</td>\n",
       "      <td>130.50</td>\n",
       "      <td>8145.35</td>\n",
       "      <td>0.0</td>\n",
       "      <td>conventional</td>\n",
       "      <td>2015.0</td>\n",
       "      <td>0</td>\n",
       "    </tr>\n",
       "    <tr>\n",
       "      <th>3</th>\n",
       "      <td>2015-06-12</td>\n",
       "      <td>1.08</td>\n",
       "      <td>78992.15</td>\n",
       "      <td>1132.00</td>\n",
       "      <td>71976.41</td>\n",
       "      <td>72.58</td>\n",
       "      <td>5811.16</td>\n",
       "      <td>0.0</td>\n",
       "      <td>conventional</td>\n",
       "      <td>2015.0</td>\n",
       "      <td>0</td>\n",
       "    </tr>\n",
       "    <tr>\n",
       "      <th>4</th>\n",
       "      <td>2015-11-29</td>\n",
       "      <td>1.28</td>\n",
       "      <td>51039.60</td>\n",
       "      <td>941.48</td>\n",
       "      <td>43838.39</td>\n",
       "      <td>75.78</td>\n",
       "      <td>6183.95</td>\n",
       "      <td>0.0</td>\n",
       "      <td>conventional</td>\n",
       "      <td>2015.0</td>\n",
       "      <td>0</td>\n",
       "    </tr>\n",
       "  </tbody>\n",
       "</table>\n",
       "</div>"
      ],
      "text/plain": [
       "        Date  AveragePrice  Total Volume  PLU_4046   PLU_4225  PLU_4770  \\\n",
       "0 2015-12-27          1.33      64236.62   1036.74   54454.85     48.16   \n",
       "1 2015-12-20          1.35      54876.98    674.28   44638.81     58.33   \n",
       "2 2015-12-13          0.93     118220.22    794.70  109149.67    130.50   \n",
       "3 2015-06-12          1.08      78992.15   1132.00   71976.41     72.58   \n",
       "4 2015-11-29          1.28      51039.60    941.48   43838.39     75.78   \n",
       "\n",
       "   Total Bags  XLarge Bags          type    year  region  \n",
       "0     8696.87          0.0  conventional  2015.0       0  \n",
       "1     9505.56          0.0  conventional  2015.0       0  \n",
       "2     8145.35          0.0  conventional  2015.0       0  \n",
       "3     5811.16          0.0  conventional  2015.0       0  \n",
       "4     6183.95          0.0  conventional  2015.0       0  "
      ]
     },
     "execution_count": 33,
     "metadata": {},
     "output_type": "execute_result"
    }
   ],
   "source": [
    "avocado_ds.head()"
   ]
  },
  {
   "cell_type": "code",
   "execution_count": 34,
   "metadata": {
    "id": "pniaIOpOran3"
   },
   "outputs": [
    {
     "data": {
      "text/html": [
       "<div>\n",
       "<style scoped>\n",
       "    .dataframe tbody tr th:only-of-type {\n",
       "        vertical-align: middle;\n",
       "    }\n",
       "\n",
       "    .dataframe tbody tr th {\n",
       "        vertical-align: top;\n",
       "    }\n",
       "\n",
       "    .dataframe thead th {\n",
       "        text-align: right;\n",
       "    }\n",
       "</style>\n",
       "<table border=\"1\" class=\"dataframe\">\n",
       "  <thead>\n",
       "    <tr style=\"text-align: right;\">\n",
       "      <th></th>\n",
       "      <th>Date</th>\n",
       "      <th>AveragePrice</th>\n",
       "      <th>Total Volume</th>\n",
       "      <th>PLU_4046</th>\n",
       "      <th>PLU_4225</th>\n",
       "      <th>PLU_4770</th>\n",
       "      <th>Total Bags</th>\n",
       "      <th>XLarge Bags</th>\n",
       "      <th>type</th>\n",
       "      <th>year</th>\n",
       "      <th>region</th>\n",
       "    </tr>\n",
       "  </thead>\n",
       "  <tbody>\n",
       "    <tr>\n",
       "      <th>1507</th>\n",
       "      <td>2016-11-20</td>\n",
       "      <td>1.57</td>\n",
       "      <td>135608.11</td>\n",
       "      <td>44044.69</td>\n",
       "      <td>28907.47</td>\n",
       "      <td>13913.04</td>\n",
       "      <td>48742.91</td>\n",
       "      <td>0.00</td>\n",
       "      <td>conventional</td>\n",
       "      <td>2016.0</td>\n",
       "      <td>7</td>\n",
       "    </tr>\n",
       "    <tr>\n",
       "      <th>1508</th>\n",
       "      <td>2016-11-13</td>\n",
       "      <td>1.64</td>\n",
       "      <td>144089.12</td>\n",
       "      <td>49399.39</td>\n",
       "      <td>26597.39</td>\n",
       "      <td>22714.68</td>\n",
       "      <td>45377.66</td>\n",
       "      <td>0.00</td>\n",
       "      <td>conventional</td>\n",
       "      <td>2016.0</td>\n",
       "      <td>7</td>\n",
       "    </tr>\n",
       "    <tr>\n",
       "      <th>1509</th>\n",
       "      <td>2016-06-11</td>\n",
       "      <td>1.57</td>\n",
       "      <td>142095.92</td>\n",
       "      <td>36840.74</td>\n",
       "      <td>27501.34</td>\n",
       "      <td>25305.86</td>\n",
       "      <td>52447.98</td>\n",
       "      <td>0.00</td>\n",
       "      <td>conventional</td>\n",
       "      <td>2016.0</td>\n",
       "      <td>7</td>\n",
       "    </tr>\n",
       "    <tr>\n",
       "      <th>1510</th>\n",
       "      <td>2016-10-30</td>\n",
       "      <td>1.58</td>\n",
       "      <td>142955.49</td>\n",
       "      <td>39376.44</td>\n",
       "      <td>29382.30</td>\n",
       "      <td>26881.22</td>\n",
       "      <td>47315.53</td>\n",
       "      <td>240.28</td>\n",
       "      <td>conventional</td>\n",
       "      <td>2016.0</td>\n",
       "      <td>7</td>\n",
       "    </tr>\n",
       "    <tr>\n",
       "      <th>1511</th>\n",
       "      <td>2016-10-23</td>\n",
       "      <td>1.52</td>\n",
       "      <td>167741.27</td>\n",
       "      <td>54981.90</td>\n",
       "      <td>39749.81</td>\n",
       "      <td>20290.31</td>\n",
       "      <td>52719.25</td>\n",
       "      <td>0.00</td>\n",
       "      <td>conventional</td>\n",
       "      <td>2016.0</td>\n",
       "      <td>7</td>\n",
       "    </tr>\n",
       "    <tr>\n",
       "      <th>1512</th>\n",
       "      <td>2016-10-16</td>\n",
       "      <td>1.39</td>\n",
       "      <td>190846.01</td>\n",
       "      <td>57529.11</td>\n",
       "      <td>56366.66</td>\n",
       "      <td>17531.78</td>\n",
       "      <td>59418.46</td>\n",
       "      <td>240.28</td>\n",
       "      <td>conventional</td>\n",
       "      <td>2016.0</td>\n",
       "      <td>7</td>\n",
       "    </tr>\n",
       "    <tr>\n",
       "      <th>1513</th>\n",
       "      <td>2016-09-10</td>\n",
       "      <td>1.51</td>\n",
       "      <td>178235.75</td>\n",
       "      <td>43325.87</td>\n",
       "      <td>52189.61</td>\n",
       "      <td>19419.57</td>\n",
       "      <td>63300.70</td>\n",
       "      <td>0.00</td>\n",
       "      <td>conventional</td>\n",
       "      <td>2016.0</td>\n",
       "      <td>7</td>\n",
       "    </tr>\n",
       "    <tr>\n",
       "      <th>1514</th>\n",
       "      <td>2016-02-10</td>\n",
       "      <td>1.48</td>\n",
       "      <td>178410.82</td>\n",
       "      <td>46364.75</td>\n",
       "      <td>52893.38</td>\n",
       "      <td>16736.92</td>\n",
       "      <td>62415.77</td>\n",
       "      <td>825.00</td>\n",
       "      <td>conventional</td>\n",
       "      <td>2016.0</td>\n",
       "      <td>7</td>\n",
       "    </tr>\n",
       "    <tr>\n",
       "      <th>1515</th>\n",
       "      <td>2016-09-25</td>\n",
       "      <td>1.47</td>\n",
       "      <td>189131.52</td>\n",
       "      <td>54110.79</td>\n",
       "      <td>53593.58</td>\n",
       "      <td>17495.42</td>\n",
       "      <td>63931.73</td>\n",
       "      <td>0.00</td>\n",
       "      <td>conventional</td>\n",
       "      <td>2016.0</td>\n",
       "      <td>7</td>\n",
       "    </tr>\n",
       "    <tr>\n",
       "      <th>1516</th>\n",
       "      <td>2016-09-18</td>\n",
       "      <td>1.43</td>\n",
       "      <td>182978.30</td>\n",
       "      <td>43116.41</td>\n",
       "      <td>54193.42</td>\n",
       "      <td>16563.91</td>\n",
       "      <td>69104.56</td>\n",
       "      <td>0.00</td>\n",
       "      <td>conventional</td>\n",
       "      <td>2016.0</td>\n",
       "      <td>7</td>\n",
       "    </tr>\n",
       "  </tbody>\n",
       "</table>\n",
       "</div>"
      ],
      "text/plain": [
       "           Date  AveragePrice  Total Volume  PLU_4046  PLU_4225  PLU_4770  \\\n",
       "1507 2016-11-20          1.57     135608.11  44044.69  28907.47  13913.04   \n",
       "1508 2016-11-13          1.64     144089.12  49399.39  26597.39  22714.68   \n",
       "1509 2016-06-11          1.57     142095.92  36840.74  27501.34  25305.86   \n",
       "1510 2016-10-30          1.58     142955.49  39376.44  29382.30  26881.22   \n",
       "1511 2016-10-23          1.52     167741.27  54981.90  39749.81  20290.31   \n",
       "1512 2016-10-16          1.39     190846.01  57529.11  56366.66  17531.78   \n",
       "1513 2016-09-10          1.51     178235.75  43325.87  52189.61  19419.57   \n",
       "1514 2016-02-10          1.48     178410.82  46364.75  52893.38  16736.92   \n",
       "1515 2016-09-25          1.47     189131.52  54110.79  53593.58  17495.42   \n",
       "1516 2016-09-18          1.43     182978.30  43116.41  54193.42  16563.91   \n",
       "\n",
       "      Total Bags  XLarge Bags          type    year  region  \n",
       "1507    48742.91         0.00  conventional  2016.0       7  \n",
       "1508    45377.66         0.00  conventional  2016.0       7  \n",
       "1509    52447.98         0.00  conventional  2016.0       7  \n",
       "1510    47315.53       240.28  conventional  2016.0       7  \n",
       "1511    52719.25         0.00  conventional  2016.0       7  \n",
       "1512    59418.46       240.28  conventional  2016.0       7  \n",
       "1513    63300.70         0.00  conventional  2016.0       7  \n",
       "1514    62415.77       825.00  conventional  2016.0       7  \n",
       "1515    63931.73         0.00  conventional  2016.0       7  \n",
       "1516    69104.56         0.00  conventional  2016.0       7  "
      ]
     },
     "execution_count": 34,
     "metadata": {},
     "output_type": "execute_result"
    }
   ],
   "source": [
    "avocado_ds.tail(10)"
   ]
  },
  {
   "cell_type": "code",
   "execution_count": 35,
   "metadata": {
    "id": "UiJDNjwk1SXq"
   },
   "outputs": [
    {
     "name": "stdout",
     "output_type": "stream",
     "text": [
      "0.04416611733684905  data we lost after outlier treatment\n"
     ]
    }
   ],
   "source": [
    "# Treating the outlier with zscore and delete the date and year columns, i kept it for EDA purpose.\n",
    "avocado_ds.drop(columns=[\"Date\",\"year\",\"type\"],axis = 1,inplace = True)\n",
    "\n",
    "score = np.abs(zscore(avocado_ds))\n",
    "\n",
    "new_avocado_ds = avocado_ds[(score <3).all(axis = 1)]\n",
    "\n",
    "# how much data lost post outlier treamement\n",
    "\n",
    "data_loss = len(new_avocado_ds)/len(avocado_ds)\n",
    "print(1- data_loss,\" data we lost after outlier treatment\")"
   ]
  },
  {
   "cell_type": "markdown",
   "metadata": {},
   "source": [
    "we have corrected the outlier using the z score and seen that we have lost 4.5% data approx and it seem ok to lose."
   ]
  },
  {
   "cell_type": "code",
   "execution_count": 36,
   "metadata": {
    "scrolled": false
   },
   "outputs": [
    {
     "name": "stdout",
     "output_type": "stream",
     "text": [
      "before PLU_4046       2.975422\n",
      "PLU_4225       2.276566\n",
      "PLU_4770       3.205071\n",
      "XLarge Bags    4.922540\n",
      "dtype: float64\n",
      "after 0   -0.026799\n",
      "1    0.000982\n",
      "2   -0.056341\n",
      "3    0.466782\n",
      "dtype: float64\n"
     ]
    }
   ],
   "source": [
    "from sklearn.preprocessing import power_transform\n",
    "select_data =new_avocado_ds[[\"PLU_4046\",\"PLU_4225\",\"PLU_4770\",\"XLarge Bags\"]]\n",
    "\n",
    "print(\"before\",select_data.skew())\n",
    "select_data = power_transform(select_data,method='yeo-johnson', standardize=False)\n",
    "tranform_data = pd.DataFrame(select_data)\n",
    "print(\"after\",tranform_data.skew())"
   ]
  },
  {
   "cell_type": "code",
   "execution_count": 37,
   "metadata": {},
   "outputs": [],
   "source": [
    "# checking the name of the columsn becaue after power_transform it get convert into numpy array and index value assigned to columns.\n",
    "tranform_data.rename(columns = {0:\"trans_PLU_4046\",1:\"trans_PLU_4225\",2:\"trans_PLU_4770\",3:\"trans_Xlarge Bags\"}, inplace = True)\n",
    "# joining transformed data \n",
    "\n",
    "new_avocado_ds = pd.concat([new_avocado_ds,tranform_data],axis = 1,join = \"inner\")\n",
    "\n",
    "# since transformed features are added in the data so we need to deleted original one to avoid duplicacy\n",
    "new_avocado_ds.drop(columns =[\"PLU_4046\",\"PLU_4225\",\"PLU_4770\",\"XLarge Bags\"],axis =1, inplace =True)\n"
   ]
  },
  {
   "cell_type": "code",
   "execution_count": 38,
   "metadata": {
    "scrolled": true
   },
   "outputs": [
    {
     "data": {
      "text/plain": [
       "AveragePrice        -0.255823\n",
       "Total Volume         2.695689\n",
       "Total Bags           2.962352\n",
       "region               0.229088\n",
       "trans_PLU_4046      -0.034920\n",
       "trans_PLU_4225      -0.010051\n",
       "trans_PLU_4770      -0.054778\n",
       "trans_Xlarge Bags    0.508620\n",
       "dtype: float64"
      ]
     },
     "execution_count": 38,
     "metadata": {},
     "output_type": "execute_result"
    }
   ],
   "source": [
    "new_avocado_ds.skew()"
   ]
  },
  {
   "cell_type": "code",
   "execution_count": 39,
   "metadata": {},
   "outputs": [],
   "source": [
    "new_avocado_ds[\"Total Volume\"] = np.log1p(new_avocado_ds[\"Total Volume\"])\n",
    "new_avocado_ds[\"Total Bags\"] = np.log1p(new_avocado_ds[\"Total Bags\"])"
   ]
  },
  {
   "cell_type": "code",
   "execution_count": 40,
   "metadata": {
    "scrolled": true
   },
   "outputs": [
    {
     "data": {
      "text/plain": [
       "AveragePrice        -0.255823\n",
       "Total Volume         0.430677\n",
       "Total Bags           0.293345\n",
       "region               0.229088\n",
       "trans_PLU_4046      -0.034920\n",
       "trans_PLU_4225      -0.010051\n",
       "trans_PLU_4770      -0.054778\n",
       "trans_Xlarge Bags    0.508620\n",
       "dtype: float64"
      ]
     },
     "execution_count": 40,
     "metadata": {},
     "output_type": "execute_result"
    }
   ],
   "source": [
    "new_avocado_ds.skew()"
   ]
  },
  {
   "cell_type": "markdown",
   "metadata": {},
   "source": [
    "we had skewness in a few of the features in the dataset and which has been corrected by using power transform and two columns have been corrected by using log1p because while performing power transform on these two feature these were not getting conveted. Power transform return result in the form of array hence we had to rename the columns name after converting them into pandas data Frame.<br>\n",
    "We took features serprataly which had high skewness and assigned them in other variable. performed power transform and concat  the transformed features into  original dataset by using pandas function."
   ]
  },
  {
   "cell_type": "code",
   "execution_count": 41,
   "metadata": {
    "id": "bEmRK4fKgPxS"
   },
   "outputs": [
    {
     "data": {
      "text/plain": [
       "<matplotlib.axes._subplots.AxesSubplot at 0x13fdd1ae748>"
      ]
     },
     "execution_count": 41,
     "metadata": {},
     "output_type": "execute_result"
    },
    {
     "data": {
      "image/png": "[encoded data removed]",
      "text/plain": [
       "<Figure size 864x432 with 2 Axes>"
      ]
     },
     "metadata": {
      "needs_background": "light"
     },
     "output_type": "display_data"
    }
   ],
   "source": [
    "plt.figure(figsize=(12,6))\n",
    "sns.heatmap(new_avocado_ds.corr(),annot = True)"
   ]
  },
  {
   "cell_type": "markdown",
   "metadata": {
    "id": "uEWx97cCjoXB"
   },
   "source": [
    "Total Volume and Total bags are highly correlated and we should drop one.\n"
   ]
  },
  {
   "cell_type": "code",
   "execution_count": 55,
   "metadata": {},
   "outputs": [],
   "source": [
    "new_avocado_dsX_check = new_avocado_ds.copy()\n"
   ]
  },
  {
   "cell_type": "code",
   "execution_count": 62,
   "metadata": {},
   "outputs": [],
   "source": [
    "new_avocado_ds.drop(\"Total Bags\",axis =1, inplace = True)"
   ]
  },
  {
   "cell_type": "code",
   "execution_count": 63,
   "metadata": {},
   "outputs": [
    {
     "data": {
      "text/plain": [
       "<matplotlib.axes._subplots.AxesSubplot at 0x13fdf7cdcc0>"
      ]
     },
     "execution_count": 63,
     "metadata": {},
     "output_type": "execute_result"
    },
    {
     "data": {
      "image/png": "[encoded data removed]",
      "text/plain": [
       "<Figure size 864x432 with 2 Axes>"
      ]
     },
     "metadata": {
      "needs_background": "light"
     },
     "output_type": "display_data"
    }
   ],
   "source": [
    "plt.figure(figsize=(12,6))\n",
    "sns.heatmap(new_avocado_ds.corr(),annot = True)"
   ]
  },
  {
   "cell_type": "markdown",
   "metadata": {},
   "source": [
    "# Data is ready for \"Modeling\""
   ]
  },
  {
   "cell_type": "code",
   "execution_count": 64,
   "metadata": {},
   "outputs": [
    {
     "name": "stdout",
     "output_type": "stream",
     "text": [
      "Training_score 0.19869838820001762 Random_state 50\n",
      "test_score 0.1995176979589789\n",
      "Mean_squared_error 0.02549721425154033\n",
      "R2_scoe 0.1995176979589789 \n",
      "\n",
      "Training_score 0.1967985178696945 Random_state 125\n",
      "test_score 0.204195870597925\n",
      "Mean_squared_error 0.027086035563694804\n",
      "R2_scoe 0.204195870597925 \n",
      "\n",
      "Training_score 0.20587630233707288 Random_state 200\n",
      "test_score 0.16139288717246214\n",
      "Mean_squared_error 0.024883901646120796\n",
      "R2_scoe 0.16139288717246214 \n",
      "\n",
      "Training_score 0.19752381356218485 Random_state 275\n",
      "test_score 0.2027497810184884\n",
      "Mean_squared_error 0.025670060360866172\n",
      "R2_scoe 0.2027497810184884 \n",
      "\n",
      "Training_score 0.19179433425027548 Random_state 350\n",
      "test_score 0.21839490373146186\n",
      "Mean_squared_error 0.028297682254727945\n",
      "R2_scoe 0.21839490373146186 \n",
      "\n",
      "Training_score 0.2180441716562086 Random_state 425\n",
      "test_score 0.10714957624331034\n",
      "Mean_squared_error 0.027600444623727533\n",
      "R2_scoe 0.10714957624331034 \n",
      "\n"
     ]
    }
   ],
   "source": [
    "# seprate data into train and test and create model\n",
    "\n",
    "X = new_avocado_ds.drop(\"AveragePrice\",axis =1)\n",
    "y =new_avocado_ds[\"AveragePrice\"]\n",
    "\n",
    "# Applying standard scaler to scale the data point.\n",
    "\n",
    "sc = StandardScaler()\n",
    "X = sc.fit_transform(X)\n",
    "\n",
    "\n",
    "# we will find best random state wit this for loop.\n",
    "for i in range(50,500,75):\n",
    "    LR = LinearRegression()\n",
    "    X_train,X_test,y_train,y_test = train_test_split(X,y,test_size = 0.2, random_state =i)\n",
    "    LR.fit(X_train,y_train)\n",
    "    print(\"Training_score\",LR.score(X_train,y_train),\"Random_state\",i)\n",
    "    pred = LR.predict(X_test)\n",
    "    print(\"test_score\",LR.score(X_test,y_test))\n",
    "    print(\"Mean_squared_error\",mean_squared_error(y_test,pred))\n",
    "    print(\"R2_scoe\",r2_score(y_test,pred),\"\\n\")\n",
    "    \n",
    "\n"
   ]
  },
  {
   "cell_type": "code",
   "execution_count": 65,
   "metadata": {},
   "outputs": [
    {
     "name": "stdout",
     "output_type": "stream",
     "text": [
      "Training_score 0.9619371180265482 Random_state 50\n",
      "test_score 0.7372074544341801\n",
      "Mean_squared_error 0.00837055088028169\n",
      "R2_scoe 0.7372074544341801 \n",
      "\n",
      "Training_score 0.9673441805779315 Random_state 100\n",
      "test_score 0.6992687127800861\n",
      "Mean_squared_error 0.009886435176056354\n",
      "R2_scoe 0.6992687127800861 \n",
      "\n",
      "Training_score 0.9619231628817227 Random_state 150\n",
      "test_score 0.7458295776461346\n",
      "Mean_squared_error 0.010286839119718309\n",
      "R2_scoe 0.7458295776461346 \n",
      "\n",
      "Training_score 0.9657218558785433 Random_state 200\n",
      "test_score 0.7112001153220804\n",
      "Mean_squared_error 0.008569528943661964\n",
      "R2_scoe 0.7112001153220804 \n",
      "\n",
      "Training_score 0.963128415316457 Random_state 250\n",
      "test_score 0.7327711514424733\n",
      "Mean_squared_error 0.009556170352112673\n",
      "R2_scoe 0.7327711514424733 \n",
      "\n",
      "Training_score 0.9644951331360245 Random_state 300\n",
      "test_score 0.7261993104268224\n",
      "Mean_squared_error 0.009730722253521116\n",
      "R2_scoe 0.7261993104268224 \n",
      "\n",
      "Training_score 0.9639378502912684 Random_state 350\n",
      "test_score 0.7470539082483151\n",
      "Mean_squared_error 0.009157806373239435\n",
      "R2_scoe 0.7470539082483151 \n",
      "\n",
      "Training_score 0.9634869703578193 Random_state 400\n",
      "test_score 0.7180383208101835\n",
      "Mean_squared_error 0.009830223943661974\n",
      "R2_scoe 0.7180383208101835 \n",
      "\n",
      "Training_score 0.9640158008006974 Random_state 450\n",
      "test_score 0.7646410854672226\n",
      "Mean_squared_error 0.007283672077464794\n",
      "R2_scoe 0.7646410854672226 \n",
      "\n"
     ]
    }
   ],
   "source": [
    "# testing\n",
    "for i in range(50,500,50):\n",
    "    RF = RandomForestRegressor()\n",
    "    X_train,X_test,y_train,y_test = train_test_split(X,y,test_size = 0.2, random_state =i)\n",
    "    RF.fit(X_train,y_train)\n",
    "    print(\"Training_score\",RF.score(X_train,y_train),\"Random_state\",i)\n",
    "    pred = RF.predict(X_test)\n",
    "    print(\"test_score\",RF.score(X_test,y_test))\n",
    "    print(\"Mean_squared_error\",mean_squared_error(y_test,pred))\n",
    "    print(\"R2_scoe\",r2_score(y_test,pred),\"\\n\")"
   ]
  },
  {
   "cell_type": "code",
   "execution_count": 66,
   "metadata": {},
   "outputs": [
    {
     "name": "stdout",
     "output_type": "stream",
     "text": [
      "Training_score 0.9618892691400704 Random_state 50\n",
      "test_score 0.7392742918623445\n",
      "Mean_squared_error 0.008304717323943663\n",
      "R2_scoe 0.7392742918623445 \n",
      "\n",
      "Training_score 0.9673290476227816 Random_state 100\n",
      "test_score 0.7057779433186238\n",
      "Mean_squared_error 0.009672446514084512\n",
      "R2_scoe 0.7057779433186238 \n",
      "\n",
      "Training_score 0.9616710240575533 Random_state 150\n",
      "test_score 0.7443951653491057\n",
      "Mean_squared_error 0.010344892957746472\n",
      "R2_scoe 0.7443951653491057 \n",
      "\n",
      "Training_score 0.9657309182599702 Random_state 200\n",
      "test_score 0.7098603107988557\n",
      "Mean_squared_error 0.008609284823943658\n",
      "R2_scoe 0.7098603107988557 \n",
      "\n",
      "Training_score 0.9610787870256575 Random_state 250\n",
      "test_score 0.7224483413201368\n",
      "Mean_squared_error 0.009925316619718303\n",
      "R2_scoe 0.7224483413201368 \n",
      "\n",
      "Training_score 0.9633106785323444 Random_state 300\n",
      "test_score 0.7326663793445098\n",
      "Mean_squared_error 0.009500886267605613\n",
      "R2_scoe 0.7326663793445098 \n",
      "\n",
      "Training_score 0.9626797515010069 Random_state 350\n",
      "test_score 0.7510381099191801\n",
      "Mean_squared_error 0.009013560035211263\n",
      "R2_scoe 0.7510381099191801 \n",
      "\n",
      "Training_score 0.9647428019900266 Random_state 400\n",
      "test_score 0.715049001438709\n",
      "Mean_squared_error 0.009934442640845068\n",
      "R2_scoe 0.715049001438709 \n",
      "\n",
      "Training_score 0.9649174540296183 Random_state 450\n",
      "test_score 0.7591289822392656\n",
      "Mean_squared_error 0.007454255598591559\n",
      "R2_scoe 0.7591289822392656 \n",
      "\n"
     ]
    }
   ],
   "source": [
    "for i in range(50,500,50):\n",
    "    RF = RandomForestRegressor()\n",
    "    X_train,X_test,y_train,y_test = train_test_split(X,y,test_size = 0.2, random_state =i)\n",
    "    RF.fit(X_train,y_train)\n",
    "    print(\"Training_score\",RF.score(X_train,y_train),\"Random_state\",i)\n",
    "    pred = RF.predict(X_test)\n",
    "    print(\"test_score\",RF.score(X_test,y_test))\n",
    "    print(\"Mean_squared_error\",mean_squared_error(y_test,pred))\n",
    "    print(\"R2_scoe\",r2_score(y_test,pred),\"\\n\")"
   ]
  },
  {
   "cell_type": "markdown",
   "metadata": {},
   "source": [
    "we have check two algorithm for checking the best random stats. linear regression didnt work well so i tried Randomforest, it is giving somewhat good test score and found best random state.so we will used other model with that randomforest "
   ]
  },
  {
   "cell_type": "code",
   "execution_count": 67,
   "metadata": {},
   "outputs": [
    {
     "name": "stdout",
     "output_type": "stream",
     "text": [
      "Training_score 0.19985775947811701 Algorithm LinearRegression()\n",
      "test_score 0.1905580240093907\n",
      "Mean_squared_error 0.02504986875281353\n",
      "R2_scoe 0.1905580240093907 \n",
      "\n",
      "Training_score 0.19985755925334336 Algorithm Ridge()\n",
      "test_score 0.19053662764134027\n",
      "Mean_squared_error 0.025050530908010994\n",
      "R2_scoe 0.19053662764134027 \n",
      "\n",
      "Training_score 0.0 Algorithm Lasso()\n",
      "test_score -0.0039917765760231205\n",
      "Mean_squared_error 0.03107061775657807\n",
      "R2_scoe -0.0039917765760231205 \n",
      "\n",
      "Training_score 0.9653796175563059 Algorithm RandomForestRegressor()\n",
      "test_score 0.772036405562669\n",
      "Mean_squared_error 0.007054808485915494\n",
      "R2_scoe 0.772036405562669 \n",
      "\n",
      "Training_score 0.5831080372633258 Algorithm AdaBoostRegressor()\n",
      "test_score 0.5119732726739763\n",
      "Mean_squared_error 0.015103004081819249\n",
      "R2_scoe 0.5119732726739763 \n",
      "\n",
      "Training_score 1.0 Algorithm DecisionTreeRegressor()\n",
      "test_score 0.5546578057969576\n",
      "Mean_squared_error 0.013782042253521124\n",
      "R2_scoe 0.5546578057969576 \n",
      "\n",
      "Training_score 0.6713738765896875 Algorithm SVR()\n",
      "test_score 0.5840642321519178\n",
      "Mean_squared_error 0.012871999109564405\n",
      "R2_scoe 0.5840642321519178 \n",
      "\n",
      "Training_score 0.8081691466638513 Algorithm KNeighborsRegressor()\n",
      "test_score 0.6493696806337006\n",
      "Mean_squared_error 0.010850985915492958\n",
      "R2_scoe 0.6493696806337006 \n",
      "\n"
     ]
    }
   ],
   "source": [
    "models = [LinearRegression(),Ridge(),Lasso(),RandomForestRegressor(),AdaBoostRegressor(),DecisionTreeRegressor(),SVR(),KNeighborsRegressor()]\n",
    "\n",
    "for model in models:\n",
    "    X_train1,X_test1,y_train1,y_test1 = train_test_split(X,y,test_size = 0.2, random_state =450)\n",
    "    model.fit(X_train,y_train)\n",
    "    print(\"Training_score\",model.score(X_train,y_train),\"Algorithm\",model)\n",
    "    pred = model.predict(X_test)\n",
    "    print(\"test_score\",model.score(X_test,y_test))\n",
    "    print(\"Mean_squared_error\",mean_squared_error(y_test,pred))\n",
    "    print(\"R2_scoe\",r2_score(y_test,pred),\"\\n\")"
   ]
  },
  {
   "cell_type": "markdown",
   "metadata": {},
   "source": [
    "KNN is giving best score on trainin as well test so i am selecting it for final model and applying GridSearchCV. Randomforest is kind of overfit model."
   ]
  },
  {
   "cell_type": "code",
   "execution_count": 68,
   "metadata": {},
   "outputs": [
    {
     "name": "stdout",
     "output_type": "stream",
     "text": [
      "Fitting 5 folds for each of 36 candidates, totalling 180 fits\n"
     ]
    },
    {
     "name": "stderr",
     "output_type": "stream",
     "text": [
      "[Parallel(n_jobs=-1)]: Using backend LokyBackend with 4 concurrent workers.\n",
      "[Parallel(n_jobs=-1)]: Done  33 tasks      | elapsed:   13.2s\n",
      "[Parallel(n_jobs=-1)]: Done 154 tasks      | elapsed:   54.1s\n",
      "[Parallel(n_jobs=-1)]: Done 180 out of 180 | elapsed:  1.1min finished\n"
     ]
    },
    {
     "name": "stdout",
     "output_type": "stream",
     "text": [
      "{'max_depth': 5, 'max_features': 'auto', 'n_estimators': 300}\n"
     ]
    }
   ],
   "source": [
    "RF = RandomForestRegressor()\n",
    "para = {\"n_estimators\":[100,200,300],\n",
    "       \"max_depth\":[2,3,4,5],\n",
    "       \"max_features\":[\"auto\", \"sqrt\", \"log2\"]}\n",
    "\n",
    "grid_search_RF = GridSearchCV(RF,para,scoring=\"r2\",cv = 5, n_jobs = -1, verbose =2)\n",
    "grid_search_RF.fit(X_train1,y_train1)\n",
    "print(grid_search_RF.best_params_)"
   ]
  },
  {
   "cell_type": "code",
   "execution_count": 69,
   "metadata": {},
   "outputs": [
    {
     "data": {
      "text/plain": [
       "0.5753661411876376"
      ]
     },
     "execution_count": 69,
     "metadata": {},
     "output_type": "execute_result"
    }
   ],
   "source": [
    "grid_search_RF.best_score_"
   ]
  },
  {
   "cell_type": "code",
   "execution_count": 70,
   "metadata": {
    "scrolled": true
   },
   "outputs": [
    {
     "name": "stdout",
     "output_type": "stream",
     "text": [
      "Fitting 5 folds for each of 64 candidates, totalling 320 fits\n"
     ]
    },
    {
     "name": "stderr",
     "output_type": "stream",
     "text": [
      "[Parallel(n_jobs=-1)]: Using backend LokyBackend with 4 concurrent workers.\n",
      "[Parallel(n_jobs=-1)]: Done 128 tasks      | elapsed:    0.7s\n"
     ]
    },
    {
     "name": "stdout",
     "output_type": "stream",
     "text": [
      "{'algorithm': 'auto', 'n_neighbors': 5, 'p': 1, 'weights': 'distance'}\n"
     ]
    },
    {
     "name": "stderr",
     "output_type": "stream",
     "text": [
      "[Parallel(n_jobs=-1)]: Done 320 out of 320 | elapsed:    1.7s finished\n"
     ]
    }
   ],
   "source": [
    "knn = KNeighborsRegressor()\n",
    "grid_para = {\"n_neighbors\":[5,7,10,12],\n",
    "            \"weights\":[\"uniform\", \"distance\"],\n",
    "            \"algorithm\" :[\"auto\", \"ball_tree\", \"kd_tree\", \"brute\"],\n",
    "            \"p\" :[1,2]}\n",
    "grid_search_KNN = GridSearchCV(knn,grid_para,scoring=\"r2\",cv = 5, n_jobs = -1, verbose =2)\n",
    "grid_search_KNN.fit(X_train1,y_train1)\n",
    "print(grid_search_KNN.best_params_)"
   ]
  },
  {
   "cell_type": "code",
   "execution_count": 71,
   "metadata": {},
   "outputs": [
    {
     "data": {
      "text/plain": [
       "0.706584416718475"
      ]
     },
     "execution_count": 71,
     "metadata": {},
     "output_type": "execute_result"
    }
   ],
   "source": [
    "grid_search_KNN.best_score_"
   ]
  },
  {
   "cell_type": "markdown",
   "metadata": {},
   "source": [
    "we have got the best parameter through Grid Search CV, appying cross_val_score"
   ]
  },
  {
   "cell_type": "code",
   "execution_count": 72,
   "metadata": {
    "scrolled": true
   },
   "outputs": [
    {
     "name": "stdout",
     "output_type": "stream",
     "text": [
      "At 2 mean is  -0.048103662646596886 and the SD is  0.008264538854395091\n",
      "At 3 mean is  -0.03477308885838542 and the SD is  0.007788179739537784\n",
      "At 4 mean is  -0.038674503287523095 and the SD is  0.01666102075132143\n",
      "At 5 mean is  -0.035351926793095886 and the SD is  0.017032384045042998\n",
      "At 6 mean is  -0.03478837345496212 and the SD is  0.014947514300995505\n",
      "At 7 mean is  -0.02985196178543439 and the SD is  0.018063444979638344\n",
      "At 8 mean is  -0.03178689853131309 and the SD is  0.019390830910204694\n",
      "At 9 mean is  -0.03147845924066818 and the SD is  0.022380399830472703\n"
     ]
    }
   ],
   "source": [
    "best_RF = RandomForestRegressor(max_depth = 5,max_features=\"auto\",n_estimators =200)\n",
    "\n",
    "for i in range(2,10):\n",
    "    cross_val_report = cross_val_score(best_RF,X,y,scoring = \"neg_mean_squared_error\",cv = i)\n",
    "    print(\"At\",i,\"mean is \",cross_val_report.mean() ,\"and the SD is \",cross_val_report.std())\n"
   ]
  },
  {
   "cell_type": "code",
   "execution_count": 73,
   "metadata": {},
   "outputs": [
    {
     "name": "stdout",
     "output_type": "stream",
     "text": [
      "At 2 mean is  -0.04040044654546723 and the SD is  0.003132066015335496\n",
      "At 3 mean is  -0.040694879423680955 and the SD is  0.004987851991341175\n",
      "At 4 mean is  -0.032501614934171294 and the SD is  0.011919421727307734\n",
      "At 5 mean is  -0.0365731160952418 and the SD is  0.011795255656627174\n",
      "At 6 mean is  -0.0353383949449379 and the SD is  0.008468625864483615\n",
      "At 7 mean is  -0.03796089064316651 and the SD is  0.013207479031555384\n",
      "At 8 mean is  -0.03191588173693921 and the SD is  0.01596983975715626\n",
      "At 9 mean is  -0.041492109806076455 and the SD is  0.028992004787214757\n"
     ]
    }
   ],
   "source": [
    "best_knn =  knn = KNeighborsRegressor(algorithm =\"auto\",p =1,weights = \"distance\")\n",
    "\n",
    "for i in range(2,10):\n",
    "    cross_val_report = cross_val_score(best_knn,X,y,scoring = \"neg_mean_squared_error\",cv = i)\n",
    "    print(\"At\",i,\"mean is \",cross_val_report.mean() ,\"and the SD is \",cross_val_report.std())\n"
   ]
  },
  {
   "cell_type": "markdown",
   "metadata": {},
   "source": [
    "i have checked GridSreach CV on Randomforest and KNN. Using GridSreachCV on randomforest because it was overfit model and though of that by hyperparameter tuning we can save the overfitting but KNN is working robust in this situation.\n",
    "we have seen that cross_val_score at 4 iteration, it isgood other than that. Thus it is the better that other. we will save the same model for future use.  "
   ]
  },
  {
   "cell_type": "markdown",
   "metadata": {},
   "source": [
    "# Modeling saving"
   ]
  },
  {
   "cell_type": "code",
   "execution_count": 74,
   "metadata": {},
   "outputs": [],
   "source": [
    "best_knn.fit(X,y)\n",
    "import pickle\n",
    "filename = \"Avocado.pkl\"\n",
    "with open(filename,\"wb\") as f:\n",
    "    pickle.dump(best_knn,f)\n"
   ]
  },
  {
   "cell_type": "markdown",
   "metadata": {},
   "source": [
    "# **Conclusion**<br>\n",
    "As we already mentioned that dataset had lot of missing value which we handled. Outlier and skewness also get corrected.We have done analysis \n",
    "and check the trend also. i have checked correlation and VIF, it has observed that predictor are correlated thus multicolinerrity was in existance.it ought to be treated and we did that and data was ready for Modeling.<br><br>Dataset has been segrigated into train and test with best random state.<br>Data has been trained on multiple models like linear regression , ensemble methods. support vector machine and KNN, among all the algorithms, KNN has given good test and train accuracy.<br> KNN is picked as final Model and applied Gridsearch CV to find the best parameter to train it further.We got these {'algorithm': 'auto', 'n_neighbors': 5, 'p': 1, 'weights': 'distance'} best parameter, i have used these parameter with cross_val_score and saved model with these parameter.     \n"
   ]
  },
  {
   "cell_type": "code",
   "execution_count": null,
   "metadata": {},
   "outputs": [],
   "source": []
  }
 ],
 "metadata": {
  "colab": {
   "collapsed_sections": [],
   "name": "Avocado Regression.ipynb",
   "provenance": []
  },
  "kernelspec": {
   "display_name": "Python 3",
   "language": "python",
   "name": "python3"
  },
  "language_info": {
   "codemirror_mode": {
    "name": "ipython",
    "version": 3
   },
   "file_extension": ".py",
   "mimetype": "text/x-python",
   "name": "python",
   "nbconvert_exporter": "python",
   "pygments_lexer": "ipython3",
   "version": "3.7.3"
  }
 },
 "nbformat": 4,
 "nbformat_minor": 1
}
