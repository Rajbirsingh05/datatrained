{
 "cells": [
  {
   "cell_type": "markdown",
   "metadata": {
    "id": "XWSwR9q4gaot"
   },
   "source": [
    "# Problem Statement:<br>\n",
    "This dataset utilizes data from 2014 Major League Baseball seasons in order to develop an algorithm that predicts the number of wins for a given team in the 2015 season based on several different indicators of success. There are 16 different features that will be used as the inputs to the machine learning and the output will be a value that represents the number of wins. \n",
    "\n",
    "-- Input features: Runs, At Bats, Hits, Doubles, Triples, Homeruns, Walks, Strikeouts, Stolen Bases, Runs Allowed, Earned Runs, Earned Run Average (ERA), Shutouts, Saves, and Errors\n",
    "\n",
    "# Descriptiion of the features<br>\n",
    "\n",
    "1. W  == Number of matches win<br>\n",
    "2. R( Runs) == number of times a player crosses home plate and score counts<br>\n",
    "3. AB ( At bat) == At bat or time at bat is a batter's turn batting against a pitcher<br>\n",
    "4. H (Hit) == reaching base because of a batted<br>\n",
    "5. 2B ( double) ==  hits on which the batter reaches second base safely without the contribution of a fielding error<br>\n",
    "6. 3B (triple) == hits on which the batter reaches third base safely without the contribution of a fielding error<br>\n",
    "7. HR (Home runs) == hits on which the batter successfully touched all four bases, without the contribution of a fielding error<br>\n",
    "8. BB (Base on balls) == (also called a \"walk\") hitter not swinging at four pitches called out of the strike zone and awarded first base<br>\n",
    "9. SO (Strike out) == number of batters who received strike three \n",
    "10. SB (stolen bases) ==  number of bases advanced by the runner while the ball is in the possession of the defens<br>\n",
    "11. RA (Run ) ==number of runs allowed times nine divided by innings pitched<br>\n",
    "12. ER (earned run) ==number of runs that did not occur as a result of errors or passed balls<br>\n",
    "13. ERA (earned run average) == otal number of earned runs (see \"ER\" above), multiplied by 9, divided by innings pitched<br>\n",
    "14. CG (complete game) ==umber of games where player was the only pitcher for their team<br>\n",
    "15. SHO (Shutout) ==number of complete games pitched with no runs allowed<br>\n",
    "16. SV (Save) == number of games where the pitcher enters a game led by the pitcher's team, finishes the game without surrendering the lead, is not the winning pitcher,if it happenes in nine innings and within 3 or 4 score\n",
    "17. E (Error )==  an error is an act, in the judgment of the official scorer, of a fielder misplaying a ball in a manner that allows a batter or baserunner to advance one or more bases or allows a plate appearance to continue after the batter should have been put out<br>\n",
    "\n",
    "\n",
    "\n",
    "\n",
    "\n"
   ]
  },
  {
   "cell_type": "code",
   "execution_count": 1,
   "metadata": {
    "colab": {
     "base_uri": "https://localhost:8080/"
    },
    "id": "Q6TSAADYLWGP",
    "outputId": "04f4d419-27e0-453a-9da4-fabe1f39abeb"
   },
   "outputs": [],
   "source": [
    "import pandas as pd\n",
    "import numpy as np\n",
    "import matplotlib.pyplot as plt\n",
    "import seaborn as sns\n",
    "import plotly.express as px\n",
    "from scipy.stats import zscore\n",
    "from scipy.stats import boxcox\n",
    "from statsmodels.stats.outliers_influence import variance_inflation_factor\n",
    "from sklearn.model_selection import train_test_split, GridSearchCV, cross_val_score\n",
    "from sklearn.preprocessing import StandardScaler\n",
    "from sklearn.linear_model import LinearRegression\n",
    "from sklearn.ensemble import RandomForestRegressor, AdaBoostRegressor, GradientBoostingRegressor\n",
    "from sklearn.neighbors import KNeighborsRegressor\n",
    "from sklearn.metrics import mean_squared_error, r2_score\n",
    "import warnings\n",
    "warnings.filterwarnings(\"ignore\")"
   ]
  },
  {
   "cell_type": "code",
   "execution_count": 4,
   "metadata": {
    "colab": {
     "base_uri": "https://localhost:8080/",
     "height": 979
    },
    "id": "BPFq0RpFL1c7",
    "outputId": "154cc607-6166-4bb0-a986-2e3daee5432c",
    "scrolled": true
   },
   "outputs": [
    {
     "data": {
      "text/html": [
       "<div>\n",
       "<style scoped>\n",
       "    .dataframe tbody tr th:only-of-type {\n",
       "        vertical-align: middle;\n",
       "    }\n",
       "\n",
       "    .dataframe tbody tr th {\n",
       "        vertical-align: top;\n",
       "    }\n",
       "\n",
       "    .dataframe thead th {\n",
       "        text-align: right;\n",
       "    }\n",
       "</style>\n",
       "<table border=\"1\" class=\"dataframe\">\n",
       "  <thead>\n",
       "    <tr style=\"text-align: right;\">\n",
       "      <th></th>\n",
       "      <th>W</th>\n",
       "      <th>R</th>\n",
       "      <th>AB</th>\n",
       "      <th>H</th>\n",
       "      <th>2B</th>\n",
       "      <th>3B</th>\n",
       "      <th>HR</th>\n",
       "      <th>BB</th>\n",
       "      <th>SO</th>\n",
       "      <th>SB</th>\n",
       "      <th>RA</th>\n",
       "      <th>ER</th>\n",
       "      <th>ERA</th>\n",
       "      <th>CG</th>\n",
       "      <th>SHO</th>\n",
       "      <th>SV</th>\n",
       "      <th>E</th>\n",
       "    </tr>\n",
       "  </thead>\n",
       "  <tbody>\n",
       "    <tr>\n",
       "      <th>0</th>\n",
       "      <td>95</td>\n",
       "      <td>724</td>\n",
       "      <td>5575</td>\n",
       "      <td>1497</td>\n",
       "      <td>300</td>\n",
       "      <td>42</td>\n",
       "      <td>139</td>\n",
       "      <td>383</td>\n",
       "      <td>973</td>\n",
       "      <td>104</td>\n",
       "      <td>641</td>\n",
       "      <td>601</td>\n",
       "      <td>3.73</td>\n",
       "      <td>2</td>\n",
       "      <td>8</td>\n",
       "      <td>56</td>\n",
       "      <td>88</td>\n",
       "    </tr>\n",
       "    <tr>\n",
       "      <th>1</th>\n",
       "      <td>83</td>\n",
       "      <td>696</td>\n",
       "      <td>5467</td>\n",
       "      <td>1349</td>\n",
       "      <td>277</td>\n",
       "      <td>44</td>\n",
       "      <td>156</td>\n",
       "      <td>439</td>\n",
       "      <td>1264</td>\n",
       "      <td>70</td>\n",
       "      <td>700</td>\n",
       "      <td>653</td>\n",
       "      <td>4.07</td>\n",
       "      <td>2</td>\n",
       "      <td>12</td>\n",
       "      <td>45</td>\n",
       "      <td>86</td>\n",
       "    </tr>\n",
       "    <tr>\n",
       "      <th>2</th>\n",
       "      <td>81</td>\n",
       "      <td>669</td>\n",
       "      <td>5439</td>\n",
       "      <td>1395</td>\n",
       "      <td>303</td>\n",
       "      <td>29</td>\n",
       "      <td>141</td>\n",
       "      <td>533</td>\n",
       "      <td>1157</td>\n",
       "      <td>86</td>\n",
       "      <td>640</td>\n",
       "      <td>584</td>\n",
       "      <td>3.67</td>\n",
       "      <td>11</td>\n",
       "      <td>10</td>\n",
       "      <td>38</td>\n",
       "      <td>79</td>\n",
       "    </tr>\n",
       "    <tr>\n",
       "      <th>3</th>\n",
       "      <td>76</td>\n",
       "      <td>622</td>\n",
       "      <td>5533</td>\n",
       "      <td>1381</td>\n",
       "      <td>260</td>\n",
       "      <td>27</td>\n",
       "      <td>136</td>\n",
       "      <td>404</td>\n",
       "      <td>1231</td>\n",
       "      <td>68</td>\n",
       "      <td>701</td>\n",
       "      <td>643</td>\n",
       "      <td>3.98</td>\n",
       "      <td>7</td>\n",
       "      <td>9</td>\n",
       "      <td>37</td>\n",
       "      <td>101</td>\n",
       "    </tr>\n",
       "    <tr>\n",
       "      <th>4</th>\n",
       "      <td>74</td>\n",
       "      <td>689</td>\n",
       "      <td>5605</td>\n",
       "      <td>1515</td>\n",
       "      <td>289</td>\n",
       "      <td>49</td>\n",
       "      <td>151</td>\n",
       "      <td>455</td>\n",
       "      <td>1259</td>\n",
       "      <td>83</td>\n",
       "      <td>803</td>\n",
       "      <td>746</td>\n",
       "      <td>4.64</td>\n",
       "      <td>7</td>\n",
       "      <td>12</td>\n",
       "      <td>35</td>\n",
       "      <td>86</td>\n",
       "    </tr>\n",
       "    <tr>\n",
       "      <th>5</th>\n",
       "      <td>93</td>\n",
       "      <td>891</td>\n",
       "      <td>5509</td>\n",
       "      <td>1480</td>\n",
       "      <td>308</td>\n",
       "      <td>17</td>\n",
       "      <td>232</td>\n",
       "      <td>570</td>\n",
       "      <td>1151</td>\n",
       "      <td>88</td>\n",
       "      <td>670</td>\n",
       "      <td>609</td>\n",
       "      <td>3.80</td>\n",
       "      <td>7</td>\n",
       "      <td>10</td>\n",
       "      <td>34</td>\n",
       "      <td>88</td>\n",
       "    </tr>\n",
       "    <tr>\n",
       "      <th>6</th>\n",
       "      <td>87</td>\n",
       "      <td>764</td>\n",
       "      <td>5567</td>\n",
       "      <td>1397</td>\n",
       "      <td>272</td>\n",
       "      <td>19</td>\n",
       "      <td>212</td>\n",
       "      <td>554</td>\n",
       "      <td>1227</td>\n",
       "      <td>63</td>\n",
       "      <td>698</td>\n",
       "      <td>652</td>\n",
       "      <td>4.03</td>\n",
       "      <td>3</td>\n",
       "      <td>4</td>\n",
       "      <td>48</td>\n",
       "      <td>93</td>\n",
       "    </tr>\n",
       "    <tr>\n",
       "      <th>7</th>\n",
       "      <td>81</td>\n",
       "      <td>713</td>\n",
       "      <td>5485</td>\n",
       "      <td>1370</td>\n",
       "      <td>246</td>\n",
       "      <td>20</td>\n",
       "      <td>217</td>\n",
       "      <td>418</td>\n",
       "      <td>1331</td>\n",
       "      <td>44</td>\n",
       "      <td>693</td>\n",
       "      <td>646</td>\n",
       "      <td>4.05</td>\n",
       "      <td>0</td>\n",
       "      <td>10</td>\n",
       "      <td>43</td>\n",
       "      <td>77</td>\n",
       "    </tr>\n",
       "    <tr>\n",
       "      <th>8</th>\n",
       "      <td>80</td>\n",
       "      <td>644</td>\n",
       "      <td>5485</td>\n",
       "      <td>1383</td>\n",
       "      <td>278</td>\n",
       "      <td>32</td>\n",
       "      <td>167</td>\n",
       "      <td>436</td>\n",
       "      <td>1310</td>\n",
       "      <td>87</td>\n",
       "      <td>642</td>\n",
       "      <td>604</td>\n",
       "      <td>3.74</td>\n",
       "      <td>1</td>\n",
       "      <td>12</td>\n",
       "      <td>60</td>\n",
       "      <td>95</td>\n",
       "    </tr>\n",
       "    <tr>\n",
       "      <th>9</th>\n",
       "      <td>78</td>\n",
       "      <td>748</td>\n",
       "      <td>5640</td>\n",
       "      <td>1495</td>\n",
       "      <td>294</td>\n",
       "      <td>33</td>\n",
       "      <td>161</td>\n",
       "      <td>478</td>\n",
       "      <td>1148</td>\n",
       "      <td>71</td>\n",
       "      <td>753</td>\n",
       "      <td>694</td>\n",
       "      <td>4.31</td>\n",
       "      <td>3</td>\n",
       "      <td>10</td>\n",
       "      <td>40</td>\n",
       "      <td>97</td>\n",
       "    </tr>\n",
       "    <tr>\n",
       "      <th>10</th>\n",
       "      <td>88</td>\n",
       "      <td>751</td>\n",
       "      <td>5511</td>\n",
       "      <td>1419</td>\n",
       "      <td>279</td>\n",
       "      <td>32</td>\n",
       "      <td>172</td>\n",
       "      <td>503</td>\n",
       "      <td>1233</td>\n",
       "      <td>101</td>\n",
       "      <td>733</td>\n",
       "      <td>680</td>\n",
       "      <td>4.24</td>\n",
       "      <td>5</td>\n",
       "      <td>9</td>\n",
       "      <td>45</td>\n",
       "      <td>119</td>\n",
       "    </tr>\n",
       "    <tr>\n",
       "      <th>11</th>\n",
       "      <td>86</td>\n",
       "      <td>729</td>\n",
       "      <td>5459</td>\n",
       "      <td>1363</td>\n",
       "      <td>278</td>\n",
       "      <td>26</td>\n",
       "      <td>230</td>\n",
       "      <td>486</td>\n",
       "      <td>1392</td>\n",
       "      <td>121</td>\n",
       "      <td>618</td>\n",
       "      <td>572</td>\n",
       "      <td>3.57</td>\n",
       "      <td>5</td>\n",
       "      <td>13</td>\n",
       "      <td>39</td>\n",
       "      <td>85</td>\n",
       "    </tr>\n",
       "    <tr>\n",
       "      <th>12</th>\n",
       "      <td>85</td>\n",
       "      <td>661</td>\n",
       "      <td>5417</td>\n",
       "      <td>1331</td>\n",
       "      <td>243</td>\n",
       "      <td>21</td>\n",
       "      <td>176</td>\n",
       "      <td>435</td>\n",
       "      <td>1150</td>\n",
       "      <td>52</td>\n",
       "      <td>675</td>\n",
       "      <td>630</td>\n",
       "      <td>3.94</td>\n",
       "      <td>2</td>\n",
       "      <td>12</td>\n",
       "      <td>46</td>\n",
       "      <td>93</td>\n",
       "    </tr>\n",
       "    <tr>\n",
       "      <th>13</th>\n",
       "      <td>76</td>\n",
       "      <td>656</td>\n",
       "      <td>5544</td>\n",
       "      <td>1379</td>\n",
       "      <td>262</td>\n",
       "      <td>22</td>\n",
       "      <td>198</td>\n",
       "      <td>478</td>\n",
       "      <td>1336</td>\n",
       "      <td>69</td>\n",
       "      <td>726</td>\n",
       "      <td>677</td>\n",
       "      <td>4.16</td>\n",
       "      <td>6</td>\n",
       "      <td>12</td>\n",
       "      <td>45</td>\n",
       "      <td>94</td>\n",
       "    </tr>\n",
       "    <tr>\n",
       "      <th>14</th>\n",
       "      <td>68</td>\n",
       "      <td>694</td>\n",
       "      <td>5600</td>\n",
       "      <td>1405</td>\n",
       "      <td>277</td>\n",
       "      <td>46</td>\n",
       "      <td>146</td>\n",
       "      <td>475</td>\n",
       "      <td>1119</td>\n",
       "      <td>78</td>\n",
       "      <td>729</td>\n",
       "      <td>664</td>\n",
       "      <td>4.14</td>\n",
       "      <td>5</td>\n",
       "      <td>15</td>\n",
       "      <td>28</td>\n",
       "      <td>126</td>\n",
       "    </tr>\n",
       "    <tr>\n",
       "      <th>15</th>\n",
       "      <td>100</td>\n",
       "      <td>647</td>\n",
       "      <td>5484</td>\n",
       "      <td>1386</td>\n",
       "      <td>288</td>\n",
       "      <td>39</td>\n",
       "      <td>137</td>\n",
       "      <td>506</td>\n",
       "      <td>1267</td>\n",
       "      <td>69</td>\n",
       "      <td>525</td>\n",
       "      <td>478</td>\n",
       "      <td>2.94</td>\n",
       "      <td>1</td>\n",
       "      <td>15</td>\n",
       "      <td>62</td>\n",
       "      <td>96</td>\n",
       "    </tr>\n",
       "    <tr>\n",
       "      <th>16</th>\n",
       "      <td>98</td>\n",
       "      <td>697</td>\n",
       "      <td>5631</td>\n",
       "      <td>1462</td>\n",
       "      <td>292</td>\n",
       "      <td>27</td>\n",
       "      <td>140</td>\n",
       "      <td>461</td>\n",
       "      <td>1322</td>\n",
       "      <td>98</td>\n",
       "      <td>596</td>\n",
       "      <td>532</td>\n",
       "      <td>3.21</td>\n",
       "      <td>0</td>\n",
       "      <td>13</td>\n",
       "      <td>54</td>\n",
       "      <td>122</td>\n",
       "    </tr>\n",
       "    <tr>\n",
       "      <th>17</th>\n",
       "      <td>97</td>\n",
       "      <td>689</td>\n",
       "      <td>5491</td>\n",
       "      <td>1341</td>\n",
       "      <td>272</td>\n",
       "      <td>30</td>\n",
       "      <td>171</td>\n",
       "      <td>567</td>\n",
       "      <td>1518</td>\n",
       "      <td>95</td>\n",
       "      <td>608</td>\n",
       "      <td>546</td>\n",
       "      <td>3.36</td>\n",
       "      <td>6</td>\n",
       "      <td>21</td>\n",
       "      <td>48</td>\n",
       "      <td>111</td>\n",
       "    </tr>\n",
       "    <tr>\n",
       "      <th>18</th>\n",
       "      <td>68</td>\n",
       "      <td>655</td>\n",
       "      <td>5480</td>\n",
       "      <td>1378</td>\n",
       "      <td>274</td>\n",
       "      <td>34</td>\n",
       "      <td>145</td>\n",
       "      <td>412</td>\n",
       "      <td>1299</td>\n",
       "      <td>84</td>\n",
       "      <td>737</td>\n",
       "      <td>682</td>\n",
       "      <td>4.28</td>\n",
       "      <td>1</td>\n",
       "      <td>7</td>\n",
       "      <td>40</td>\n",
       "      <td>116</td>\n",
       "    </tr>\n",
       "    <tr>\n",
       "      <th>19</th>\n",
       "      <td>64</td>\n",
       "      <td>640</td>\n",
       "      <td>5571</td>\n",
       "      <td>1382</td>\n",
       "      <td>257</td>\n",
       "      <td>27</td>\n",
       "      <td>167</td>\n",
       "      <td>496</td>\n",
       "      <td>1255</td>\n",
       "      <td>134</td>\n",
       "      <td>754</td>\n",
       "      <td>700</td>\n",
       "      <td>4.33</td>\n",
       "      <td>2</td>\n",
       "      <td>8</td>\n",
       "      <td>35</td>\n",
       "      <td>90</td>\n",
       "    </tr>\n",
       "    <tr>\n",
       "      <th>20</th>\n",
       "      <td>90</td>\n",
       "      <td>683</td>\n",
       "      <td>5527</td>\n",
       "      <td>1351</td>\n",
       "      <td>295</td>\n",
       "      <td>17</td>\n",
       "      <td>177</td>\n",
       "      <td>488</td>\n",
       "      <td>1290</td>\n",
       "      <td>51</td>\n",
       "      <td>613</td>\n",
       "      <td>557</td>\n",
       "      <td>3.43</td>\n",
       "      <td>1</td>\n",
       "      <td>14</td>\n",
       "      <td>50</td>\n",
       "      <td>88</td>\n",
       "    </tr>\n",
       "    <tr>\n",
       "      <th>21</th>\n",
       "      <td>83</td>\n",
       "      <td>703</td>\n",
       "      <td>5428</td>\n",
       "      <td>1363</td>\n",
       "      <td>265</td>\n",
       "      <td>13</td>\n",
       "      <td>177</td>\n",
       "      <td>539</td>\n",
       "      <td>1344</td>\n",
       "      <td>57</td>\n",
       "      <td>635</td>\n",
       "      <td>577</td>\n",
       "      <td>3.62</td>\n",
       "      <td>4</td>\n",
       "      <td>13</td>\n",
       "      <td>41</td>\n",
       "      <td>90</td>\n",
       "    </tr>\n",
       "    <tr>\n",
       "      <th>22</th>\n",
       "      <td>71</td>\n",
       "      <td>613</td>\n",
       "      <td>5463</td>\n",
       "      <td>1420</td>\n",
       "      <td>236</td>\n",
       "      <td>40</td>\n",
       "      <td>120</td>\n",
       "      <td>375</td>\n",
       "      <td>1150</td>\n",
       "      <td>112</td>\n",
       "      <td>678</td>\n",
       "      <td>638</td>\n",
       "      <td>4.02</td>\n",
       "      <td>0</td>\n",
       "      <td>12</td>\n",
       "      <td>35</td>\n",
       "      <td>77</td>\n",
       "    </tr>\n",
       "    <tr>\n",
       "      <th>23</th>\n",
       "      <td>67</td>\n",
       "      <td>573</td>\n",
       "      <td>5420</td>\n",
       "      <td>1361</td>\n",
       "      <td>251</td>\n",
       "      <td>18</td>\n",
       "      <td>100</td>\n",
       "      <td>471</td>\n",
       "      <td>1107</td>\n",
       "      <td>69</td>\n",
       "      <td>760</td>\n",
       "      <td>698</td>\n",
       "      <td>4.41</td>\n",
       "      <td>3</td>\n",
       "      <td>10</td>\n",
       "      <td>44</td>\n",
       "      <td>90</td>\n",
       "    </tr>\n",
       "    <tr>\n",
       "      <th>24</th>\n",
       "      <td>63</td>\n",
       "      <td>626</td>\n",
       "      <td>5529</td>\n",
       "      <td>1374</td>\n",
       "      <td>272</td>\n",
       "      <td>37</td>\n",
       "      <td>130</td>\n",
       "      <td>387</td>\n",
       "      <td>1274</td>\n",
       "      <td>88</td>\n",
       "      <td>809</td>\n",
       "      <td>749</td>\n",
       "      <td>4.69</td>\n",
       "      <td>1</td>\n",
       "      <td>7</td>\n",
       "      <td>35</td>\n",
       "      <td>117</td>\n",
       "    </tr>\n",
       "    <tr>\n",
       "      <th>25</th>\n",
       "      <td>92</td>\n",
       "      <td>667</td>\n",
       "      <td>5385</td>\n",
       "      <td>1346</td>\n",
       "      <td>263</td>\n",
       "      <td>26</td>\n",
       "      <td>187</td>\n",
       "      <td>563</td>\n",
       "      <td>1258</td>\n",
       "      <td>59</td>\n",
       "      <td>595</td>\n",
       "      <td>553</td>\n",
       "      <td>3.44</td>\n",
       "      <td>6</td>\n",
       "      <td>21</td>\n",
       "      <td>47</td>\n",
       "      <td>75</td>\n",
       "    </tr>\n",
       "    <tr>\n",
       "      <th>26</th>\n",
       "      <td>84</td>\n",
       "      <td>696</td>\n",
       "      <td>5565</td>\n",
       "      <td>1486</td>\n",
       "      <td>288</td>\n",
       "      <td>39</td>\n",
       "      <td>136</td>\n",
       "      <td>457</td>\n",
       "      <td>1159</td>\n",
       "      <td>93</td>\n",
       "      <td>627</td>\n",
       "      <td>597</td>\n",
       "      <td>3.72</td>\n",
       "      <td>7</td>\n",
       "      <td>18</td>\n",
       "      <td>41</td>\n",
       "      <td>78</td>\n",
       "    </tr>\n",
       "    <tr>\n",
       "      <th>27</th>\n",
       "      <td>79</td>\n",
       "      <td>720</td>\n",
       "      <td>5649</td>\n",
       "      <td>1494</td>\n",
       "      <td>289</td>\n",
       "      <td>48</td>\n",
       "      <td>154</td>\n",
       "      <td>490</td>\n",
       "      <td>1312</td>\n",
       "      <td>132</td>\n",
       "      <td>713</td>\n",
       "      <td>659</td>\n",
       "      <td>4.04</td>\n",
       "      <td>1</td>\n",
       "      <td>12</td>\n",
       "      <td>44</td>\n",
       "      <td>86</td>\n",
       "    </tr>\n",
       "    <tr>\n",
       "      <th>28</th>\n",
       "      <td>74</td>\n",
       "      <td>650</td>\n",
       "      <td>5457</td>\n",
       "      <td>1324</td>\n",
       "      <td>260</td>\n",
       "      <td>36</td>\n",
       "      <td>148</td>\n",
       "      <td>426</td>\n",
       "      <td>1327</td>\n",
       "      <td>82</td>\n",
       "      <td>731</td>\n",
       "      <td>655</td>\n",
       "      <td>4.09</td>\n",
       "      <td>1</td>\n",
       "      <td>6</td>\n",
       "      <td>41</td>\n",
       "      <td>92</td>\n",
       "    </tr>\n",
       "    <tr>\n",
       "      <th>29</th>\n",
       "      <td>68</td>\n",
       "      <td>737</td>\n",
       "      <td>5572</td>\n",
       "      <td>1479</td>\n",
       "      <td>274</td>\n",
       "      <td>49</td>\n",
       "      <td>186</td>\n",
       "      <td>388</td>\n",
       "      <td>1283</td>\n",
       "      <td>97</td>\n",
       "      <td>844</td>\n",
       "      <td>799</td>\n",
       "      <td>5.04</td>\n",
       "      <td>4</td>\n",
       "      <td>4</td>\n",
       "      <td>36</td>\n",
       "      <td>95</td>\n",
       "    </tr>\n",
       "  </tbody>\n",
       "</table>\n",
       "</div>"
      ],
      "text/plain": [
       "      W    R    AB     H   2B  3B   HR   BB    SO   SB   RA   ER   ERA  CG  \\\n",
       "0    95  724  5575  1497  300  42  139  383   973  104  641  601  3.73   2   \n",
       "1    83  696  5467  1349  277  44  156  439  1264   70  700  653  4.07   2   \n",
       "2    81  669  5439  1395  303  29  141  533  1157   86  640  584  3.67  11   \n",
       "3    76  622  5533  1381  260  27  136  404  1231   68  701  643  3.98   7   \n",
       "4    74  689  5605  1515  289  49  151  455  1259   83  803  746  4.64   7   \n",
       "5    93  891  5509  1480  308  17  232  570  1151   88  670  609  3.80   7   \n",
       "6    87  764  5567  1397  272  19  212  554  1227   63  698  652  4.03   3   \n",
       "7    81  713  5485  1370  246  20  217  418  1331   44  693  646  4.05   0   \n",
       "8    80  644  5485  1383  278  32  167  436  1310   87  642  604  3.74   1   \n",
       "9    78  748  5640  1495  294  33  161  478  1148   71  753  694  4.31   3   \n",
       "10   88  751  5511  1419  279  32  172  503  1233  101  733  680  4.24   5   \n",
       "11   86  729  5459  1363  278  26  230  486  1392  121  618  572  3.57   5   \n",
       "12   85  661  5417  1331  243  21  176  435  1150   52  675  630  3.94   2   \n",
       "13   76  656  5544  1379  262  22  198  478  1336   69  726  677  4.16   6   \n",
       "14   68  694  5600  1405  277  46  146  475  1119   78  729  664  4.14   5   \n",
       "15  100  647  5484  1386  288  39  137  506  1267   69  525  478  2.94   1   \n",
       "16   98  697  5631  1462  292  27  140  461  1322   98  596  532  3.21   0   \n",
       "17   97  689  5491  1341  272  30  171  567  1518   95  608  546  3.36   6   \n",
       "18   68  655  5480  1378  274  34  145  412  1299   84  737  682  4.28   1   \n",
       "19   64  640  5571  1382  257  27  167  496  1255  134  754  700  4.33   2   \n",
       "20   90  683  5527  1351  295  17  177  488  1290   51  613  557  3.43   1   \n",
       "21   83  703  5428  1363  265  13  177  539  1344   57  635  577  3.62   4   \n",
       "22   71  613  5463  1420  236  40  120  375  1150  112  678  638  4.02   0   \n",
       "23   67  573  5420  1361  251  18  100  471  1107   69  760  698  4.41   3   \n",
       "24   63  626  5529  1374  272  37  130  387  1274   88  809  749  4.69   1   \n",
       "25   92  667  5385  1346  263  26  187  563  1258   59  595  553  3.44   6   \n",
       "26   84  696  5565  1486  288  39  136  457  1159   93  627  597  3.72   7   \n",
       "27   79  720  5649  1494  289  48  154  490  1312  132  713  659  4.04   1   \n",
       "28   74  650  5457  1324  260  36  148  426  1327   82  731  655  4.09   1   \n",
       "29   68  737  5572  1479  274  49  186  388  1283   97  844  799  5.04   4   \n",
       "\n",
       "    SHO  SV    E  \n",
       "0     8  56   88  \n",
       "1    12  45   86  \n",
       "2    10  38   79  \n",
       "3     9  37  101  \n",
       "4    12  35   86  \n",
       "5    10  34   88  \n",
       "6     4  48   93  \n",
       "7    10  43   77  \n",
       "8    12  60   95  \n",
       "9    10  40   97  \n",
       "10    9  45  119  \n",
       "11   13  39   85  \n",
       "12   12  46   93  \n",
       "13   12  45   94  \n",
       "14   15  28  126  \n",
       "15   15  62   96  \n",
       "16   13  54  122  \n",
       "17   21  48  111  \n",
       "18    7  40  116  \n",
       "19    8  35   90  \n",
       "20   14  50   88  \n",
       "21   13  41   90  \n",
       "22   12  35   77  \n",
       "23   10  44   90  \n",
       "24    7  35  117  \n",
       "25   21  47   75  \n",
       "26   18  41   78  \n",
       "27   12  44   86  \n",
       "28    6  41   92  \n",
       "29    4  36   95  "
      ]
     },
     "execution_count": 4,
     "metadata": {},
     "output_type": "execute_result"
    }
   ],
   "source": [
    "baseball_ds = pd.read_csv(\"Baseball.csv\")\n",
    "baseball_ds1 = baseball_ds.copy()\n",
    "baseball_ds"
   ]
  },
  {
   "cell_type": "code",
   "execution_count": 5,
   "metadata": {
    "colab": {
     "base_uri": "https://localhost:8080/"
    },
    "id": "HdWNbjAMHTKQ",
    "outputId": "26d00e8a-e71f-4b2b-9528-d78f5aa32fa1",
    "scrolled": true
   },
   "outputs": [
    {
     "name": "stdout",
     "output_type": "stream",
     "text": [
      "<class 'pandas.core.frame.DataFrame'>\n",
      "RangeIndex: 30 entries, 0 to 29\n",
      "Data columns (total 17 columns):\n",
      " #   Column  Non-Null Count  Dtype  \n",
      "---  ------  --------------  -----  \n",
      " 0   W       30 non-null     int64  \n",
      " 1   R       30 non-null     int64  \n",
      " 2   AB      30 non-null     int64  \n",
      " 3   H       30 non-null     int64  \n",
      " 4   2B      30 non-null     int64  \n",
      " 5   3B      30 non-null     int64  \n",
      " 6   HR      30 non-null     int64  \n",
      " 7   BB      30 non-null     int64  \n",
      " 8   SO      30 non-null     int64  \n",
      " 9   SB      30 non-null     int64  \n",
      " 10  RA      30 non-null     int64  \n",
      " 11  ER      30 non-null     int64  \n",
      " 12  ERA     30 non-null     float64\n",
      " 13  CG      30 non-null     int64  \n",
      " 14  SHO     30 non-null     int64  \n",
      " 15  SV      30 non-null     int64  \n",
      " 16  E       30 non-null     int64  \n",
      "dtypes: float64(1), int64(16)\n",
      "memory usage: 4.1 KB\n"
     ]
    }
   ],
   "source": [
    "baseball_ds.info()"
   ]
  },
  {
   "cell_type": "markdown",
   "metadata": {
    "id": "rmteLednIgHy"
   },
   "source": [
    "dataset has 30 rows and 17 columns including one target columns, all columns are numeric in nature and there is no missing value in the dataset "
   ]
  },
  {
   "cell_type": "code",
   "execution_count": 6,
   "metadata": {
    "colab": {
     "base_uri": "https://localhost:8080/",
     "height": 317
    },
    "id": "hptPRhkiYk-A",
    "outputId": "6d325297-c219-40b9-c3c4-4d6712a7264f"
   },
   "outputs": [
    {
     "data": {
      "text/html": [
       "<div>\n",
       "<style scoped>\n",
       "    .dataframe tbody tr th:only-of-type {\n",
       "        vertical-align: middle;\n",
       "    }\n",
       "\n",
       "    .dataframe tbody tr th {\n",
       "        vertical-align: top;\n",
       "    }\n",
       "\n",
       "    .dataframe thead th {\n",
       "        text-align: right;\n",
       "    }\n",
       "</style>\n",
       "<table border=\"1\" class=\"dataframe\">\n",
       "  <thead>\n",
       "    <tr style=\"text-align: right;\">\n",
       "      <th></th>\n",
       "      <th>W</th>\n",
       "      <th>R</th>\n",
       "      <th>AB</th>\n",
       "      <th>H</th>\n",
       "      <th>2B</th>\n",
       "      <th>3B</th>\n",
       "      <th>HR</th>\n",
       "      <th>BB</th>\n",
       "      <th>SO</th>\n",
       "      <th>SB</th>\n",
       "      <th>RA</th>\n",
       "      <th>ER</th>\n",
       "      <th>ERA</th>\n",
       "      <th>CG</th>\n",
       "      <th>SHO</th>\n",
       "      <th>SV</th>\n",
       "      <th>E</th>\n",
       "    </tr>\n",
       "  </thead>\n",
       "  <tbody>\n",
       "    <tr>\n",
       "      <th>count</th>\n",
       "      <td>30.000000</td>\n",
       "      <td>30.000000</td>\n",
       "      <td>30.000000</td>\n",
       "      <td>30.000000</td>\n",
       "      <td>30.000000</td>\n",
       "      <td>30.000000</td>\n",
       "      <td>30.000000</td>\n",
       "      <td>30.000000</td>\n",
       "      <td>30.00000</td>\n",
       "      <td>30.000000</td>\n",
       "      <td>30.000000</td>\n",
       "      <td>30.000000</td>\n",
       "      <td>30.000000</td>\n",
       "      <td>30.000000</td>\n",
       "      <td>30.000000</td>\n",
       "      <td>30.000000</td>\n",
       "      <td>30.000000</td>\n",
       "    </tr>\n",
       "    <tr>\n",
       "      <th>mean</th>\n",
       "      <td>80.966667</td>\n",
       "      <td>688.233333</td>\n",
       "      <td>5516.266667</td>\n",
       "      <td>1403.533333</td>\n",
       "      <td>274.733333</td>\n",
       "      <td>31.300000</td>\n",
       "      <td>163.633333</td>\n",
       "      <td>469.100000</td>\n",
       "      <td>1248.20000</td>\n",
       "      <td>83.500000</td>\n",
       "      <td>688.233333</td>\n",
       "      <td>635.833333</td>\n",
       "      <td>3.956333</td>\n",
       "      <td>3.466667</td>\n",
       "      <td>11.300000</td>\n",
       "      <td>43.066667</td>\n",
       "      <td>94.333333</td>\n",
       "    </tr>\n",
       "    <tr>\n",
       "      <th>std</th>\n",
       "      <td>10.453455</td>\n",
       "      <td>58.761754</td>\n",
       "      <td>70.467372</td>\n",
       "      <td>57.140923</td>\n",
       "      <td>18.095405</td>\n",
       "      <td>10.452355</td>\n",
       "      <td>31.823309</td>\n",
       "      <td>57.053725</td>\n",
       "      <td>103.75947</td>\n",
       "      <td>22.815225</td>\n",
       "      <td>72.108005</td>\n",
       "      <td>70.140786</td>\n",
       "      <td>0.454089</td>\n",
       "      <td>2.763473</td>\n",
       "      <td>4.120177</td>\n",
       "      <td>7.869335</td>\n",
       "      <td>13.958889</td>\n",
       "    </tr>\n",
       "    <tr>\n",
       "      <th>min</th>\n",
       "      <td>63.000000</td>\n",
       "      <td>573.000000</td>\n",
       "      <td>5385.000000</td>\n",
       "      <td>1324.000000</td>\n",
       "      <td>236.000000</td>\n",
       "      <td>13.000000</td>\n",
       "      <td>100.000000</td>\n",
       "      <td>375.000000</td>\n",
       "      <td>973.00000</td>\n",
       "      <td>44.000000</td>\n",
       "      <td>525.000000</td>\n",
       "      <td>478.000000</td>\n",
       "      <td>2.940000</td>\n",
       "      <td>0.000000</td>\n",
       "      <td>4.000000</td>\n",
       "      <td>28.000000</td>\n",
       "      <td>75.000000</td>\n",
       "    </tr>\n",
       "    <tr>\n",
       "      <th>25%</th>\n",
       "      <td>74.000000</td>\n",
       "      <td>651.250000</td>\n",
       "      <td>5464.000000</td>\n",
       "      <td>1363.000000</td>\n",
       "      <td>262.250000</td>\n",
       "      <td>23.000000</td>\n",
       "      <td>140.250000</td>\n",
       "      <td>428.250000</td>\n",
       "      <td>1157.50000</td>\n",
       "      <td>69.000000</td>\n",
       "      <td>636.250000</td>\n",
       "      <td>587.250000</td>\n",
       "      <td>3.682500</td>\n",
       "      <td>1.000000</td>\n",
       "      <td>9.000000</td>\n",
       "      <td>37.250000</td>\n",
       "      <td>86.000000</td>\n",
       "    </tr>\n",
       "    <tr>\n",
       "      <th>50%</th>\n",
       "      <td>81.000000</td>\n",
       "      <td>689.000000</td>\n",
       "      <td>5510.000000</td>\n",
       "      <td>1382.500000</td>\n",
       "      <td>275.500000</td>\n",
       "      <td>31.000000</td>\n",
       "      <td>158.500000</td>\n",
       "      <td>473.000000</td>\n",
       "      <td>1261.50000</td>\n",
       "      <td>83.500000</td>\n",
       "      <td>695.500000</td>\n",
       "      <td>644.500000</td>\n",
       "      <td>4.025000</td>\n",
       "      <td>3.000000</td>\n",
       "      <td>12.000000</td>\n",
       "      <td>42.000000</td>\n",
       "      <td>91.000000</td>\n",
       "    </tr>\n",
       "    <tr>\n",
       "      <th>75%</th>\n",
       "      <td>87.750000</td>\n",
       "      <td>718.250000</td>\n",
       "      <td>5570.000000</td>\n",
       "      <td>1451.500000</td>\n",
       "      <td>288.750000</td>\n",
       "      <td>39.000000</td>\n",
       "      <td>177.000000</td>\n",
       "      <td>501.250000</td>\n",
       "      <td>1311.50000</td>\n",
       "      <td>96.500000</td>\n",
       "      <td>732.500000</td>\n",
       "      <td>679.250000</td>\n",
       "      <td>4.220000</td>\n",
       "      <td>5.750000</td>\n",
       "      <td>13.000000</td>\n",
       "      <td>46.750000</td>\n",
       "      <td>96.750000</td>\n",
       "    </tr>\n",
       "    <tr>\n",
       "      <th>max</th>\n",
       "      <td>100.000000</td>\n",
       "      <td>891.000000</td>\n",
       "      <td>5649.000000</td>\n",
       "      <td>1515.000000</td>\n",
       "      <td>308.000000</td>\n",
       "      <td>49.000000</td>\n",
       "      <td>232.000000</td>\n",
       "      <td>570.000000</td>\n",
       "      <td>1518.00000</td>\n",
       "      <td>134.000000</td>\n",
       "      <td>844.000000</td>\n",
       "      <td>799.000000</td>\n",
       "      <td>5.040000</td>\n",
       "      <td>11.000000</td>\n",
       "      <td>21.000000</td>\n",
       "      <td>62.000000</td>\n",
       "      <td>126.000000</td>\n",
       "    </tr>\n",
       "  </tbody>\n",
       "</table>\n",
       "</div>"
      ],
      "text/plain": [
       "                W           R           AB            H          2B  \\\n",
       "count   30.000000   30.000000    30.000000    30.000000   30.000000   \n",
       "mean    80.966667  688.233333  5516.266667  1403.533333  274.733333   \n",
       "std     10.453455   58.761754    70.467372    57.140923   18.095405   \n",
       "min     63.000000  573.000000  5385.000000  1324.000000  236.000000   \n",
       "25%     74.000000  651.250000  5464.000000  1363.000000  262.250000   \n",
       "50%     81.000000  689.000000  5510.000000  1382.500000  275.500000   \n",
       "75%     87.750000  718.250000  5570.000000  1451.500000  288.750000   \n",
       "max    100.000000  891.000000  5649.000000  1515.000000  308.000000   \n",
       "\n",
       "              3B          HR          BB          SO          SB          RA  \\\n",
       "count  30.000000   30.000000   30.000000    30.00000   30.000000   30.000000   \n",
       "mean   31.300000  163.633333  469.100000  1248.20000   83.500000  688.233333   \n",
       "std    10.452355   31.823309   57.053725   103.75947   22.815225   72.108005   \n",
       "min    13.000000  100.000000  375.000000   973.00000   44.000000  525.000000   \n",
       "25%    23.000000  140.250000  428.250000  1157.50000   69.000000  636.250000   \n",
       "50%    31.000000  158.500000  473.000000  1261.50000   83.500000  695.500000   \n",
       "75%    39.000000  177.000000  501.250000  1311.50000   96.500000  732.500000   \n",
       "max    49.000000  232.000000  570.000000  1518.00000  134.000000  844.000000   \n",
       "\n",
       "               ER        ERA         CG        SHO         SV           E  \n",
       "count   30.000000  30.000000  30.000000  30.000000  30.000000   30.000000  \n",
       "mean   635.833333   3.956333   3.466667  11.300000  43.066667   94.333333  \n",
       "std     70.140786   0.454089   2.763473   4.120177   7.869335   13.958889  \n",
       "min    478.000000   2.940000   0.000000   4.000000  28.000000   75.000000  \n",
       "25%    587.250000   3.682500   1.000000   9.000000  37.250000   86.000000  \n",
       "50%    644.500000   4.025000   3.000000  12.000000  42.000000   91.000000  \n",
       "75%    679.250000   4.220000   5.750000  13.000000  46.750000   96.750000  \n",
       "max    799.000000   5.040000  11.000000  21.000000  62.000000  126.000000  "
      ]
     },
     "execution_count": 6,
     "metadata": {},
     "output_type": "execute_result"
    }
   ],
   "source": [
    "# let explore the statistic\n",
    "\n",
    "baseball_ds.describe()"
   ]
  },
  {
   "cell_type": "markdown",
   "metadata": {
    "id": "f004FL6l8Ajm"
   },
   "source": [
    "Columns R(Run) is slightly left skewed, AB(at Bat)  and H(Hit) are right skewed distribution, going further it has observed 2B( double) is left skewed and 3B(triple) is right skewed.<br>\n",
    "HR(Home Run) CG(Complete game) are right skewed and rest are all left skewed<br>\n",
    "From columns R(Run) to till 2B ( Double) SD is small which means that data is more close to mean of the data."
   ]
  },
  {
   "cell_type": "markdown",
   "metadata": {
    "id": "vM1yogQ8GhGO"
   },
   "source": [
    "# Univariate Analysis"
   ]
  },
  {
   "cell_type": "code",
   "execution_count": 7,
   "metadata": {
    "colab": {
     "base_uri": "https://localhost:8080/",
     "height": 879
    },
    "id": "HP-x1dOqGncN",
    "outputId": "02390f4e-15f5-4158-a065-d4e0f7665651"
   },
   "outputs": [
    {
     "data": {
      "image/png": "[encoded data removed]",
      "text/plain": [
       "<Figure size 1080x1080 with 20 Axes>"
      ]
     },
     "metadata": {
      "needs_background": "light"
     },
     "output_type": "display_data"
    }
   ],
   "source": [
    "baseball_ds.hist(figsize=(15,15));"
   ]
  },
  {
   "cell_type": "markdown",
   "metadata": {
    "id": "uS10wRXAHfrA"
   },
   "source": [
    "Every column is shewed. lets check the skewness "
   ]
  },
  {
   "cell_type": "code",
   "execution_count": 8,
   "metadata": {
    "colab": {
     "base_uri": "https://localhost:8080/"
    },
    "id": "j1xphOJVHeZk",
    "outputId": "75ffa6fe-a09b-49be-d21d-dbf92508331f"
   },
   "outputs": [
    {
     "data": {
      "text/plain": [
       "W        4.708869\n",
       "R      120.078636\n",
       "AB      18.343656\n",
       "H       67.025372\n",
       "2B     -23.064992\n",
       "3B      12.950245\n",
       "HR      51.644074\n",
       "BB      15.849848\n",
       "SO     -15.606548\n",
       "SB      47.989287\n",
       "RA       4.573398\n",
       "ER       5.870980\n",
       "ERA      5.333134\n",
       "CG      73.684527\n",
       "SHO     56.579043\n",
       "SV      65.752355\n",
       "E       89.013183\n",
       "dtype: float64"
      ]
     },
     "execution_count": 8,
     "metadata": {},
     "output_type": "execute_result"
    }
   ],
   "source": [
    "baseball_ds.skew()*100"
   ]
  },
  {
   "cell_type": "markdown",
   "metadata": {
    "id": "nzsfOSKZISP9"
   },
   "source": [
    "while checking the skewness, it has been observed that many columns are above standard thresh hold , have considered 0.5 is the standard threshold, columns R, H, ER, CG, SHO, SV and E are right skewed data. we will treat the skeweness."
   ]
  },
  {
   "cell_type": "code",
   "execution_count": 9,
   "metadata": {
    "colab": {
     "base_uri": "https://localhost:8080/",
     "height": 880
    },
    "id": "EB4_53X5GmhA",
    "outputId": "3c0d00c3-876f-4a57-8ded-ba0aa30bb51f"
   },
   "outputs": [
    {
     "data": {
      "text/plain": [
       "<matplotlib.axes._subplots.AxesSubplot at 0x151a6b0cb00>"
      ]
     },
     "execution_count": 9,
     "metadata": {},
     "output_type": "execute_result"
    },
    {
     "data": {
      "image/png": "[encoded data removed]",
      "text/plain": [
       "<Figure size 1080x1080 with 1 Axes>"
      ]
     },
     "metadata": {
      "needs_background": "light"
     },
     "output_type": "display_data"
    }
   ],
   "source": [
    "# let check the outlier as well in the dataset \n",
    "baseball_ds.drop(columns =[\"AB\",\"W\",\"ERA\",\"CG\",\"SHO\",\"SV\",\"E\"]).boxplot(figsize=(15,15))"
   ]
  },
  {
   "cell_type": "code",
   "execution_count": 10,
   "metadata": {
    "colab": {
     "base_uri": "https://localhost:8080/",
     "height": 609
    },
    "id": "U--tq59XK86j",
    "outputId": "044f21e6-1649-4841-8b34-1b9989ccc5ce"
   },
   "outputs": [
    {
     "data": {
      "text/plain": [
       "<matplotlib.axes._subplots.AxesSubplot at 0x151a6623780>"
      ]
     },
     "execution_count": 10,
     "metadata": {},
     "output_type": "execute_result"
    },
    {
     "data": {
      "image/png": "[encoded data removed]",
      "text/plain": [
       "<Figure size 1080x720 with 1 Axes>"
      ]
     },
     "metadata": {
      "needs_background": "light"
     },
     "output_type": "display_data"
    }
   ],
   "source": [
    "baseball_ds[[\"ERA\",\"CG\",\"SHO\",\"SV\",\"E\"]].boxplot(figsize=(15,10))"
   ]
  },
  {
   "cell_type": "code",
   "execution_count": 11,
   "metadata": {
    "colab": {
     "base_uri": "https://localhost:8080/",
     "height": 282
    },
    "id": "m0PGlkiOQrsm",
    "outputId": "8fe6bcf5-c997-4942-b2bd-219471dcc073"
   },
   "outputs": [
    {
     "data": {
      "text/plain": [
       "<matplotlib.axes._subplots.AxesSubplot at 0x151a6fe5ba8>"
      ]
     },
     "execution_count": 11,
     "metadata": {},
     "output_type": "execute_result"
    },
    {
     "data": {
      "image/png": "[encoded data removed]",
      "text/plain": [
       "<Figure size 432x288 with 1 Axes>"
      ]
     },
     "metadata": {
      "needs_background": "light"
     },
     "output_type": "display_data"
    }
   ],
   "source": [
    "baseball_ds[[\"AB\"]].boxplot()"
   ]
  },
  {
   "cell_type": "code",
   "execution_count": 12,
   "metadata": {
    "colab": {
     "base_uri": "https://localhost:8080/",
     "height": 282
    },
    "id": "Pk0mJXj7bvis",
    "outputId": "ac190904-d26a-4d72-8718-4260bbf46d20"
   },
   "outputs": [
    {
     "data": {
      "text/plain": [
       "<matplotlib.axes._subplots.AxesSubplot at 0x151a6ff9b70>"
      ]
     },
     "execution_count": 12,
     "metadata": {},
     "output_type": "execute_result"
    },
    {
     "data": {
      "image/png": "[encoded data removed]",
      "text/plain": [
       "<Figure size 432x288 with 1 Axes>"
      ]
     },
     "metadata": {
      "needs_background": "light"
     },
     "output_type": "display_data"
    }
   ],
   "source": [
    "baseball_ds1[[\"E\"]].boxplot()"
   ]
  },
  {
   "cell_type": "markdown",
   "metadata": {
    "id": "sedrhsuwGmKl"
   },
   "source": [
    "E (Error) column has many outlier values,however SHO ,SV, ERA and R has few extreme value."
   ]
  },
  {
   "cell_type": "code",
   "execution_count": 13,
   "metadata": {
    "id": "8emOHJt0iqhH"
   },
   "outputs": [],
   "source": [
    "# checking zscore of a few of the columns\n",
    "z_score = np.abs(zscore(baseball_ds1[\"E\"]))"
   ]
  },
  {
   "cell_type": "code",
   "execution_count": 14,
   "metadata": {
    "colab": {
     "base_uri": "https://localhost:8080/"
    },
    "id": "12Leq1xGgahk",
    "outputId": "d77d4da7-6fd6-4afe-e870-b4ab5bb3ce6f"
   },
   "outputs": [
    {
     "data": {
      "text/plain": [
       "array([0.46146963, 0.60719689, 1.11724227, 0.48575751, 0.60719689,\n",
       "       0.46146963, 0.0971515 , 1.26296953, 0.04857575, 0.194303  ,\n",
       "       1.79730279, 0.68006051, 0.0971515 , 0.02428788, 2.30734817,\n",
       "       0.12143938, 2.01589367, 1.21439378, 1.57871191, 0.31574238,\n",
       "       0.46146963, 0.31574238, 1.26296953, 0.31574238, 1.65157553,\n",
       "       1.40869678, 1.1901059 , 0.60719689, 0.17001513, 0.04857575])"
      ]
     },
     "execution_count": 14,
     "metadata": {},
     "output_type": "execute_result"
    }
   ],
   "source": [
    "z_score"
   ]
  },
  {
   "cell_type": "markdown",
   "metadata": {
    "id": "moQEVcOQmDVY"
   },
   "source": [
    "No value about 3rd sd in Error column thus treatment isnt requirement"
   ]
  },
  {
   "cell_type": "code",
   "execution_count": 15,
   "metadata": {
    "colab": {
     "base_uri": "https://localhost:8080/"
    },
    "id": "mZOSXHXRReUv",
    "outputId": "14505144-318e-49e1-831b-cfd51c3423c3"
   },
   "outputs": [
    {
     "data": {
      "text/plain": [
       "array([0.61907797, 0.13443166, 0.33290586, 1.14641931, 0.01327008,\n",
       "       3.50964704, 1.31142984, 0.4286812 , 0.76562578, 1.03448909,\n",
       "       1.08641548, 0.70562195, 0.47137623, 0.55792022, 0.09981406,\n",
       "       0.71369939, 0.15174045, 0.01327008, 0.57522902, 0.83486097,\n",
       "       0.0905827 , 0.25559323, 1.30219848, 1.99455036, 1.07718413,\n",
       "       0.36752345, 0.13443166, 0.54984278, 0.661773  , 0.84409233])"
      ]
     },
     "execution_count": 15,
     "metadata": {},
     "output_type": "execute_result"
    }
   ],
   "source": [
    "z_score1 = np.abs(zscore(baseball_ds1[\"R\"]))\n",
    "z_score1"
   ]
  },
  {
   "cell_type": "markdown",
   "metadata": {
    "id": "s2TVhVDDmbcK"
   },
   "source": [
    "we have one observation which is above 3rd SD but it wont impact on the model, so no treament is required"
   ]
  },
  {
   "cell_type": "code",
   "execution_count": 16,
   "metadata": {
    "colab": {
     "base_uri": "https://localhost:8080/"
    },
    "id": "SIVAxhSkReQ0",
    "outputId": "40bf55c9-664b-4a63-f09f-a9abfc151385"
   },
   "outputs": [
    {
     "data": {
      "text/plain": [
       "array([0.50695519, 0.25459752, 0.64134684, 0.05301004, 1.53131824,\n",
       "       0.35016492, 0.16500309, 0.20980031, 0.48455658, 0.79216414,\n",
       "       0.63537388, 0.86533293, 0.03658439, 0.45618501, 0.41138779,\n",
       "       2.2764453 , 1.67168286, 1.33570372, 0.72496831, 0.83696136,\n",
       "       1.17891346, 0.75333989, 0.14260448, 1.01615023, 1.64331129,\n",
       "       1.15651485, 0.52935379, 0.1874017 , 0.29939474, 2.42726261])"
      ]
     },
     "execution_count": 16,
     "metadata": {},
     "output_type": "execute_result"
    }
   ],
   "source": [
    "z_score2 = np.abs(zscore(baseball_ds1[\"ERA\"]))\n",
    "z_score2"
   ]
  },
  {
   "cell_type": "markdown",
   "metadata": {
    "id": "ZEZ0Hkfbmlje"
   },
   "source": [
    "ERA also doesnt have any value beyond 3rd SD.\n"
   ]
  },
  {
   "cell_type": "markdown",
   "metadata": {
    "id": "VJRes45gibj0"
   },
   "source": [
    "while checking the outlier through boxplot, we have found a few of the columns have outliers values but while calculating the zscore or 3rd standard of these columns, we have got that all values are well under the 3rd standard deviation except one value in R column. Box plot calculate upper limit basis 2.7 by adding Q3  and 1.5*IQR.So no columns need treatment  "
   ]
  },
  {
   "cell_type": "code",
   "execution_count": 17,
   "metadata": {
    "id": "0WS6MmfWLHmQ"
   },
   "outputs": [],
   "source": [
    " # applying sqrt transformation becase it has value 0 and cant applying log on it.\n",
    "baseball_ds[\"CG\"] = np.sqrt(baseball_ds[\"CG\"])\n",
    "baseball_ds[\"ER\"] = np.sqrt(baseball_ds[\"ER\"])\n",
    "baseball_ds[\"SV\"] = np.sqrt(baseball_ds[\"SV\"])\n",
    "baseball_ds[\"SHO\"] = np.sqrt(baseball_ds[\"SHO\"])"
   ]
  },
  {
   "cell_type": "code",
   "execution_count": 19,
   "metadata": {
    "colab": {
     "base_uri": "https://localhost:8080/"
    },
    "id": "2y9VkbUzQz8_",
    "outputId": "fcaaf52e-92a6-49c0-9f12-987e981027ff",
    "scrolled": true
   },
   "outputs": [
    {
     "data": {
      "text/plain": [
       "W      0.047089\n",
       "R      1.200786\n",
       "AB     0.183437\n",
       "H      0.670254\n",
       "2B    -0.230650\n",
       "3B     0.129502\n",
       "HR     0.516441\n",
       "BB     0.158498\n",
       "SO    -0.156065\n",
       "SB     0.479893\n",
       "RA     0.045734\n",
       "ER    -0.109548\n",
       "ERA    0.053331\n",
       "CG    -0.311476\n",
       "SHO   -0.061761\n",
       "SV     0.410288\n",
       "E      0.890132\n",
       "dtype: float64"
      ]
     },
     "execution_count": 19,
     "metadata": {},
     "output_type": "execute_result"
    }
   ],
   "source": [
    "baseball_ds.skew()"
   ]
  },
  {
   "cell_type": "code",
   "execution_count": 58,
   "metadata": {},
   "outputs": [],
   "source": [
    "# taking 3 columns which skewness could not corrected and applying power transform\n",
    "new_data = baseball_ds[[\"R\",\"H\",\"E\"]]\n",
    "new_data = new_data.astype(\"float32\") change the data type of the variabel to float"
   ]
  },
  {
   "cell_type": "code",
   "execution_count": 62,
   "metadata": {
    "scrolled": true
   },
   "outputs": [
    {
     "data": {
      "text/plain": [
       "0    0.121253\n",
       "1    0.570348\n",
       "2    0.068565\n",
       "dtype: float32"
      ]
     },
     "execution_count": 62,
     "metadata": {},
     "output_type": "execute_result"
    }
   ],
   "source": [
    "df = power_transform(new_data) # applied power_transform\n",
    "df = pd.DataFrame(df) # saving into a dataframe becuase it returns numpy array\n",
    "df.skew() # again checking their skewness and now it is corrected"
   ]
  },
  {
   "cell_type": "code",
   "execution_count": 63,
   "metadata": {},
   "outputs": [],
   "source": [
    "new_baseball_ds =  pd.concat([baseball_ds,df],axis =1,join =\"inner\") # joining both the data points"
   ]
  },
  {
   "cell_type": "code",
   "execution_count": 66,
   "metadata": {},
   "outputs": [
    {
     "data": {
      "text/html": [
       "<div>\n",
       "<style scoped>\n",
       "    .dataframe tbody tr th:only-of-type {\n",
       "        vertical-align: middle;\n",
       "    }\n",
       "\n",
       "    .dataframe tbody tr th {\n",
       "        vertical-align: top;\n",
       "    }\n",
       "\n",
       "    .dataframe thead th {\n",
       "        text-align: right;\n",
       "    }\n",
       "</style>\n",
       "<table border=\"1\" class=\"dataframe\">\n",
       "  <thead>\n",
       "    <tr style=\"text-align: right;\">\n",
       "      <th></th>\n",
       "      <th>W</th>\n",
       "      <th>AB</th>\n",
       "      <th>2B</th>\n",
       "      <th>3B</th>\n",
       "      <th>HR</th>\n",
       "      <th>BB</th>\n",
       "      <th>SO</th>\n",
       "      <th>SB</th>\n",
       "      <th>RA</th>\n",
       "      <th>ER</th>\n",
       "      <th>ERA</th>\n",
       "      <th>CG</th>\n",
       "      <th>SHO</th>\n",
       "      <th>SV</th>\n",
       "      <th>R</th>\n",
       "      <th>H</th>\n",
       "      <th>E</th>\n",
       "    </tr>\n",
       "  </thead>\n",
       "  <tbody>\n",
       "    <tr>\n",
       "      <th>0</th>\n",
       "      <td>95</td>\n",
       "      <td>5575</td>\n",
       "      <td>300</td>\n",
       "      <td>42</td>\n",
       "      <td>139</td>\n",
       "      <td>383</td>\n",
       "      <td>973</td>\n",
       "      <td>104</td>\n",
       "      <td>641</td>\n",
       "      <td>24.515301</td>\n",
       "      <td>3.73</td>\n",
       "      <td>1.414214</td>\n",
       "      <td>2.828427</td>\n",
       "      <td>7.483315</td>\n",
       "      <td>0.722290</td>\n",
       "      <td>1.632309</td>\n",
       "      <td>-0.336642</td>\n",
       "    </tr>\n",
       "    <tr>\n",
       "      <th>1</th>\n",
       "      <td>83</td>\n",
       "      <td>5467</td>\n",
       "      <td>277</td>\n",
       "      <td>44</td>\n",
       "      <td>156</td>\n",
       "      <td>439</td>\n",
       "      <td>1264</td>\n",
       "      <td>70</td>\n",
       "      <td>700</td>\n",
       "      <td>25.553865</td>\n",
       "      <td>4.07</td>\n",
       "      <td>1.414214</td>\n",
       "      <td>3.464102</td>\n",
       "      <td>6.708204</td>\n",
       "      <td>0.243600</td>\n",
       "      <td>-1.019873</td>\n",
       "      <td>-0.530925</td>\n",
       "    </tr>\n",
       "    <tr>\n",
       "      <th>2</th>\n",
       "      <td>81</td>\n",
       "      <td>5439</td>\n",
       "      <td>303</td>\n",
       "      <td>29</td>\n",
       "      <td>141</td>\n",
       "      <td>533</td>\n",
       "      <td>1157</td>\n",
       "      <td>86</td>\n",
       "      <td>640</td>\n",
       "      <td>24.166092</td>\n",
       "      <td>3.67</td>\n",
       "      <td>3.316625</td>\n",
       "      <td>3.162278</td>\n",
       "      <td>6.164414</td>\n",
       "      <td>-0.267003</td>\n",
       "      <td>-0.097375</td>\n",
       "      <td>-1.342752</td>\n",
       "    </tr>\n",
       "    <tr>\n",
       "      <th>3</th>\n",
       "      <td>76</td>\n",
       "      <td>5533</td>\n",
       "      <td>260</td>\n",
       "      <td>27</td>\n",
       "      <td>136</td>\n",
       "      <td>404</td>\n",
       "      <td>1231</td>\n",
       "      <td>68</td>\n",
       "      <td>701</td>\n",
       "      <td>25.357445</td>\n",
       "      <td>3.98</td>\n",
       "      <td>2.645751</td>\n",
       "      <td>3.000000</td>\n",
       "      <td>6.082763</td>\n",
       "      <td>-1.272251</td>\n",
       "      <td>-0.366437</td>\n",
       "      <td>0.679876</td>\n",
       "    </tr>\n",
       "    <tr>\n",
       "      <th>4</th>\n",
       "      <td>74</td>\n",
       "      <td>5605</td>\n",
       "      <td>289</td>\n",
       "      <td>49</td>\n",
       "      <td>151</td>\n",
       "      <td>455</td>\n",
       "      <td>1259</td>\n",
       "      <td>83</td>\n",
       "      <td>803</td>\n",
       "      <td>27.313001</td>\n",
       "      <td>4.64</td>\n",
       "      <td>2.645751</td>\n",
       "      <td>3.464102</td>\n",
       "      <td>5.916080</td>\n",
       "      <td>0.115949</td>\n",
       "      <td>1.901371</td>\n",
       "      <td>-0.530925</td>\n",
       "    </tr>\n",
       "    <tr>\n",
       "      <th>5</th>\n",
       "      <td>93</td>\n",
       "      <td>5509</td>\n",
       "      <td>308</td>\n",
       "      <td>17</td>\n",
       "      <td>232</td>\n",
       "      <td>570</td>\n",
       "      <td>1151</td>\n",
       "      <td>88</td>\n",
       "      <td>670</td>\n",
       "      <td>24.677925</td>\n",
       "      <td>3.80</td>\n",
       "      <td>2.645751</td>\n",
       "      <td>3.162278</td>\n",
       "      <td>5.830952</td>\n",
       "      <td>2.796612</td>\n",
       "      <td>1.363247</td>\n",
       "      <td>-0.336642</td>\n",
       "    </tr>\n",
       "    <tr>\n",
       "      <th>6</th>\n",
       "      <td>87</td>\n",
       "      <td>5567</td>\n",
       "      <td>272</td>\n",
       "      <td>19</td>\n",
       "      <td>212</td>\n",
       "      <td>554</td>\n",
       "      <td>1227</td>\n",
       "      <td>63</td>\n",
       "      <td>698</td>\n",
       "      <td>25.534291</td>\n",
       "      <td>4.03</td>\n",
       "      <td>1.732051</td>\n",
       "      <td>2.000000</td>\n",
       "      <td>6.928203</td>\n",
       "      <td>1.312674</td>\n",
       "      <td>-0.097375</td>\n",
       "      <td>0.103965</td>\n",
       "    </tr>\n",
       "    <tr>\n",
       "      <th>7</th>\n",
       "      <td>81</td>\n",
       "      <td>5485</td>\n",
       "      <td>246</td>\n",
       "      <td>20</td>\n",
       "      <td>217</td>\n",
       "      <td>418</td>\n",
       "      <td>1331</td>\n",
       "      <td>44</td>\n",
       "      <td>693</td>\n",
       "      <td>25.416530</td>\n",
       "      <td>4.05</td>\n",
       "      <td>0.000000</td>\n",
       "      <td>3.162278</td>\n",
       "      <td>6.557439</td>\n",
       "      <td>0.530814</td>\n",
       "      <td>-0.558624</td>\n",
       "      <td>-1.613361</td>\n",
       "    </tr>\n",
       "    <tr>\n",
       "      <th>8</th>\n",
       "      <td>80</td>\n",
       "      <td>5485</td>\n",
       "      <td>278</td>\n",
       "      <td>32</td>\n",
       "      <td>167</td>\n",
       "      <td>436</td>\n",
       "      <td>1310</td>\n",
       "      <td>87</td>\n",
       "      <td>642</td>\n",
       "      <td>24.576411</td>\n",
       "      <td>3.74</td>\n",
       "      <td>1.000000</td>\n",
       "      <td>3.464102</td>\n",
       "      <td>7.745967</td>\n",
       "      <td>-0.777605</td>\n",
       "      <td>-0.327999</td>\n",
       "      <td>0.260085</td>\n",
       "    </tr>\n",
       "    <tr>\n",
       "      <th>9</th>\n",
       "      <td>78</td>\n",
       "      <td>5640</td>\n",
       "      <td>294</td>\n",
       "      <td>33</td>\n",
       "      <td>161</td>\n",
       "      <td>478</td>\n",
       "      <td>1148</td>\n",
       "      <td>71</td>\n",
       "      <td>753</td>\n",
       "      <td>26.343880</td>\n",
       "      <td>4.31</td>\n",
       "      <td>1.732051</td>\n",
       "      <td>3.162278</td>\n",
       "      <td>6.324555</td>\n",
       "      <td>1.089285</td>\n",
       "      <td>1.593871</td>\n",
       "      <td>0.409267</td>\n",
       "    </tr>\n",
       "    <tr>\n",
       "      <th>10</th>\n",
       "      <td>88</td>\n",
       "      <td>5511</td>\n",
       "      <td>279</td>\n",
       "      <td>32</td>\n",
       "      <td>172</td>\n",
       "      <td>503</td>\n",
       "      <td>1233</td>\n",
       "      <td>101</td>\n",
       "      <td>733</td>\n",
       "      <td>26.076810</td>\n",
       "      <td>4.24</td>\n",
       "      <td>2.236068</td>\n",
       "      <td>3.000000</td>\n",
       "      <td>6.708204</td>\n",
       "      <td>1.137154</td>\n",
       "      <td>0.325437</td>\n",
       "      <td>1.578436</td>\n",
       "    </tr>\n",
       "    <tr>\n",
       "      <th>11</th>\n",
       "      <td>86</td>\n",
       "      <td>5459</td>\n",
       "      <td>278</td>\n",
       "      <td>26</td>\n",
       "      <td>230</td>\n",
       "      <td>486</td>\n",
       "      <td>1392</td>\n",
       "      <td>121</td>\n",
       "      <td>618</td>\n",
       "      <td>23.916521</td>\n",
       "      <td>3.57</td>\n",
       "      <td>2.236068</td>\n",
       "      <td>3.605551</td>\n",
       "      <td>6.244998</td>\n",
       "      <td>0.802071</td>\n",
       "      <td>-0.712373</td>\n",
       "      <td>-0.635006</td>\n",
       "    </tr>\n",
       "    <tr>\n",
       "      <th>12</th>\n",
       "      <td>85</td>\n",
       "      <td>5417</td>\n",
       "      <td>243</td>\n",
       "      <td>21</td>\n",
       "      <td>176</td>\n",
       "      <td>435</td>\n",
       "      <td>1150</td>\n",
       "      <td>52</td>\n",
       "      <td>675</td>\n",
       "      <td>25.099801</td>\n",
       "      <td>3.94</td>\n",
       "      <td>1.414214</td>\n",
       "      <td>3.464102</td>\n",
       "      <td>6.782330</td>\n",
       "      <td>-0.426566</td>\n",
       "      <td>-1.365809</td>\n",
       "      <td>0.103965</td>\n",
       "    </tr>\n",
       "    <tr>\n",
       "      <th>13</th>\n",
       "      <td>76</td>\n",
       "      <td>5544</td>\n",
       "      <td>262</td>\n",
       "      <td>22</td>\n",
       "      <td>198</td>\n",
       "      <td>478</td>\n",
       "      <td>1336</td>\n",
       "      <td>69</td>\n",
       "      <td>726</td>\n",
       "      <td>26.019224</td>\n",
       "      <td>4.16</td>\n",
       "      <td>2.449490</td>\n",
       "      <td>3.464102</td>\n",
       "      <td>6.708204</td>\n",
       "      <td>-0.522304</td>\n",
       "      <td>-0.404874</td>\n",
       "      <td>0.183760</td>\n",
       "    </tr>\n",
       "    <tr>\n",
       "      <th>14</th>\n",
       "      <td>68</td>\n",
       "      <td>5600</td>\n",
       "      <td>277</td>\n",
       "      <td>46</td>\n",
       "      <td>146</td>\n",
       "      <td>475</td>\n",
       "      <td>1119</td>\n",
       "      <td>78</td>\n",
       "      <td>729</td>\n",
       "      <td>25.768197</td>\n",
       "      <td>4.14</td>\n",
       "      <td>2.236068</td>\n",
       "      <td>3.872983</td>\n",
       "      <td>5.291503</td>\n",
       "      <td>0.211687</td>\n",
       "      <td>0.094812</td>\n",
       "      <td>1.831699</td>\n",
       "    </tr>\n",
       "    <tr>\n",
       "      <th>15</th>\n",
       "      <td>100</td>\n",
       "      <td>5484</td>\n",
       "      <td>288</td>\n",
       "      <td>39</td>\n",
       "      <td>137</td>\n",
       "      <td>506</td>\n",
       "      <td>1267</td>\n",
       "      <td>69</td>\n",
       "      <td>525</td>\n",
       "      <td>21.863211</td>\n",
       "      <td>2.94</td>\n",
       "      <td>1.000000</td>\n",
       "      <td>3.872983</td>\n",
       "      <td>7.874008</td>\n",
       "      <td>-0.713780</td>\n",
       "      <td>-0.289562</td>\n",
       "      <td>0.332941</td>\n",
       "    </tr>\n",
       "    <tr>\n",
       "      <th>16</th>\n",
       "      <td>98</td>\n",
       "      <td>5631</td>\n",
       "      <td>292</td>\n",
       "      <td>27</td>\n",
       "      <td>140</td>\n",
       "      <td>461</td>\n",
       "      <td>1322</td>\n",
       "      <td>98</td>\n",
       "      <td>596</td>\n",
       "      <td>23.065125</td>\n",
       "      <td>3.21</td>\n",
       "      <td>0.000000</td>\n",
       "      <td>3.605551</td>\n",
       "      <td>7.348469</td>\n",
       "      <td>0.259556</td>\n",
       "      <td>1.055748</td>\n",
       "      <td>1.692925</td>\n",
       "    </tr>\n",
       "    <tr>\n",
       "      <th>17</th>\n",
       "      <td>97</td>\n",
       "      <td>5491</td>\n",
       "      <td>272</td>\n",
       "      <td>30</td>\n",
       "      <td>171</td>\n",
       "      <td>567</td>\n",
       "      <td>1518</td>\n",
       "      <td>95</td>\n",
       "      <td>608</td>\n",
       "      <td>23.366643</td>\n",
       "      <td>3.36</td>\n",
       "      <td>2.449490</td>\n",
       "      <td>4.582576</td>\n",
       "      <td>6.928203</td>\n",
       "      <td>0.115949</td>\n",
       "      <td>-1.135185</td>\n",
       "      <td>1.231502</td>\n",
       "    </tr>\n",
       "    <tr>\n",
       "      <th>18</th>\n",
       "      <td>68</td>\n",
       "      <td>5480</td>\n",
       "      <td>274</td>\n",
       "      <td>34</td>\n",
       "      <td>145</td>\n",
       "      <td>412</td>\n",
       "      <td>1299</td>\n",
       "      <td>84</td>\n",
       "      <td>737</td>\n",
       "      <td>26.115130</td>\n",
       "      <td>4.28</td>\n",
       "      <td>1.000000</td>\n",
       "      <td>2.645751</td>\n",
       "      <td>6.324555</td>\n",
       "      <td>-0.538260</td>\n",
       "      <td>-0.443312</td>\n",
       "      <td>1.457009</td>\n",
       "    </tr>\n",
       "    <tr>\n",
       "      <th>19</th>\n",
       "      <td>64</td>\n",
       "      <td>5571</td>\n",
       "      <td>257</td>\n",
       "      <td>27</td>\n",
       "      <td>167</td>\n",
       "      <td>496</td>\n",
       "      <td>1255</td>\n",
       "      <td>134</td>\n",
       "      <td>754</td>\n",
       "      <td>26.457513</td>\n",
       "      <td>4.33</td>\n",
       "      <td>1.414214</td>\n",
       "      <td>2.828427</td>\n",
       "      <td>5.916080</td>\n",
       "      <td>-0.857387</td>\n",
       "      <td>-0.366437</td>\n",
       "      <td>-0.152767</td>\n",
       "    </tr>\n",
       "    <tr>\n",
       "      <th>20</th>\n",
       "      <td>90</td>\n",
       "      <td>5527</td>\n",
       "      <td>295</td>\n",
       "      <td>17</td>\n",
       "      <td>177</td>\n",
       "      <td>488</td>\n",
       "      <td>1290</td>\n",
       "      <td>51</td>\n",
       "      <td>613</td>\n",
       "      <td>23.600847</td>\n",
       "      <td>3.43</td>\n",
       "      <td>1.000000</td>\n",
       "      <td>3.741657</td>\n",
       "      <td>7.071068</td>\n",
       "      <td>0.004255</td>\n",
       "      <td>-0.942998</td>\n",
       "      <td>-0.336642</td>\n",
       "    </tr>\n",
       "    <tr>\n",
       "      <th>21</th>\n",
       "      <td>83</td>\n",
       "      <td>5428</td>\n",
       "      <td>265</td>\n",
       "      <td>13</td>\n",
       "      <td>177</td>\n",
       "      <td>539</td>\n",
       "      <td>1344</td>\n",
       "      <td>57</td>\n",
       "      <td>635</td>\n",
       "      <td>24.020824</td>\n",
       "      <td>3.62</td>\n",
       "      <td>2.000000</td>\n",
       "      <td>3.605551</td>\n",
       "      <td>6.403124</td>\n",
       "      <td>0.371251</td>\n",
       "      <td>-0.712373</td>\n",
       "      <td>-0.152767</td>\n",
       "    </tr>\n",
       "    <tr>\n",
       "      <th>22</th>\n",
       "      <td>71</td>\n",
       "      <td>5463</td>\n",
       "      <td>236</td>\n",
       "      <td>40</td>\n",
       "      <td>120</td>\n",
       "      <td>375</td>\n",
       "      <td>1150</td>\n",
       "      <td>112</td>\n",
       "      <td>678</td>\n",
       "      <td>25.258662</td>\n",
       "      <td>4.02</td>\n",
       "      <td>0.000000</td>\n",
       "      <td>3.464102</td>\n",
       "      <td>5.916080</td>\n",
       "      <td>-1.479683</td>\n",
       "      <td>0.325437</td>\n",
       "      <td>-1.613361</td>\n",
       "    </tr>\n",
       "    <tr>\n",
       "      <th>23</th>\n",
       "      <td>67</td>\n",
       "      <td>5420</td>\n",
       "      <td>251</td>\n",
       "      <td>18</td>\n",
       "      <td>100</td>\n",
       "      <td>471</td>\n",
       "      <td>1107</td>\n",
       "      <td>69</td>\n",
       "      <td>760</td>\n",
       "      <td>26.419690</td>\n",
       "      <td>4.41</td>\n",
       "      <td>1.732051</td>\n",
       "      <td>3.162278</td>\n",
       "      <td>6.633250</td>\n",
       "      <td>-2.548757</td>\n",
       "      <td>-0.750811</td>\n",
       "      <td>-0.152767</td>\n",
       "    </tr>\n",
       "    <tr>\n",
       "      <th>24</th>\n",
       "      <td>63</td>\n",
       "      <td>5529</td>\n",
       "      <td>272</td>\n",
       "      <td>37</td>\n",
       "      <td>130</td>\n",
       "      <td>387</td>\n",
       "      <td>1274</td>\n",
       "      <td>88</td>\n",
       "      <td>809</td>\n",
       "      <td>27.367864</td>\n",
       "      <td>4.69</td>\n",
       "      <td>1.000000</td>\n",
       "      <td>2.645751</td>\n",
       "      <td>5.916080</td>\n",
       "      <td>-1.176513</td>\n",
       "      <td>-0.520186</td>\n",
       "      <td>1.498641</td>\n",
       "    </tr>\n",
       "    <tr>\n",
       "      <th>25</th>\n",
       "      <td>92</td>\n",
       "      <td>5385</td>\n",
       "      <td>263</td>\n",
       "      <td>26</td>\n",
       "      <td>187</td>\n",
       "      <td>563</td>\n",
       "      <td>1258</td>\n",
       "      <td>59</td>\n",
       "      <td>595</td>\n",
       "      <td>23.515952</td>\n",
       "      <td>3.44</td>\n",
       "      <td>2.449490</td>\n",
       "      <td>4.582576</td>\n",
       "      <td>6.855655</td>\n",
       "      <td>-0.298915</td>\n",
       "      <td>-1.058310</td>\n",
       "      <td>-1.904786</td>\n",
       "    </tr>\n",
       "    <tr>\n",
       "      <th>26</th>\n",
       "      <td>84</td>\n",
       "      <td>5565</td>\n",
       "      <td>288</td>\n",
       "      <td>39</td>\n",
       "      <td>136</td>\n",
       "      <td>457</td>\n",
       "      <td>1159</td>\n",
       "      <td>93</td>\n",
       "      <td>627</td>\n",
       "      <td>24.433583</td>\n",
       "      <td>3.72</td>\n",
       "      <td>2.645751</td>\n",
       "      <td>4.242641</td>\n",
       "      <td>6.403124</td>\n",
       "      <td>0.243600</td>\n",
       "      <td>1.440122</td>\n",
       "      <td>-1.474587</td>\n",
       "    </tr>\n",
       "    <tr>\n",
       "      <th>27</th>\n",
       "      <td>79</td>\n",
       "      <td>5649</td>\n",
       "      <td>289</td>\n",
       "      <td>48</td>\n",
       "      <td>154</td>\n",
       "      <td>490</td>\n",
       "      <td>1312</td>\n",
       "      <td>132</td>\n",
       "      <td>713</td>\n",
       "      <td>25.670995</td>\n",
       "      <td>4.04</td>\n",
       "      <td>1.000000</td>\n",
       "      <td>3.464102</td>\n",
       "      <td>6.633250</td>\n",
       "      <td>0.658464</td>\n",
       "      <td>1.593871</td>\n",
       "      <td>-0.530925</td>\n",
       "    </tr>\n",
       "    <tr>\n",
       "      <th>28</th>\n",
       "      <td>74</td>\n",
       "      <td>5457</td>\n",
       "      <td>260</td>\n",
       "      <td>36</td>\n",
       "      <td>148</td>\n",
       "      <td>426</td>\n",
       "      <td>1327</td>\n",
       "      <td>82</td>\n",
       "      <td>731</td>\n",
       "      <td>25.592968</td>\n",
       "      <td>4.09</td>\n",
       "      <td>1.000000</td>\n",
       "      <td>2.449490</td>\n",
       "      <td>6.403124</td>\n",
       "      <td>-0.649954</td>\n",
       "      <td>-1.519559</td>\n",
       "      <td>0.020700</td>\n",
       "    </tr>\n",
       "    <tr>\n",
       "      <th>29</th>\n",
       "      <td>68</td>\n",
       "      <td>5572</td>\n",
       "      <td>274</td>\n",
       "      <td>49</td>\n",
       "      <td>186</td>\n",
       "      <td>388</td>\n",
       "      <td>1283</td>\n",
       "      <td>97</td>\n",
       "      <td>844</td>\n",
       "      <td>28.266588</td>\n",
       "      <td>5.04</td>\n",
       "      <td>2.000000</td>\n",
       "      <td>2.000000</td>\n",
       "      <td>6.000000</td>\n",
       "      <td>0.913766</td>\n",
       "      <td>1.363247</td>\n",
       "      <td>0.260085</td>\n",
       "    </tr>\n",
       "  </tbody>\n",
       "</table>\n",
       "</div>"
      ],
      "text/plain": [
       "      W    AB   2B  3B   HR   BB    SO   SB   RA         ER   ERA        CG  \\\n",
       "0    95  5575  300  42  139  383   973  104  641  24.515301  3.73  1.414214   \n",
       "1    83  5467  277  44  156  439  1264   70  700  25.553865  4.07  1.414214   \n",
       "2    81  5439  303  29  141  533  1157   86  640  24.166092  3.67  3.316625   \n",
       "3    76  5533  260  27  136  404  1231   68  701  25.357445  3.98  2.645751   \n",
       "4    74  5605  289  49  151  455  1259   83  803  27.313001  4.64  2.645751   \n",
       "5    93  5509  308  17  232  570  1151   88  670  24.677925  3.80  2.645751   \n",
       "6    87  5567  272  19  212  554  1227   63  698  25.534291  4.03  1.732051   \n",
       "7    81  5485  246  20  217  418  1331   44  693  25.416530  4.05  0.000000   \n",
       "8    80  5485  278  32  167  436  1310   87  642  24.576411  3.74  1.000000   \n",
       "9    78  5640  294  33  161  478  1148   71  753  26.343880  4.31  1.732051   \n",
       "10   88  5511  279  32  172  503  1233  101  733  26.076810  4.24  2.236068   \n",
       "11   86  5459  278  26  230  486  1392  121  618  23.916521  3.57  2.236068   \n",
       "12   85  5417  243  21  176  435  1150   52  675  25.099801  3.94  1.414214   \n",
       "13   76  5544  262  22  198  478  1336   69  726  26.019224  4.16  2.449490   \n",
       "14   68  5600  277  46  146  475  1119   78  729  25.768197  4.14  2.236068   \n",
       "15  100  5484  288  39  137  506  1267   69  525  21.863211  2.94  1.000000   \n",
       "16   98  5631  292  27  140  461  1322   98  596  23.065125  3.21  0.000000   \n",
       "17   97  5491  272  30  171  567  1518   95  608  23.366643  3.36  2.449490   \n",
       "18   68  5480  274  34  145  412  1299   84  737  26.115130  4.28  1.000000   \n",
       "19   64  5571  257  27  167  496  1255  134  754  26.457513  4.33  1.414214   \n",
       "20   90  5527  295  17  177  488  1290   51  613  23.600847  3.43  1.000000   \n",
       "21   83  5428  265  13  177  539  1344   57  635  24.020824  3.62  2.000000   \n",
       "22   71  5463  236  40  120  375  1150  112  678  25.258662  4.02  0.000000   \n",
       "23   67  5420  251  18  100  471  1107   69  760  26.419690  4.41  1.732051   \n",
       "24   63  5529  272  37  130  387  1274   88  809  27.367864  4.69  1.000000   \n",
       "25   92  5385  263  26  187  563  1258   59  595  23.515952  3.44  2.449490   \n",
       "26   84  5565  288  39  136  457  1159   93  627  24.433583  3.72  2.645751   \n",
       "27   79  5649  289  48  154  490  1312  132  713  25.670995  4.04  1.000000   \n",
       "28   74  5457  260  36  148  426  1327   82  731  25.592968  4.09  1.000000   \n",
       "29   68  5572  274  49  186  388  1283   97  844  28.266588  5.04  2.000000   \n",
       "\n",
       "         SHO        SV         R         H         E  \n",
       "0   2.828427  7.483315  0.722290  1.632309 -0.336642  \n",
       "1   3.464102  6.708204  0.243600 -1.019873 -0.530925  \n",
       "2   3.162278  6.164414 -0.267003 -0.097375 -1.342752  \n",
       "3   3.000000  6.082763 -1.272251 -0.366437  0.679876  \n",
       "4   3.464102  5.916080  0.115949  1.901371 -0.530925  \n",
       "5   3.162278  5.830952  2.796612  1.363247 -0.336642  \n",
       "6   2.000000  6.928203  1.312674 -0.097375  0.103965  \n",
       "7   3.162278  6.557439  0.530814 -0.558624 -1.613361  \n",
       "8   3.464102  7.745967 -0.777605 -0.327999  0.260085  \n",
       "9   3.162278  6.324555  1.089285  1.593871  0.409267  \n",
       "10  3.000000  6.708204  1.137154  0.325437  1.578436  \n",
       "11  3.605551  6.244998  0.802071 -0.712373 -0.635006  \n",
       "12  3.464102  6.782330 -0.426566 -1.365809  0.103965  \n",
       "13  3.464102  6.708204 -0.522304 -0.404874  0.183760  \n",
       "14  3.872983  5.291503  0.211687  0.094812  1.831699  \n",
       "15  3.872983  7.874008 -0.713780 -0.289562  0.332941  \n",
       "16  3.605551  7.348469  0.259556  1.055748  1.692925  \n",
       "17  4.582576  6.928203  0.115949 -1.135185  1.231502  \n",
       "18  2.645751  6.324555 -0.538260 -0.443312  1.457009  \n",
       "19  2.828427  5.916080 -0.857387 -0.366437 -0.152767  \n",
       "20  3.741657  7.071068  0.004255 -0.942998 -0.336642  \n",
       "21  3.605551  6.403124  0.371251 -0.712373 -0.152767  \n",
       "22  3.464102  5.916080 -1.479683  0.325437 -1.613361  \n",
       "23  3.162278  6.633250 -2.548757 -0.750811 -0.152767  \n",
       "24  2.645751  5.916080 -1.176513 -0.520186  1.498641  \n",
       "25  4.582576  6.855655 -0.298915 -1.058310 -1.904786  \n",
       "26  4.242641  6.403124  0.243600  1.440122 -1.474587  \n",
       "27  3.464102  6.633250  0.658464  1.593871 -0.530925  \n",
       "28  2.449490  6.403124 -0.649954 -1.519559  0.020700  \n",
       "29  2.000000  6.000000  0.913766  1.363247  0.260085  "
      ]
     },
     "execution_count": 66,
     "metadata": {},
     "output_type": "execute_result"
    }
   ],
   "source": [
    "new_baseball_ds.drop(columns = [\"R\",\"H\",\"E\"],axis =1, inplace= True) # dropping duplicate columns and keeping transformed columns\n",
    "new_baseball_ds.rename(columns ={0:\"R\",1:\"H\",2:\"E\"},inplace= True) # while it has converted by power transform their name has been changed to their index to changing columns name to it name\n",
    "\n",
    "\n",
    "# saving all changes into original variable\n",
    "\n",
    "baseball_ds = new_baseball_ds.copy()"
   ]
  },
  {
   "cell_type": "code",
   "execution_count": 73,
   "metadata": {
    "colab": {
     "base_uri": "https://localhost:8080/",
     "height": 879
    },
    "id": "iimANYZhqrHE",
    "outputId": "eb6a02c1-3a71-4b3c-c099-c7664cfc2728"
   },
   "outputs": [
    {
     "data": {
      "image/png": "[encoded data removed]",
      "text/plain": [
       "<Figure size 1080x1080 with 20 Axes>"
      ]
     },
     "metadata": {
      "needs_background": "light"
     },
     "output_type": "display_data"
    }
   ],
   "source": [
    "baseball_ds.hist(figsize=(15,15));"
   ]
  },
  {
   "cell_type": "markdown",
   "metadata": {},
   "source": [
    "feature seems close to nornal distribtion after correcting the skewness. i have applied np.sqrt and power_transform to the feature for correcting their skewness"
   ]
  },
  {
   "cell_type": "markdown",
   "metadata": {
    "id": "qEN_49t28XqK"
   },
   "source": [
    "# Bivariate analysis"
   ]
  },
  {
   "cell_type": "code",
   "execution_count": 75,
   "metadata": {
    "colab": {
     "base_uri": "https://localhost:8080/",
     "height": 1000
    },
    "id": "ciEqJj3-KKzS",
    "outputId": "e567d764-c62e-4e20-8a32-45e5521e1e6c"
   },
   "outputs": [
    {
     "data": {
      "text/plain": [
       "Text(0.5, 1.0, 'CG wise wins')"
      ]
     },
     "execution_count": 75,
     "metadata": {},
     "output_type": "execute_result"
    },
    {
     "data": {
      "image/png": "[encoded data removed]",
      "text/plain": [
       "<Figure size 1440x1224 with 8 Axes>"
      ]
     },
     "metadata": {
      "needs_background": "light"
     },
     "output_type": "display_data"
    }
   ],
   "source": [
    "# checking some random features' relation with Win. \n",
    "plt.figure(figsize=(20,17))\n",
    "plt.subplot(331)\n",
    "sns.scatterplot(x = \"W\", y = \"R\", data = baseball_ds)\n",
    "plt.title(\"Run wise wins\")\n",
    "\n",
    "plt.subplot(332)\n",
    "sns.scatterplot(x = \"W\", y = \"H\", data = baseball_ds)\n",
    "plt.title(\"H wise wins\")\n",
    "\n",
    "plt.subplot(333)\n",
    "sns.scatterplot(x = \"W\", y = \"SHO\", data = baseball_ds)\n",
    "plt.title(\"SHO wise wins\")\n",
    "\n",
    "plt.subplot(334)\n",
    "sns.scatterplot(x = \"W\", y = \"2B\", data = baseball_ds)\n",
    "plt.title(\"2B wise wins\")\n",
    "\n",
    "plt.subplot(335)\n",
    "sns.scatterplot(x = \"W\", y = \"3B\", data = baseball_ds)\n",
    "plt.title(\"3B wise wins\")\n",
    "\n",
    "plt.subplot(336)\n",
    "sns.scatterplot(x = \"W\", y = \"SV\", data = baseball_ds)\n",
    "plt.title(\"SV wise wins\")\n",
    "\n",
    "plt.subplot(337)\n",
    "sns.scatterplot(x = \"W\", y = \"BB\", data = baseball_ds)\n",
    "plt.title(\"BB wise wins\")\n",
    "\n",
    "plt.subplot(338)\n",
    "sns.scatterplot(x = \"W\", y = \"CG\", data = baseball_ds)\n",
    "plt.title(\"CG wise wins\")"
   ]
  },
  {
   "cell_type": "markdown",
   "metadata": {
    "id": "mbp4pffjQpu2"
   },
   "source": [
    "Run ,SHO SV and BB are looking positive correlation "
   ]
  },
  {
   "cell_type": "code",
   "execution_count": 76,
   "metadata": {
    "colab": {
     "base_uri": "https://localhost:8080/",
     "height": 504
    },
    "id": "bFLEVeT-MJAx",
    "outputId": "e10871d0-6a99-4322-a9de-ba5f4807dad6"
   },
   "outputs": [
    {
     "data": {
      "text/plain": [
       "<matplotlib.axes._subplots.AxesSubplot at 0x151a614a3c8>"
      ]
     },
     "execution_count": 76,
     "metadata": {},
     "output_type": "execute_result"
    },
    {
     "data": {
      "image/png": "[encoded data removed]",
      "text/plain": [
       "<Figure size 1080x576 with 2 Axes>"
      ]
     },
     "metadata": {
      "needs_background": "light"
     },
     "output_type": "display_data"
    }
   ],
   "source": [
    "plt.figure(figsize=(15,8))\n",
    "sns.heatmap(baseball_ds.corr(),annot=True)"
   ]
  },
  {
   "cell_type": "markdown",
   "metadata": {
    "id": "Vf1xFLEK9WZd"
   },
   "source": [
    "Columns SV (Save) BB( Base on balls) ,SHO (Shutout)m R ( Run) and 2B are positive contributing to the response variable,which tell that if these parameters are increased then chances for winning increases.<br> ERA (Earned run average) is highly nagetively correlated  followed by ER ( Earned run) RA ( run Average). <br><br> Since many features are below 70% correction and few are above, i am taking threshold value 70%, above 70% are highly correlated and should be dropped<br><br> ERA , RA and ER, are highly correlated with each other.<br> H and AB are highly correlated with each other <br> CG AB and H have least contribution to predict the win \n",
    "\n"
   ]
  },
  {
   "cell_type": "markdown",
   "metadata": {
    "id": "CjPf7jBPjjQM"
   },
   "source": [
    "# Modeling"
   ]
  },
  {
   "cell_type": "code",
   "execution_count": 77,
   "metadata": {
    "id": "ZIpol6rgq-ZP"
   },
   "outputs": [],
   "source": [
    "# Dropping the most correlated columns \n",
    "baseball_ds = baseball_ds.drop(columns=[\"RA\",\"ER\",\"AB\",\"HR\"]) "
   ]
  },
  {
   "cell_type": "code",
   "execution_count": 78,
   "metadata": {
    "id": "hexjuw9cPYsA"
   },
   "outputs": [],
   "source": [
    "\n",
    "# Seprate the data into train and test\n",
    "\n",
    "X = baseball_ds.drop(\"W\",axis = 1)\n",
    "y = baseball_ds[\"W\"]\n",
    "\n",
    "# assiging some important value to a value for Adjusted R2 score\n",
    "Num_predictor = X.columns\n",
    "n_size  = len(X)\n",
    "\n",
    "# appying Standard scaler on the data to bring all feature at same scale\n",
    "Sc = StandardScaler()\n",
    "X = Sc.fit_transform(X)\n",
    "\n",
    "models = [LinearRegression(),RandomForestRegressor(),AdaBoostRegressor(),GradientBoostingRegressor(),KNeighborsRegressor()]\n"
   ]
  },
  {
   "cell_type": "code",
   "execution_count": 79,
   "metadata": {
    "colab": {
     "base_uri": "https://localhost:8080/"
    },
    "id": "DTsq_19FDRQy",
    "outputId": "f92d6b7a-6cbf-4155-a660-cbca823bdafe"
   },
   "outputs": [
    {
     "name": "stdout",
     "output_type": "stream",
     "text": [
      "training_score : 0.9575970930860026 Random_state 50\n",
      "Test_score :  0.7578493190105782\n",
      "Root_Mean_squared_Error 5.423792412678078\n",
      "Mean_squared_Error 29.41752413582429\n",
      "R2_score 0.7578493190105782 \n",
      "\n",
      "training_score : 0.9383095933092807 Random_state 90\n",
      "Test_score :  0.7438348617208498\n",
      "Root_Mean_squared_Error 5.105369998335433\n",
      "Mean_squared_Error 26.064802819903537\n",
      "R2_score 0.7438348617208498 \n",
      "\n",
      "training_score : 0.937412445523522 Random_state 130\n",
      "Test_score :  0.04128626668479596\n",
      "Root_Mean_squared_Error 6.475240994006102\n",
      "Mean_squared_Error 41.928745930457126\n",
      "R2_score 0.04128626668479596 \n",
      "\n",
      "training_score : 0.9340738400011832 Random_state 170\n",
      "Test_score :  0.7075296179934616\n",
      "Root_Mean_squared_Error 4.992847906389554\n",
      "Mean_squared_Error 24.92853021633855\n",
      "R2_score 0.7075296179934616 \n",
      "\n"
     ]
    }
   ],
   "source": [
    "LR = LinearRegression()\n",
    "for i in range(50,200,40):\n",
    "  X_train,X_test,y_train,y_test = train_test_split(X,y, test_size = 0.25, random_state = i)\n",
    "  LR.fit(X_train,y_train)\n",
    "  print(\"training_score :\",LR.score(X_train,y_train),\"Random_state\", i )\n",
    "  pred = LR.predict(X_test)\n",
    "  print(\"Test_score : \",LR.score(X_test,y_test))\n",
    "  print(\"Root_Mean_squared_Error\",mean_squared_error(y_test,pred,squared=False))\n",
    "  print(\"Mean_squared_Error\",mean_squared_error(y_test,pred))\n",
    "  print(\"R2_score\",r2_score(y_test,pred),\"\\n\")"
   ]
  },
  {
   "cell_type": "code",
   "execution_count": 80,
   "metadata": {
    "id": "hbEYIh44jg8r"
   },
   "outputs": [],
   "source": [
    "from sklearn.linear_model import Lasso, Ridge\n",
    "X_train1,X_test1,y_train1,y_test1 = train_test_split(X,y, test_size = 0.25, random_state = 90)"
   ]
  },
  {
   "cell_type": "code",
   "execution_count": 81,
   "metadata": {
    "colab": {
     "base_uri": "https://localhost:8080/"
    },
    "id": "Cu5HpSKljg5T",
    "outputId": "6e6dd882-2046-4e15-ecc3-438cf3020b94"
   },
   "outputs": [
    {
     "name": "stdout",
     "output_type": "stream",
     "text": [
      "training_score : 0.8732248162306566\n",
      "Test_score :  0.8963565193749327\n",
      "Root_Mean_squared_Error 3.247418074963647\n",
      "Mean_squared_Error 10.545724153600599\n",
      "R2_score 0.8963565193749327\n"
     ]
    }
   ],
   "source": [
    "Las = Lasso(alpha= 1)\n",
    "Las.fit(X_train1,y_train1)\n",
    "print(\"training_score :\",Las.score(X_train1,y_train1))\n",
    "pred = Las.predict(X_test1)\n",
    "print(\"Test_score : \",Las.score(X_test1,y_test1))\n",
    "print(\"Root_Mean_squared_Error\",mean_squared_error(y_test1,pred,squared=False))\n",
    "print(\"Mean_squared_Error\",mean_squared_error(y_test1,pred))\n",
    "print(\"R2_score\",r2_score(y_test1,pred))"
   ]
  },
  {
   "cell_type": "code",
   "execution_count": 82,
   "metadata": {
    "colab": {
     "base_uri": "https://localhost:8080/"
    },
    "id": "pn7y5qjZlife",
    "outputId": "9f4f84de-99e8-4001-9f5e-3b7c7442e83c"
   },
   "outputs": [
    {
     "name": "stdout",
     "output_type": "stream",
     "text": [
      "training_score : 0.93218773402353\n",
      "Test_score :  0.8035924385824933\n",
      "Root_Mean_squared_Error 4.470399241033323\n",
      "Mean_squared_Error 19.98446937423131\n",
      "R2_score 0.8035924385824933\n"
     ]
    }
   ],
   "source": [
    "rig = Ridge(alpha= 1)\n",
    "rig.fit(X_train1,y_train1)\n",
    "print(\"training_score :\" , rig.score(X_train1,y_train1))\n",
    "pred = rig.predict(X_test1)\n",
    "print(\"Test_score : \",rig.score(X_test1,y_test1))\n",
    "print(\"Root_Mean_squared_Error\",mean_squared_error(y_test1,pred,squared=False))\n",
    "print(\"Mean_squared_Error\",mean_squared_error(y_test1,pred))\n",
    "r2 = r2_score(y_test1,pred)\n",
    "print(\"R2_score\",r2_score(y_test1,pred))"
   ]
  },
  {
   "cell_type": "code",
   "execution_count": 83,
   "metadata": {
    "colab": {
     "base_uri": "https://localhost:8080/"
    },
    "id": "WPidsQMyfIIR",
    "outputId": "0e9ae7d5-9bfb-49af-cd23-4d9df334b20d"
   },
   "outputs": [
    {
     "name": "stdout",
     "output_type": "stream",
     "text": [
      "training_score : 0.8750155502437695\n",
      "Test_score :  0.5674651999500604\n",
      "Root_Mean_squared_Error 6.634034662637915\n",
      "Mean_squared_Error 44.01041590508136\n",
      "R2_score 0.5674651999500604\n"
     ]
    }
   ],
   "source": [
    "RR = RandomForestRegressor(n_estimators=300,max_depth=3,max_features= \"sqrt\")\n",
    "RR.fit(X_train1,y_train1)\n",
    "print(\"training_score :\" , RR.score(X_train1,y_train1))\n",
    "pred = RR.predict(X_test1)\n",
    "print(\"Test_score : \",RR.score(X_test1,y_test1))\n",
    "print(\"Root_Mean_squared_Error\",mean_squared_error(y_test1,pred,squared=False))\n",
    "print(\"Mean_squared_Error\",mean_squared_error(y_test1,pred))\n",
    "print(\"R2_score\",r2_score(y_test1,pred))"
   ]
  },
  {
   "cell_type": "code",
   "execution_count": 84,
   "metadata": {
    "colab": {
     "base_uri": "https://localhost:8080/"
    },
    "id": "ZNjfg1-AfnAZ",
    "outputId": "60d1800d-849c-4855-f2fb-1347b1efed54"
   },
   "outputs": [
    {
     "name": "stdout",
     "output_type": "stream",
     "text": [
      "training_score : 0.6045443841803547\n",
      "Test_score :  0.43449631449631454\n",
      "Root_Mean_squared_Error 7.585512507405152\n",
      "Mean_squared_Error 57.54\n",
      "R2_score 0.43449631449631454\n"
     ]
    }
   ],
   "source": [
    "KNR = KNeighborsRegressor()\n",
    "KNR.fit(X_train1,y_train1)\n",
    "print(\"training_score :\" , KNR.score(X_train1,y_train1))\n",
    "pred = KNR.predict(X_test1)\n",
    "print(\"Test_score : \",KNR.score(X_test1,y_test1))\n",
    "print(\"Root_Mean_squared_Error\",mean_squared_error(y_test1,pred,squared=False))\n",
    "print(\"Mean_squared_Error\",mean_squared_error(y_test1,pred))\n",
    "print(\"R2_score\",r2_score(y_test1,pred))"
   ]
  },
  {
   "cell_type": "code",
   "execution_count": 85,
   "metadata": {
    "colab": {
     "base_uri": "https://localhost:8080/"
    },
    "id": "WzzviwPxEeFm",
    "outputId": "2eeab885-bcc2-4e80-afbd-84eeb3cea78d"
   },
   "outputs": [
    {
     "name": "stdout",
     "output_type": "stream",
     "text": [
      "training_score : 0.9951203300807571\n",
      "Test_score :  0.42668994752328104\n",
      "Root_Mean_squared_Error 7.637689299749379\n",
      "Mean_squared_Error 58.334297839506156\n",
      "R2_score 0.42668994752328104\n"
     ]
    }
   ],
   "source": [
    "Adabost = AdaBoostRegressor(n_estimators=200)\n",
    "Adabost.fit(X_train1,y_train1)\n",
    "print(\"training_score :\" , Adabost.score(X_train1,y_train1))\n",
    "pred = Adabost.predict(X_test1)\n",
    "print(\"Test_score : \",Adabost.score(X_test1,y_test1))\n",
    "print(\"Root_Mean_squared_Error\",mean_squared_error(y_test1,pred,squared=False))\n",
    "print(\"Mean_squared_Error\",mean_squared_error(y_test1,pred))\n",
    "print(\"R2_score\",r2_score(y_test1,pred))"
   ]
  },
  {
   "cell_type": "code",
   "execution_count": 86,
   "metadata": {
    "colab": {
     "base_uri": "https://localhost:8080/"
    },
    "id": "tLyfpDBhZyUU",
    "outputId": "b8464395-149e-4558-8390-290370ff86e5"
   },
   "outputs": [
    {
     "name": "stdout",
     "output_type": "stream",
     "text": [
      "training_score : 0.9999999999914655\n",
      "Test_score :  -0.01450362473272837\n",
      "Root_Mean_squared_Error 10.160007077583908\n",
      "Mean_squared_Error 103.22574381655511\n",
      "R2_score -0.01450362473272837\n"
     ]
    }
   ],
   "source": [
    "GradiantBoost = GradientBoostingRegressor(n_estimators=200)\n",
    "GradiantBoost.fit(X_train1,y_train1)\n",
    "print(\"training_score :\" , GradiantBoost.score(X_train1,y_train1))\n",
    "pred = GradiantBoost.predict(X_test1)\n",
    "print(\"Test_score : \",GradiantBoost.score(X_test1,y_test1))\n",
    "print(\"Root_Mean_squared_Error\",mean_squared_error(y_test1,pred,squared=False))\n",
    "print(\"Mean_squared_Error\",mean_squared_error(y_test1,pred))\n",
    "print(\"R2_score\",r2_score(y_test1,pred))"
   ]
  },
  {
   "cell_type": "markdown",
   "metadata": {
    "id": "wZRum-Yjm3Ij"
   },
   "source": [
    "# Observation:<br>\n",
    "Data has been splitted into X and y and it has been standarized as well because saveral columns have different scale. After sepration into x and y, it has been divided into train and test with 0.2 test data and rest are all training data. i have tried multiple model on the same dara to check that which one is working fine. i ahve checked the same with Linear regression first and with multiple random state. it has been observed that random state 170 is giving more accuracy, where train and test score are too close and we can see that there is no overfitting scenario here. I have also tried lasso and ridge regression to improve the performance and we seen that lasso has given few ore point jump in both training and test score. later on, i tried ensemable techinqe and found that their performance is overfit. I have tried KNN regressor also and it has too low score,so finally i have taken lasso as the final model and appying gridsearchCV and cross validation.   "
   ]
  },
  {
   "cell_type": "code",
   "execution_count": 87,
   "metadata": {
    "colab": {
     "base_uri": "https://localhost:8080/"
    },
    "id": "sK2N2Jo6m4UL",
    "outputId": "bb368a63-2ac5-4eae-ecad-9e7aa79e6bd2"
   },
   "outputs": [
    {
     "name": "stdout",
     "output_type": "stream",
     "text": [
      "Fitting 10 folds for each of 5 candidates, totalling 50 fits\n"
     ]
    },
    {
     "name": "stderr",
     "output_type": "stream",
     "text": [
      "[Parallel(n_jobs=-1)]: Using backend LokyBackend with 4 concurrent workers.\n"
     ]
    },
    {
     "name": "stdout",
     "output_type": "stream",
     "text": [
      "{'alpha': 1}\n"
     ]
    },
    {
     "name": "stderr",
     "output_type": "stream",
     "text": [
      "[Parallel(n_jobs=-1)]: Done  34 tasks      | elapsed:    4.0s\n",
      "[Parallel(n_jobs=-1)]: Done  50 out of  50 | elapsed:    4.1s finished\n"
     ]
    }
   ],
   "source": [
    "# taking ridge as the final model\n",
    "parameter = {\"alpha\" : [0.3,0.4,0.5,0.7,1]}\n",
    "grid_lasso = Lasso()\n",
    "\n",
    "grid_search = GridSearchCV(grid_lasso,parameter,scoring = \"neg_mean_squared_error\",cv = 10, n_jobs =-1, verbose = 2) \n",
    "\n",
    "grid_search.fit(X_train1,y_train1)\n",
    "print(grid_search.best_params_)"
   ]
  },
  {
   "cell_type": "code",
   "execution_count": 88,
   "metadata": {
    "colab": {
     "base_uri": "https://localhost:8080/"
    },
    "id": "gsSMBTynzU8S",
    "outputId": "c4228af4-3d5f-4b5d-a559-bd6ab3546f5e"
   },
   "outputs": [
    {
     "name": "stdout",
     "output_type": "stream",
     "text": [
      "2 Mean  0.5432689867168059 STD 0.08427196961137895\n",
      "3 Mean  0.7038658394883788 STD 0.19968733391068447\n",
      "4 Mean  0.8076569512631662 STD 0.08431845814153319\n",
      "5 Mean  0.5639142733434104 STD 0.395221274617481\n",
      "6 Mean  0.6200711496958987 STD 0.3899397120702147\n",
      "7 Mean  0.5511878929823146 STD 0.3756393950807367\n",
      "8 Mean  0.6301081800023645 STD 0.45050689062368066\n",
      "9 Mean  -3.4371542790760046 STD 11.35693235535473\n"
     ]
    }
   ],
   "source": [
    "best_Las = Lasso(alpha= 1)\n",
    "for i in range(2,10):\n",
    "  cross_score = cross_val_score(best_Las,X,y,cv = i)\n",
    "  print(i,\"Mean \",cross_score.mean(),\"STD\",cross_score.std())"
   ]
  },
  {
   "cell_type": "code",
   "execution_count": 89,
   "metadata": {
    "colab": {
     "base_uri": "https://localhost:8080/"
    },
    "id": "n-KCZ5rwPPku",
    "outputId": "966f87c0-45ec-4bf4-959d-5ad443efbec6"
   },
   "outputs": [
    {
     "name": "stdout",
     "output_type": "stream",
     "text": [
      "Mean  0.8076569512631662 STD 0.08431845814153319\n"
     ]
    }
   ],
   "source": [
    "cross_score = cross_val_score(best_Las,X,y,cv = 4)\n",
    "print(\"Mean \",cross_score.mean(),\"STD\",cross_score.std())"
   ]
  },
  {
   "cell_type": "markdown",
   "metadata": {
    "id": "UM9LUzpnIHFy"
   },
   "source": [
    "# Conclusion:-<br>\n",
    "\n",
    "Dataset is very small, has only 30 observations and 17 columns.it has not outlier values. A few columns were skewed. we performed treatment for skewness by applying sqrt transformation. 3 columns' skewness could not be corrected even after applying multiple transformer.<br> i have checked the correlation of the predictors  with target column and found that couple of features were explaining less information, we observed couple of predictors were correlated with each other.i have deleted the those columns, all are expalation given in each sections.<br><br>**Modeling**:- 5 differents model are applied to the datapoint. we seen that Lasso, linear and ridge regressions are working well on the dataset, other ensemble learning are not giving overfitting.<br>\n",
    "Regularization method lasso is working well, have performed Gridseach CV and cross_val_score.\n",
    "\n",
    "\n",
    "\n"
   ]
  },
  {
   "cell_type": "markdown",
   "metadata": {
    "id": "CgLMXZnEapEj"
   },
   "source": [
    "# Model Saving"
   ]
  },
  {
   "cell_type": "code",
   "execution_count": 90,
   "metadata": {
    "id": "sLb2IwuEasd_"
   },
   "outputs": [],
   "source": [
    "import pickle \n",
    "best_lasso = Lasso(alpha = 1)\n",
    "best_lasso.fit(X,y)\n",
    "filename = \"baseball_win.pkl\"\n",
    "with open(filename,\"wb\")as f:\n",
    "  pickle.dump(best_lasso,f)"
   ]
  },
  {
   "cell_type": "code",
   "execution_count": null,
   "metadata": {
    "id": "vc1h-5c4dfCu"
   },
   "outputs": [],
   "source": []
  }
 ],
 "metadata": {
  "colab": {
   "collapsed_sections": [],
   "name": "Baseball match win prediction.ipynb",
   "provenance": []
  },
  "kernelspec": {
   "display_name": "Python 3",
   "language": "python",
   "name": "python3"
  },
  "language_info": {
   "codemirror_mode": {
    "name": "ipython",
    "version": 3
   },
   "file_extension": ".py",
   "mimetype": "text/x-python",
   "name": "python",
   "nbconvert_exporter": "python",
   "pygments_lexer": "ipython3",
   "version": "3.7.3"
  }
 },
 "nbformat": 4,
 "nbformat_minor": 1
}
