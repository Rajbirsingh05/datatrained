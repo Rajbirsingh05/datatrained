{
 "cells": [
  {
   "cell_type": "markdown",
   "metadata": {
    "id": "ikt_CBgl9D7R"
   },
   "source": [
    "# About Wine quality dataset "
   ]
  },
  {
   "cell_type": "markdown",
   "metadata": {
    "id": "PUnc3Gb19D7X"
   },
   "source": [
    "The dataset is related to red and white variants of the Portuguese \"Vinho Verde\" wine. Due to privacy and logistic issues, only physicochemical (inputs) and sensory (the output) variables are available (e.g. there is no data about grape types, wine brand, wine selling price, etc.).\n",
    "\n",
    "This dataset can be viewed as classification task. The classes are ordered and not balanced (e.g. there are many more normal wines than excellent or poor ones).\n",
    "Attribute Information\n",
    "\n",
    "Input variables (based on physicochemical tests):\n",
    "1 - fixed acidity<br>\n",
    "2 - volatile acidity<br>\n",
    "3 - citric acid<br>\n",
    "4 - residual sugar<br>\n",
    "5 - chlorides<br>\n",
    "6 - free sulfur dioxide<br>\n",
    "7 - total sulfur dioxide<br>\n",
    "8 - density<br>\n",
    "9 - pH<br>\n",
    "10 - sulphates<br>\n",
    "11 - alcohol<br>\n",
    "Output variable (based on sensory data):<br>\n",
    "12 - quality (score between 0 and 10)<br>"
   ]
  },
  {
   "cell_type": "markdown",
   "metadata": {
    "id": "2L2El4ml9D7a"
   },
   "source": [
    "# importing  important libraries"
   ]
  },
  {
   "cell_type": "code",
   "execution_count": 1,
   "metadata": {
    "id": "veGDoirF9D7c"
   },
   "outputs": [],
   "source": [
    "import pandas as pd\n",
    "import numpy as np\n",
    "import matplotlib.pyplot as plt\n",
    "import seaborn as sns\n",
    "from scipy.stats import zscore\n",
    "from sklearn.preprocessing import StandardScaler, PowerTransformer\n",
    "from sklearn.tree import DecisionTreeClassifier\n",
    "from sklearn.linear_model import LogisticRegression\n",
    "from sklearn.svm import SVC\n",
    "from sklearn.ensemble import RandomForestClassifier, AdaBoostClassifier\n",
    "from sklearn.metrics import confusion_matrix, classification_report, accuracy_score"
   ]
  },
  {
   "cell_type": "code",
   "execution_count": 2,
   "metadata": {
    "colab": {
     "base_uri": "https://localhost:8080/",
     "height": 215
    },
    "id": "GaOL2Hgj9D7d",
    "outputId": "89f21f68-c2d2-4e77-e306-0dcaa8b7701f",
    "scrolled": true
   },
   "outputs": [
    {
     "data": {
      "text/html": [
       "<div>\n",
       "<style scoped>\n",
       "    .dataframe tbody tr th:only-of-type {\n",
       "        vertical-align: middle;\n",
       "    }\n",
       "\n",
       "    .dataframe tbody tr th {\n",
       "        vertical-align: top;\n",
       "    }\n",
       "\n",
       "    .dataframe thead th {\n",
       "        text-align: right;\n",
       "    }\n",
       "</style>\n",
       "<table border=\"1\" class=\"dataframe\">\n",
       "  <thead>\n",
       "    <tr style=\"text-align: right;\">\n",
       "      <th></th>\n",
       "      <th>fixed acidity</th>\n",
       "      <th>volatile acidity</th>\n",
       "      <th>citric acid</th>\n",
       "      <th>residual sugar</th>\n",
       "      <th>chlorides</th>\n",
       "      <th>free sulfur dioxide</th>\n",
       "      <th>total sulfur dioxide</th>\n",
       "      <th>density</th>\n",
       "      <th>pH</th>\n",
       "      <th>sulphates</th>\n",
       "      <th>alcohol</th>\n",
       "      <th>quality</th>\n",
       "    </tr>\n",
       "  </thead>\n",
       "  <tbody>\n",
       "    <tr>\n",
       "      <th>0</th>\n",
       "      <td>7.4</td>\n",
       "      <td>0.70</td>\n",
       "      <td>0.00</td>\n",
       "      <td>1.9</td>\n",
       "      <td>0.076</td>\n",
       "      <td>11.0</td>\n",
       "      <td>34.0</td>\n",
       "      <td>0.9978</td>\n",
       "      <td>3.51</td>\n",
       "      <td>0.56</td>\n",
       "      <td>9.4</td>\n",
       "      <td>5</td>\n",
       "    </tr>\n",
       "    <tr>\n",
       "      <th>1</th>\n",
       "      <td>7.8</td>\n",
       "      <td>0.88</td>\n",
       "      <td>0.00</td>\n",
       "      <td>2.6</td>\n",
       "      <td>0.098</td>\n",
       "      <td>25.0</td>\n",
       "      <td>67.0</td>\n",
       "      <td>0.9968</td>\n",
       "      <td>3.20</td>\n",
       "      <td>0.68</td>\n",
       "      <td>9.8</td>\n",
       "      <td>5</td>\n",
       "    </tr>\n",
       "    <tr>\n",
       "      <th>2</th>\n",
       "      <td>7.8</td>\n",
       "      <td>0.76</td>\n",
       "      <td>0.04</td>\n",
       "      <td>2.3</td>\n",
       "      <td>0.092</td>\n",
       "      <td>15.0</td>\n",
       "      <td>54.0</td>\n",
       "      <td>0.9970</td>\n",
       "      <td>3.26</td>\n",
       "      <td>0.65</td>\n",
       "      <td>9.8</td>\n",
       "      <td>5</td>\n",
       "    </tr>\n",
       "    <tr>\n",
       "      <th>3</th>\n",
       "      <td>11.2</td>\n",
       "      <td>0.28</td>\n",
       "      <td>0.56</td>\n",
       "      <td>1.9</td>\n",
       "      <td>0.075</td>\n",
       "      <td>17.0</td>\n",
       "      <td>60.0</td>\n",
       "      <td>0.9980</td>\n",
       "      <td>3.16</td>\n",
       "      <td>0.58</td>\n",
       "      <td>9.8</td>\n",
       "      <td>6</td>\n",
       "    </tr>\n",
       "    <tr>\n",
       "      <th>4</th>\n",
       "      <td>7.4</td>\n",
       "      <td>0.70</td>\n",
       "      <td>0.00</td>\n",
       "      <td>1.9</td>\n",
       "      <td>0.076</td>\n",
       "      <td>11.0</td>\n",
       "      <td>34.0</td>\n",
       "      <td>0.9978</td>\n",
       "      <td>3.51</td>\n",
       "      <td>0.56</td>\n",
       "      <td>9.4</td>\n",
       "      <td>5</td>\n",
       "    </tr>\n",
       "  </tbody>\n",
       "</table>\n",
       "</div>"
      ],
      "text/plain": [
       "   fixed acidity  volatile acidity  citric acid  residual sugar  chlorides  \\\n",
       "0            7.4              0.70         0.00             1.9      0.076   \n",
       "1            7.8              0.88         0.00             2.6      0.098   \n",
       "2            7.8              0.76         0.04             2.3      0.092   \n",
       "3           11.2              0.28         0.56             1.9      0.075   \n",
       "4            7.4              0.70         0.00             1.9      0.076   \n",
       "\n",
       "   free sulfur dioxide  total sulfur dioxide  density    pH  sulphates  \\\n",
       "0                 11.0                  34.0   0.9978  3.51       0.56   \n",
       "1                 25.0                  67.0   0.9968  3.20       0.68   \n",
       "2                 15.0                  54.0   0.9970  3.26       0.65   \n",
       "3                 17.0                  60.0   0.9980  3.16       0.58   \n",
       "4                 11.0                  34.0   0.9978  3.51       0.56   \n",
       "\n",
       "   alcohol  quality  \n",
       "0      9.4        5  \n",
       "1      9.8        5  \n",
       "2      9.8        5  \n",
       "3      9.8        6  \n",
       "4      9.4        5  "
      ]
     },
     "execution_count": 2,
     "metadata": {},
     "output_type": "execute_result"
    }
   ],
   "source": [
    "wine_ds = pd.read_csv(\"winedata.csv\")\n",
    "wine_ds.head()"
   ]
  },
  {
   "cell_type": "code",
   "execution_count": 3,
   "metadata": {
    "colab": {
     "base_uri": "https://localhost:8080/"
    },
    "id": "ySO3WcfV9D7f",
    "outputId": "8ca29cf4-782c-4091-aa50-7b722fc7d79b"
   },
   "outputs": [
    {
     "data": {
      "text/plain": [
       "(1599, 12)"
      ]
     },
     "execution_count": 3,
     "metadata": {},
     "output_type": "execute_result"
    }
   ],
   "source": [
    "cp_wine_ds = wine_ds.copy()\n",
    "cp_wine_ds.shape"
   ]
  },
  {
   "cell_type": "markdown",
   "metadata": {
    "id": "P3lKxazz9D7i"
   },
   "source": [
    "**Observation**<br>\n",
    "1. Dataset  has 1599 observations and 12 columns including target column<br>\n",
    "2. Target columns is a categorical features, having rating 0 to 10, 0 to 6 is consider not good and above or equal to 7 is good<br>\n",
    "3. hvae created a copy of the original data just to ensure correctness of the data-( not mandatory do) \n"
   ]
  },
  {
   "cell_type": "code",
   "execution_count": 4,
   "metadata": {
    "colab": {
     "base_uri": "https://localhost:8080/"
    },
    "id": "iwVk8dte9D7j",
    "outputId": "2915664b-65e0-408d-b727-55ef7f625b7a"
   },
   "outputs": [
    {
     "name": "stdout",
     "output_type": "stream",
     "text": [
      "<class 'pandas.core.frame.DataFrame'>\n",
      "RangeIndex: 1599 entries, 0 to 1598\n",
      "Data columns (total 12 columns):\n",
      " #   Column                Non-Null Count  Dtype  \n",
      "---  ------                --------------  -----  \n",
      " 0   fixed acidity         1599 non-null   float64\n",
      " 1   volatile acidity      1599 non-null   float64\n",
      " 2   citric acid           1599 non-null   float64\n",
      " 3   residual sugar        1599 non-null   float64\n",
      " 4   chlorides             1599 non-null   float64\n",
      " 5   free sulfur dioxide   1599 non-null   float64\n",
      " 6   total sulfur dioxide  1599 non-null   float64\n",
      " 7   density               1599 non-null   float64\n",
      " 8   pH                    1599 non-null   float64\n",
      " 9   sulphates             1599 non-null   float64\n",
      " 10  alcohol               1599 non-null   float64\n",
      " 11  quality               1599 non-null   int64  \n",
      "dtypes: float64(11), int64(1)\n",
      "memory usage: 150.0 KB\n"
     ]
    }
   ],
   "source": [
    "cp_wine_ds.info()"
   ]
  },
  {
   "cell_type": "markdown",
   "metadata": {
    "id": "YSmK3UmT9D7l"
   },
   "source": [
    "**Observations**<br>\n",
    "All the columns are float type except quality column which is also target column<br>There is not null value in the dataset"
   ]
  },
  {
   "cell_type": "code",
   "execution_count": 5,
   "metadata": {
    "colab": {
     "base_uri": "https://localhost:8080/",
     "height": 343
    },
    "id": "yuFMGpj29D7m",
    "outputId": "4b3c3496-bdf5-4bca-b3bf-6f2c07fd8645"
   },
   "outputs": [
    {
     "data": {
      "text/html": [
       "<div>\n",
       "<style scoped>\n",
       "    .dataframe tbody tr th:only-of-type {\n",
       "        vertical-align: middle;\n",
       "    }\n",
       "\n",
       "    .dataframe tbody tr th {\n",
       "        vertical-align: top;\n",
       "    }\n",
       "\n",
       "    .dataframe thead th {\n",
       "        text-align: right;\n",
       "    }\n",
       "</style>\n",
       "<table border=\"1\" class=\"dataframe\">\n",
       "  <thead>\n",
       "    <tr style=\"text-align: right;\">\n",
       "      <th></th>\n",
       "      <th>fixed acidity</th>\n",
       "      <th>volatile acidity</th>\n",
       "      <th>citric acid</th>\n",
       "      <th>residual sugar</th>\n",
       "      <th>chlorides</th>\n",
       "      <th>free sulfur dioxide</th>\n",
       "      <th>total sulfur dioxide</th>\n",
       "      <th>density</th>\n",
       "      <th>pH</th>\n",
       "      <th>sulphates</th>\n",
       "      <th>alcohol</th>\n",
       "      <th>quality</th>\n",
       "    </tr>\n",
       "  </thead>\n",
       "  <tbody>\n",
       "    <tr>\n",
       "      <th>count</th>\n",
       "      <td>1599.000000</td>\n",
       "      <td>1599.000000</td>\n",
       "      <td>1599.000000</td>\n",
       "      <td>1599.000000</td>\n",
       "      <td>1599.000000</td>\n",
       "      <td>1599.000000</td>\n",
       "      <td>1599.000000</td>\n",
       "      <td>1599.000000</td>\n",
       "      <td>1599.000000</td>\n",
       "      <td>1599.000000</td>\n",
       "      <td>1599.000000</td>\n",
       "      <td>1599.000000</td>\n",
       "    </tr>\n",
       "    <tr>\n",
       "      <th>mean</th>\n",
       "      <td>8.319637</td>\n",
       "      <td>0.527821</td>\n",
       "      <td>0.270976</td>\n",
       "      <td>2.538806</td>\n",
       "      <td>0.087467</td>\n",
       "      <td>15.874922</td>\n",
       "      <td>46.467792</td>\n",
       "      <td>0.996747</td>\n",
       "      <td>3.311113</td>\n",
       "      <td>0.658149</td>\n",
       "      <td>10.422983</td>\n",
       "      <td>5.636023</td>\n",
       "    </tr>\n",
       "    <tr>\n",
       "      <th>std</th>\n",
       "      <td>1.741096</td>\n",
       "      <td>0.179060</td>\n",
       "      <td>0.194801</td>\n",
       "      <td>1.409928</td>\n",
       "      <td>0.047065</td>\n",
       "      <td>10.460157</td>\n",
       "      <td>32.895324</td>\n",
       "      <td>0.001887</td>\n",
       "      <td>0.154386</td>\n",
       "      <td>0.169507</td>\n",
       "      <td>1.065668</td>\n",
       "      <td>0.807569</td>\n",
       "    </tr>\n",
       "    <tr>\n",
       "      <th>min</th>\n",
       "      <td>4.600000</td>\n",
       "      <td>0.120000</td>\n",
       "      <td>0.000000</td>\n",
       "      <td>0.900000</td>\n",
       "      <td>0.012000</td>\n",
       "      <td>1.000000</td>\n",
       "      <td>6.000000</td>\n",
       "      <td>0.990070</td>\n",
       "      <td>2.740000</td>\n",
       "      <td>0.330000</td>\n",
       "      <td>8.400000</td>\n",
       "      <td>3.000000</td>\n",
       "    </tr>\n",
       "    <tr>\n",
       "      <th>25%</th>\n",
       "      <td>7.100000</td>\n",
       "      <td>0.390000</td>\n",
       "      <td>0.090000</td>\n",
       "      <td>1.900000</td>\n",
       "      <td>0.070000</td>\n",
       "      <td>7.000000</td>\n",
       "      <td>22.000000</td>\n",
       "      <td>0.995600</td>\n",
       "      <td>3.210000</td>\n",
       "      <td>0.550000</td>\n",
       "      <td>9.500000</td>\n",
       "      <td>5.000000</td>\n",
       "    </tr>\n",
       "    <tr>\n",
       "      <th>50%</th>\n",
       "      <td>7.900000</td>\n",
       "      <td>0.520000</td>\n",
       "      <td>0.260000</td>\n",
       "      <td>2.200000</td>\n",
       "      <td>0.079000</td>\n",
       "      <td>14.000000</td>\n",
       "      <td>38.000000</td>\n",
       "      <td>0.996750</td>\n",
       "      <td>3.310000</td>\n",
       "      <td>0.620000</td>\n",
       "      <td>10.200000</td>\n",
       "      <td>6.000000</td>\n",
       "    </tr>\n",
       "    <tr>\n",
       "      <th>75%</th>\n",
       "      <td>9.200000</td>\n",
       "      <td>0.640000</td>\n",
       "      <td>0.420000</td>\n",
       "      <td>2.600000</td>\n",
       "      <td>0.090000</td>\n",
       "      <td>21.000000</td>\n",
       "      <td>62.000000</td>\n",
       "      <td>0.997835</td>\n",
       "      <td>3.400000</td>\n",
       "      <td>0.730000</td>\n",
       "      <td>11.100000</td>\n",
       "      <td>6.000000</td>\n",
       "    </tr>\n",
       "    <tr>\n",
       "      <th>max</th>\n",
       "      <td>15.900000</td>\n",
       "      <td>1.580000</td>\n",
       "      <td>1.000000</td>\n",
       "      <td>15.500000</td>\n",
       "      <td>0.611000</td>\n",
       "      <td>72.000000</td>\n",
       "      <td>289.000000</td>\n",
       "      <td>1.003690</td>\n",
       "      <td>4.010000</td>\n",
       "      <td>2.000000</td>\n",
       "      <td>14.900000</td>\n",
       "      <td>8.000000</td>\n",
       "    </tr>\n",
       "  </tbody>\n",
       "</table>\n",
       "</div>"
      ],
      "text/plain": [
       "       fixed acidity  volatile acidity  citric acid  residual sugar  \\\n",
       "count    1599.000000       1599.000000  1599.000000     1599.000000   \n",
       "mean        8.319637          0.527821     0.270976        2.538806   \n",
       "std         1.741096          0.179060     0.194801        1.409928   \n",
       "min         4.600000          0.120000     0.000000        0.900000   \n",
       "25%         7.100000          0.390000     0.090000        1.900000   \n",
       "50%         7.900000          0.520000     0.260000        2.200000   \n",
       "75%         9.200000          0.640000     0.420000        2.600000   \n",
       "max        15.900000          1.580000     1.000000       15.500000   \n",
       "\n",
       "         chlorides  free sulfur dioxide  total sulfur dioxide      density  \\\n",
       "count  1599.000000          1599.000000           1599.000000  1599.000000   \n",
       "mean      0.087467            15.874922             46.467792     0.996747   \n",
       "std       0.047065            10.460157             32.895324     0.001887   \n",
       "min       0.012000             1.000000              6.000000     0.990070   \n",
       "25%       0.070000             7.000000             22.000000     0.995600   \n",
       "50%       0.079000            14.000000             38.000000     0.996750   \n",
       "75%       0.090000            21.000000             62.000000     0.997835   \n",
       "max       0.611000            72.000000            289.000000     1.003690   \n",
       "\n",
       "                pH    sulphates      alcohol      quality  \n",
       "count  1599.000000  1599.000000  1599.000000  1599.000000  \n",
       "mean      3.311113     0.658149    10.422983     5.636023  \n",
       "std       0.154386     0.169507     1.065668     0.807569  \n",
       "min       2.740000     0.330000     8.400000     3.000000  \n",
       "25%       3.210000     0.550000     9.500000     5.000000  \n",
       "50%       3.310000     0.620000    10.200000     6.000000  \n",
       "75%       3.400000     0.730000    11.100000     6.000000  \n",
       "max       4.010000     2.000000    14.900000     8.000000  "
      ]
     },
     "execution_count": 5,
     "metadata": {},
     "output_type": "execute_result"
    }
   ],
   "source": [
    "# checking descritve analysis\n",
    "cp_wine_ds.describe()"
   ]
  },
  {
   "cell_type": "markdown",
   "metadata": {
    "id": "tMsk2GhF9D7n"
   },
   "source": [
    "**Observation**<br>\n",
    "couple of columns are right skewed and have extreme high values<br>Fixed column is right skewed and max value is out of 3rd standand deviation<br>free sulfur dioxide is right skewed and has extreme value followed by total sulfur dioxide etc.. "
   ]
  },
  {
   "cell_type": "markdown",
   "metadata": {},
   "source": [
    "# Univariate analysis"
   ]
  },
  {
   "cell_type": "code",
   "execution_count": 6,
   "metadata": {
    "colab": {
     "base_uri": "https://localhost:8080/",
     "height": 407
    },
    "id": "ylvS3Pdl9D7o",
    "outputId": "8778a285-bbb2-494b-a31b-4a29cd17c87d"
   },
   "outputs": [
    {
     "name": "stdout",
     "output_type": "stream",
     "text": [
      "5    681\n",
      "6    638\n",
      "7    199\n",
      "4     53\n",
      "8     18\n",
      "3     10\n",
      "Name: quality, dtype: int64\n"
     ]
    },
    {
     "data": {
      "text/plain": [
       "<matplotlib.axes._subplots.AxesSubplot at 0x1f7792b3550>"
      ]
     },
     "execution_count": 6,
     "metadata": {},
     "output_type": "execute_result"
    },
    {
     "data": {
      "image/png": "[encoded data removed]",
      "text/plain": [
       "<Figure size 432x288 with 1 Axes>"
      ]
     },
     "metadata": {
      "needs_background": "light"
     },
     "output_type": "display_data"
    }
   ],
   "source": [
    "# checking the class label\n",
    "print(cp_wine_ds.quality.value_counts())\n",
    "cp_wine_ds.quality.value_counts().sort_values().plot(kind = \"bar\")"
   ]
  },
  {
   "cell_type": "markdown",
   "metadata": {
    "id": "Cxkms-9j9D8f"
   },
   "source": [
    "**Observation**<br>\n",
    "5,6 and 7 quality are  higher in the dataset and contrubutes to 94% of the overall data points "
   ]
  },
  {
   "cell_type": "code",
   "execution_count": 7,
   "metadata": {
    "id": "7mkK7CZb9D8g"
   },
   "outputs": [
    {
     "name": "stdout",
     "output_type": "stream",
     "text": [
      "0    86.429018\n",
      "1    13.570982\n",
      "Name: quality, dtype: float64\n"
     ]
    }
   ],
   "source": [
    "# conveting the class label's multiple value in to binery format\n",
    "# 1 == good wine and 0 == not good wine\n",
    "def convert_class(x):\n",
    "    if x >=7:\n",
    "        return 1\n",
    "    else:\n",
    "        return 0\n",
    "cp_wine_ds[\"quality\"] = cp_wine_ds[\"quality\"].map(convert_class)\n",
    "print(cp_wine_ds[\"quality\"].value_counts()/len(wine_ds)*100)"
   ]
  },
  {
   "cell_type": "markdown",
   "metadata": {
    "id": "O_QaGWhOChmm"
   },
   "source": [
    "**Observation**<br>\n",
    "As per information received that we can merge the class into to make it more easy to understand. it has been converted into 0 and 1 where 0 is not good wine however 1 is good wine."
   ]
  },
  {
   "cell_type": "code",
   "execution_count": 8,
   "metadata": {
    "scrolled": false
   },
   "outputs": [
    {
     "data": {
      "image/png": "[encoded data removed]",
      "text/plain": [
       "<Figure size 1080x720 with 12 Axes>"
      ]
     },
     "metadata": {
      "needs_background": "light"
     },
     "output_type": "display_data"
    }
   ],
   "source": [
    "cp_wine_ds.iloc[:,:-1].hist(figsize = (15,10));"
   ]
  },
  {
   "cell_type": "markdown",
   "metadata": {},
   "source": [
    "**Observation**<br>\n",
    "1. All the the features are right skewed feature<br>\n",
    "2. We will use powertransformer to transform the data \n"
   ]
  },
  {
   "cell_type": "code",
   "execution_count": 9,
   "metadata": {
    "scrolled": false
   },
   "outputs": [
    {
     "data": {
      "text/plain": [
       "fixed acidity            98.275144\n",
       "volatile acidity         67.159257\n",
       "citric acid              31.833730\n",
       "residual sugar          454.065543\n",
       "chlorides               568.034657\n",
       "free sulfur dioxide     125.056729\n",
       "total sulfur dioxide    151.553126\n",
       "density                   7.128766\n",
       "pH                       19.368350\n",
       "sulphates               242.867235\n",
       "alcohol                  86.082881\n",
       "dtype: float64"
      ]
     },
     "execution_count": 9,
     "metadata": {},
     "output_type": "execute_result"
    }
   ],
   "source": [
    "skew = cp_wine_ds.iloc[:,:-1].skew()*100\n",
    "skew"
   ]
  },
  {
   "cell_type": "code",
   "execution_count": null,
   "metadata": {},
   "outputs": [],
   "source": []
  },
  {
   "cell_type": "markdown",
   "metadata": {},
   "source": [
    "fixed acidity,Residual Sugar, chlorides, total sulfer dioxide, free sulfur, sulphates and alcohol are highly right skewed data"
   ]
  },
  {
   "cell_type": "code",
   "execution_count": 10,
   "metadata": {
    "colab": {
     "base_uri": "https://localhost:8080/",
     "height": 487
    },
    "id": "X53FUoUYZHHB",
    "outputId": "3a4057f4-0a79-493d-bb2b-032890cb7170"
   },
   "outputs": [
    {
     "data": {
      "text/plain": [
       "<matplotlib.axes._subplots.AxesSubplot at 0x1f77ba8d668>"
      ]
     },
     "execution_count": 10,
     "metadata": {},
     "output_type": "execute_result"
    },
    {
     "data": {
      "image/png": "[encoded data removed]",
      "text/plain": [
       "<Figure size 1440x576 with 1 Axes>"
      ]
     },
     "metadata": {
      "needs_background": "light"
     },
     "output_type": "display_data"
    }
   ],
   "source": [
    "# since all features are numeric so plotting Boxplot\n",
    "cp_wine_ds.iloc[:,:-1].boxplot(figsize = (20,8)) "
   ]
  },
  {
   "cell_type": "markdown",
   "metadata": {
    "id": "atzwQxz5a-M_"
   },
   "source": [
    "**Observation**<br>\n",
    "We see that, columns have the outlier values,we need to treat it<br>\n",
    "we will treat it with Zscore<br> \n",
    "scale of the columns are different, we will scaler all the feature to bring every feature at same scale"
   ]
  },
  {
   "cell_type": "code",
   "execution_count": 11,
   "metadata": {
    "colab": {
     "base_uri": "https://localhost:8080/"
    },
    "id": "80HxsquwbyVk",
    "outputId": "fef8c5ae-ec16-461d-b93a-36d4074339ef"
   },
   "outputs": [
    {
     "name": "stdout",
     "output_type": "stream",
     "text": [
      "8.818011257035648  Data lose post removal of outlier\n"
     ]
    }
   ],
   "source": [
    "\n",
    "z_score = np.abs(zscore(cp_wine_ds))\n",
    "\n",
    "# keeping only those data point which are smaller or equal to 3 SD away from the mean\n",
    "cp_wine_ds = cp_wine_ds[(z_score <= 3 ).all(axis = 1)] \n",
    "\n",
    "\n",
    "print((len(wine_ds)-len(cp_wine_ds))/len(wine_ds)*100,\" Data lose post removal of outlier\")"
   ]
  },
  {
   "cell_type": "markdown",
   "metadata": {
    "id": "ixnf16OqeJ7v"
   },
   "source": [
    "**Observation**<br>\n",
    "1. we have applied zscore for outlier treatment<br>\n",
    "2. post outlier treatmen, we lost approx 9% data from the original data"
   ]
  },
  {
   "cell_type": "markdown",
   "metadata": {},
   "source": [
    "# Bivariate analysis"
   ]
  },
  {
   "cell_type": "code",
   "execution_count": 12,
   "metadata": {
    "colab": {
     "base_uri": "https://localhost:8080/",
     "height": 589
    },
    "id": "riZG6pUd9D8i",
    "outputId": "a76bb6f9-66eb-4fbc-98dd-59f1080f4733"
   },
   "outputs": [
    {
     "data": {
      "text/plain": [
       "<matplotlib.axes._subplots.AxesSubplot at 0x1f77b7a25f8>"
      ]
     },
     "execution_count": 12,
     "metadata": {},
     "output_type": "execute_result"
    },
    {
     "data": {
      "image/png": "[encoded data removed]",
      "text/plain": [
       "<Figure size 1080x576 with 2 Axes>"
      ]
     },
     "metadata": {
      "needs_background": "light"
     },
     "output_type": "display_data"
    }
   ],
   "source": [
    "plt.figure(figsize=(15,8))\n",
    "sns.heatmap(cp_wine_ds.corr(),annot= True)"
   ]
  },
  {
   "cell_type": "markdown",
   "metadata": {
    "id": "HLCLzKpe9D8m"
   },
   "source": [
    "**Observation**<br>\n",
    "1. Alhocol, sulphate, citric acid, residual sugar and fixed acid have positive correlation<br> \n",
    "2. other features are having negative correlation"
   ]
  },
  {
   "cell_type": "markdown",
   "metadata": {
    "id": "CNZKX6jY9D8n"
   },
   "source": [
    "# Data preparation for model"
   ]
  },
  {
   "cell_type": "code",
   "execution_count": 13,
   "metadata": {},
   "outputs": [],
   "source": [
    "PT = PowerTransformer(method ='yeo-johnson',standardize=False)\n",
    "X = PT.fit_transform(cp_wine_ds.iloc[:,:-1])\n",
    "y = cp_wine_ds[\"quality\"]\n",
    "\n",
    "# Scalling the data\n",
    "\n",
    "sc = StandardScaler() # creating the instance\n",
    "X = sc.fit_transform(X) # transforming X\n",
    "\n",
    "# dividing data into train & test and for that we are train_test_split\n",
    "\n",
    "from sklearn.model_selection import train_test_split\n",
    "X_train,X_test,y_train,y_test = train_test_split(X,y, test_size=0.22, random_state = 155) # faa spliting"
   ]
  },
  {
   "cell_type": "markdown",
   "metadata": {},
   "source": [
    "**Observation**<br>\n",
    "1. Due to lot of skewness in the data, we have used powertransformer to transform the data point.\n",
    "2. post transformation, we scalled all the data point with Standard scaler\n",
    "3. spliting data in train_and test"
   ]
  },
  {
   "cell_type": "markdown",
   "metadata": {
    "id": "jwGA9No19D8s"
   },
   "source": [
    "# Modeling & Evaluations"
   ]
  },
  {
   "cell_type": "code",
   "execution_count": 21,
   "metadata": {
    "colab": {
     "base_uri": "https://localhost:8080/"
    },
    "id": "i5vTqp529D8u",
    "outputId": "b4410771-2645-437b-fb2e-46660c9c87cb"
   },
   "outputs": [
    {
     "name": "stdout",
     "output_type": "stream",
     "text": [
      "Accuracy score LogisticRegression() = 0.881619937694704\n",
      "Classification report LogisticRegression() \n",
      "               precision    recall  f1-score   support\n",
      "\n",
      "           0       0.95      0.92      0.93       289\n",
      "           1       0.43      0.56      0.49        32\n",
      "\n",
      "    accuracy                           0.88       321\n",
      "   macro avg       0.69      0.74      0.71       321\n",
      "weighted avg       0.90      0.88      0.89       321\n",
      "\n",
      "confusion matrix LogisticRegression() \n",
      " [[265  24]\n",
      " [ 14  18]]\n",
      "\n",
      "\n",
      "Accuracy score DecisionTreeClassifier() = 0.8598130841121495\n",
      "Classification report DecisionTreeClassifier() \n",
      "               precision    recall  f1-score   support\n",
      "\n",
      "           0       0.91      0.93      0.92       272\n",
      "           1       0.55      0.47      0.51        49\n",
      "\n",
      "    accuracy                           0.86       321\n",
      "   macro avg       0.73      0.70      0.71       321\n",
      "weighted avg       0.85      0.86      0.86       321\n",
      "\n",
      "confusion matrix DecisionTreeClassifier() \n",
      " [[253  19]\n",
      " [ 26  23]]\n",
      "\n",
      "\n",
      "Accuracy score SVC() = 0.8722741433021807\n",
      "Classification report SVC() \n",
      "               precision    recall  f1-score   support\n",
      "\n",
      "           0       0.96      0.90      0.93       296\n",
      "           1       0.31      0.52      0.39        25\n",
      "\n",
      "    accuracy                           0.87       321\n",
      "   macro avg       0.63      0.71      0.66       321\n",
      "weighted avg       0.91      0.87      0.89       321\n",
      "\n",
      "confusion matrix SVC() \n",
      " [[267  29]\n",
      " [ 12  13]]\n",
      "\n",
      "\n",
      "Accuracy score RandomForestClassifier() = 0.9065420560747663\n",
      "Classification report RandomForestClassifier() \n",
      "               precision    recall  f1-score   support\n",
      "\n",
      "           0       0.96      0.93      0.95       287\n",
      "           1       0.55      0.68      0.61        34\n",
      "\n",
      "    accuracy                           0.91       321\n",
      "   macro avg       0.75      0.81      0.78       321\n",
      "weighted avg       0.92      0.91      0.91       321\n",
      "\n",
      "confusion matrix RandomForestClassifier() \n",
      " [[268  19]\n",
      " [ 11  23]]\n",
      "\n",
      "\n",
      "Accuracy score AdaBoostClassifier() = 0.8722741433021807\n",
      "Classification report AdaBoostClassifier() \n",
      "               precision    recall  f1-score   support\n",
      "\n",
      "           0       0.94      0.91      0.93       288\n",
      "           1       0.40      0.52      0.45        33\n",
      "\n",
      "    accuracy                           0.87       321\n",
      "   macro avg       0.67      0.71      0.69       321\n",
      "weighted avg       0.89      0.87      0.88       321\n",
      "\n",
      "confusion matrix AdaBoostClassifier() \n",
      " [[263  25]\n",
      " [ 16  17]]\n",
      "\n",
      "\n"
     ]
    }
   ],
   "source": [
    "models = [LogisticRegression(),DecisionTreeClassifier(),SVC(),RandomForestClassifier(),AdaBoostClassifier()]\n",
    "\n",
    "for model in models:\n",
    "    model.fit(X_train,y_train)\n",
    "    pred = model.predict(X_test)\n",
    "    print(\"Accuracy score\",model, \"=\",accuracy_score(pred,y_test))\n",
    "    print(\"Classification report\",model,\"\\n\",classification_report(pred,y_test))\n",
    "    print(\"confusion matrix\",model,\"\\n\",confusion_matrix(pred,y_test))\n",
    "    print(\"\\n\")"
   ]
  },
  {
   "cell_type": "markdown",
   "metadata": {
    "id": "0ozcKA_8hoQM"
   },
   "source": [
    "**Observation**<br>\n",
    "1. we have trained data on multiple models<br>\n",
    "2. Randoforest is giving highest accuracy along with good F1 score for both the class<br>\n",
    "3. we are taking Randomforest as a final algorigh for final model building"
   ]
  },
  {
   "cell_type": "markdown",
   "metadata": {},
   "source": [
    "# hyper paramter tuning"
   ]
  },
  {
   "cell_type": "code",
   "execution_count": 15,
   "metadata": {
    "colab": {
     "base_uri": "https://localhost:8080/"
    },
    "id": "L6wKzISO9D8w",
    "outputId": "83871a50-18d5-4166-88d8-223effdd63e1",
    "scrolled": true
   },
   "outputs": [
    {
     "data": {
      "text/plain": [
       "RandomizedSearchCV(estimator=RandomForestClassifier(),\n",
       "                   param_distributions={'criterion': ['gini', 'entropy'],\n",
       "                                        'max_depth': [2, 3, 4, 5],\n",
       "                                        'max_features': ['auto', 'sqrt',\n",
       "                                                         'log2'],\n",
       "                                        'max_samples': [0.2, 0.3, 0.4, 0.5],\n",
       "                                        'min_samples_leaf': [3, 5, 8, 10],\n",
       "                                        'min_samples_split': [2, 4, 6, 8]},\n",
       "                   scoring='accuracy')"
      ]
     },
     "execution_count": 15,
     "metadata": {},
     "output_type": "execute_result"
    }
   ],
   "source": [
    "RF = RandomForestClassifier() # Randomforest instance\n",
    "from sklearn.model_selection import RandomizedSearchCV,cross_val_score\n",
    "\n",
    "# we are checking best parameter which suited most for the model\n",
    "\n",
    "para = {\n",
    "        \"criterion\":[\"gini\",\"entropy\"],\n",
    "        \"max_features\" : [\"auto\", \"sqrt\", \"log2\"],\n",
    "        \"min_samples_split\" :[2,4,6,8], \n",
    "        \"max_depth\" :[2,3,4,5],\n",
    "        \"min_samples_leaf\":[3,5,8,10],\n",
    "        \"max_samples\" :[0.2,0.3,0.4,0.5]\n",
    "}\n",
    "\n",
    "grid = RandomizedSearchCV(RF, para, scoring= \"accuracy\" )\n",
    "\n",
    "grid.fit(X_train,y_train)\n",
    "# pred = RF.predict(X_test)\n",
    "# print(\"Accuracy score \",accuracy_score(pred,y_test))\n",
    "# print(\"\\n\")\n",
    "# print(\"Classification report\\n\",classification_report(pred,y_test))"
   ]
  },
  {
   "cell_type": "code",
   "execution_count": 16,
   "metadata": {
    "colab": {
     "base_uri": "https://localhost:8080/"
    },
    "id": "XDBzuFnNxwoW",
    "outputId": "32a0fc47-e9fc-40d9-8889-09cf25ff454b",
    "scrolled": true
   },
   "outputs": [
    {
     "name": "stdout",
     "output_type": "stream",
     "text": [
      "best- parameter {'min_samples_split': 8, 'min_samples_leaf': 3, 'max_samples': 0.4, 'max_features': 'auto', 'max_depth': 5, 'criterion': 'entropy'}\n",
      "score 0.8944547492078213\n"
     ]
    }
   ],
   "source": [
    "print(\"best- parameter\",grid.best_params_)\n",
    "print(\"score\",grid.best_score_)"
   ]
  },
  {
   "cell_type": "code",
   "execution_count": 22,
   "metadata": {},
   "outputs": [
    {
     "name": "stdout",
     "output_type": "stream",
     "text": [
      "at CV 2 The mean is  0.878600009414866 and the SD is 0.00637992913290775\n",
      "at CV 3 The mean is  0.877227792684649 and the SD is 0.0026220909094226675\n",
      "at CV 4 The mean is  0.8751682907310643 and the SD is 0.0028753072663532317\n",
      "at CV 5 The mean is  0.8786047168479028 and the SD is 0.005031684427809288\n",
      "at CV 6 The mean is  0.8751753518806196 and the SD is 0.0059048766695857175\n"
     ]
    }
   ],
   "source": [
    "best_parameter_RF = RandomForestClassifier(min_samples_split= 8, min_samples_leaf = 3, max_samples =0.4, max_features = 'auto',max_depth = 5, criterion = 'entropy')\n",
    "\n",
    "for i in range(2,7):\n",
    "    cv = cross_val_score(best_parameter_RF,X,y,cv=5)\n",
    "    print(f'at CV {i} The mean is  {cv.mean()} and the SD is {cv.std()}') "
   ]
  },
  {
   "cell_type": "markdown",
   "metadata": {},
   "source": [
    "**Oservation**<br>\n",
    "1. since Randomforest worked well out of all other model, so we have done the hyperparameter tuning to set the best parameter for final model<br>\n",
    "2. have checked the best CV as well that at level of CV is generated the best score and we have found CV 3 is at best"
   ]
  },
  {
   "cell_type": "code",
   "execution_count": 23,
   "metadata": {
    "colab": {
     "base_uri": "https://localhost:8080/"
    },
    "id": "ISqjti_iyFZr",
    "outputId": "81ac50bd-31e5-4cfc-f634-d8adb8c212b6"
   },
   "outputs": [
    {
     "name": "stdout",
     "output_type": "stream",
     "text": [
      "The mean is 0.8792866941015088 and the SD is 0.010801108194803583\n"
     ]
    }
   ],
   "source": [
    "# cross validation\n",
    "cv = cross_val_score(best_parameter_RF,X,y,cv=3)\n",
    "print(f'The mean is {cv.mean()} and the SD is {cv.std()}') "
   ]
  },
  {
   "cell_type": "code",
   "execution_count": 24,
   "metadata": {
    "id": "hyyT_VMg9D8y",
    "outputId": "d0b3c027-21ce-49d5-bb06-65661e8b3f85"
   },
   "outputs": [
    {
     "data": {
      "text/plain": [
       "<BarContainer object of 11 artists>"
      ]
     },
     "execution_count": 24,
     "metadata": {},
     "output_type": "execute_result"
    },
    {
     "data": {
      "image/png": "[encoded data removed]",
      "text/plain": [
       "<Figure size 432x288 with 1 Axes>"
      ]
     },
     "metadata": {
      "needs_background": "light"
     },
     "output_type": "display_data"
    }
   ],
   "source": [
    "# taking the important feature \n",
    "best_parameter_RF.fit(X,y)\n",
    "sort_index = best_parameter_RF.feature_importances_.argsort()\n",
    "plt.barh(wine_ds.iloc[:,:-1].columns[sort_index], best_parameter_RF.feature_importances_[sort_index])"
   ]
  },
  {
   "cell_type": "markdown",
   "metadata": {
    "id": "rVkUe9P49D8z"
   },
   "source": [
    "**Observation**<br>\n",
    "**Top 5 important featuer are below**<br> \n",
    "Alcohol, sulphates,volatile acidity,density and citric acid are major contributor features."
   ]
  },
  {
   "cell_type": "markdown",
   "metadata": {
    "id": "ry0UsAwn9D8z"
   },
   "source": [
    "# Model Saving"
   ]
  },
  {
   "cell_type": "code",
   "execution_count": 26,
   "metadata": {
    "id": "K4LmQeE49D81",
    "outputId": "7a30365a-16fd-416f-d948-70f900b11441"
   },
   "outputs": [],
   "source": [
    "import pickle\n",
    "filename = \"Wine_quality.pkl\"\n",
    "pickle.dump(best_parameter_RF,open(filename,'wb'))"
   ]
  }
 ],
 "metadata": {
  "colab": {
   "name": "Wine-Quality.ipynb",
   "provenance": []
  },
  "kernelspec": {
   "display_name": "Python 3",
   "language": "python",
   "name": "python3"
  },
  "language_info": {
   "codemirror_mode": {
    "name": "ipython",
    "version": 3
   },
   "file_extension": ".py",
   "mimetype": "text/x-python",
   "name": "python",
   "nbconvert_exporter": "python",
   "pygments_lexer": "ipython3",
   "version": "3.7.3"
  }
 },
 "nbformat": 4,
 "nbformat_minor": 1
}
